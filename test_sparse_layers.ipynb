{
 "cells": [
  {
   "cell_type": "code",
   "execution_count": 1,
   "metadata": {},
   "outputs": [],
   "source": [
    "import numpy as np\n",
    "import os\n",
    "import torch\n",
    "from sklearn.externals import joblib\n",
    "\n",
    "from pytorch_utils.datasets import ArrayDataset\n",
    "from pytorch_utils.models import SparseModel, SparseModelEmbed"
   ]
  },
  {
   "cell_type": "code",
   "execution_count": 2,
   "metadata": {},
   "outputs": [],
   "source": [
    "data_path = 'data/'\n",
    "features_path = os.path.join(data_path, 'features', str(0))\n",
    "label_path = os.path.join(data_path, 'labels')"
   ]
  },
  {
   "cell_type": "code",
   "execution_count": 3,
   "metadata": {},
   "outputs": [],
   "source": [
    "device = torch.device(\"cuda\" if torch.cuda.is_available() else \"cpu\")"
   ]
  },
  {
   "cell_type": "code",
   "execution_count": 4,
   "metadata": {},
   "outputs": [],
   "source": [
    "features_dict = joblib.load(os.path.join(features_path, 'features.pkl'))\n",
    "label_dict = joblib.load(os.path.join(label_path, 'label_dict.pkl'))"
   ]
  },
  {
   "cell_type": "code",
   "execution_count": 5,
   "metadata": {},
   "outputs": [],
   "source": [
    "outcome = 'mortality'"
   ]
  },
  {
   "cell_type": "code",
   "execution_count": 6,
   "metadata": {},
   "outputs": [],
   "source": [
    "data_dict = {split: features_dict[split]['features'] for split in features_dict.keys()}\n",
    "outcome_dict = {split : label_dict[split][outcome] for split in label_dict.keys()}"
   ]
  },
  {
   "cell_type": "code",
   "execution_count": 7,
   "metadata": {},
   "outputs": [],
   "source": [
    "config_dict = {\n",
    "    'input_dim' : data_dict['train'].shape[1],\n",
    "    'output_dim' : 2,\n",
    "    'lr' : 1e-3,\n",
    "    'num_epochs' : 5,\n",
    "    'batch_size' : 256,\n",
    "    'iters_per_epoch' : None,\n",
    "}"
   ]
  },
  {
   "cell_type": "code",
   "execution_count": 8,
   "metadata": {},
   "outputs": [],
   "source": [
    "torch.manual_seed(0)\n",
    "torch.backends.cudnn.deterministic = True\n",
    "torch.backends.cudnn.benchmark = False"
   ]
  },
  {
   "cell_type": "code",
   "execution_count": 9,
   "metadata": {},
   "outputs": [
    {
     "name": "stdout",
     "output_type": "stream",
     "text": [
      "Epoch 0/4\n",
      "----------\n",
      "Phase: train:\n",
      " loss: 0.100647,\n",
      " auc: 0.794014, auprc: 0.126140, brier: 0.022207,\n",
      "Phase: val:\n",
      " loss: 0.085385,\n",
      " auc: 0.857317, auprc: 0.176937, brier: 0.020041,\n",
      "Best model updated\n",
      "Epoch 1/4\n",
      "----------\n",
      "Phase: train:\n",
      " loss: 0.058739,\n",
      " auc: 0.954248, auprc: 0.517860, brier: 0.015067,\n",
      "Phase: val:\n",
      " loss: 0.084638,\n",
      " auc: 0.855236, auprc: 0.199238, brier: 0.019530,\n",
      "Best model updated\n",
      "Epoch 2/4\n",
      "----------\n",
      "Phase: train:\n",
      " loss: 0.045392,\n",
      " auc: 0.977849, auprc: 0.701544, brier: 0.011721,\n",
      "Phase: val:\n",
      " loss: 0.086227,\n",
      " auc: 0.852627, auprc: 0.209251, brier: 0.019413,\n",
      "Epoch 3/4\n",
      "----------\n",
      "Phase: train:\n",
      " loss: 0.037646,\n",
      " auc: 0.986539, auprc: 0.794104, brier: 0.009681,\n",
      "Phase: val:\n",
      " loss: 0.089232,\n",
      " auc: 0.845028, auprc: 0.211528, brier: 0.019411,\n",
      "Epoch 4/4\n",
      "----------\n",
      "Phase: train:\n",
      " loss: 0.032327,\n",
      " auc: 0.990809, auprc: 0.849499, brier: 0.008240,\n",
      "Phase: val:\n",
      " loss: 0.093078,\n",
      " auc: 0.836366, auprc: 0.211545, brier: 0.019444,\n",
      "Best val performance: 0.084638\n",
      "CPU times: user 1min 30s, sys: 3.62 s, total: 1min 33s\n",
      "Wall time: 1min 17s\n"
     ]
    }
   ],
   "source": [
    "%%time\n",
    "model = SparseModelEmbed(config_dict)\n",
    "result = model.train(data_dict, outcome_dict)\n",
    "model.predict(data_dict, outcome_dict, keys = ['test'])"
   ]
  },
  {
   "cell_type": "code",
   "execution_count": 10,
   "metadata": {},
   "outputs": [],
   "source": [
    "torch.manual_seed(0)\n",
    "torch.backends.cudnn.deterministic = True\n",
    "torch.backends.cudnn.benchmark = False"
   ]
  },
  {
   "cell_type": "code",
   "execution_count": 11,
   "metadata": {},
   "outputs": [
    {
     "name": "stdout",
     "output_type": "stream",
     "text": [
      "Epoch 0/4\n",
      "----------\n",
      "Phase: train:\n",
      " loss: 0.518347,\n",
      " auc: 0.557648, auprc: 0.028824, brier: 0.071346,\n",
      "Phase: val:\n",
      " loss: 0.324669,\n",
      " auc: 0.640300, auprc: 0.051642, brier: 0.036902,\n",
      "Best model updated\n",
      "Epoch 1/4\n",
      "----------\n",
      "Phase: train:\n",
      " loss: 0.264732,\n",
      " auc: 0.712042, auprc: 0.086046, brier: 0.034242,\n",
      "Phase: val:\n",
      " loss: 0.280925,\n",
      " auc: 0.687636, auprc: 0.069175, brier: 0.032661,\n",
      "Best model updated\n",
      "Epoch 2/4\n",
      "----------\n",
      "Phase: train:\n",
      " loss: 0.203207,\n",
      " auc: 0.777397, auprc: 0.145960, brier: 0.029281,\n",
      "Phase: val:\n",
      " loss: 0.258564,\n",
      " auc: 0.709037, auprc: 0.078001, brier: 0.031472,\n",
      "Best model updated\n",
      "Epoch 3/4\n",
      "----------\n",
      "Phase: train:\n",
      " loss: 0.159498,\n",
      " auc: 0.825505, auprc: 0.221496, brier: 0.025525,\n",
      "Phase: val:\n",
      " loss: 0.242524,\n",
      " auc: 0.724144, auprc: 0.083796, brier: 0.031647,\n",
      "Best model updated\n",
      "Epoch 4/4\n",
      "----------\n",
      "Phase: train:\n",
      " loss: 0.126198,\n",
      " auc: 0.863853, auprc: 0.309469, brier: 0.022100,\n",
      "Phase: val:\n",
      " loss: 0.232096,\n",
      " auc: 0.734766, auprc: 0.087198, brier: 0.031988,\n",
      "Best model updated\n",
      "Best val performance: 0.232096\n",
      "CPU times: user 2min, sys: 10.7 s, total: 2min 11s\n",
      "Wall time: 1min 54s\n"
     ]
    }
   ],
   "source": [
    "%%time\n",
    "model = SparseModel(config_dict)\n",
    "result = model.train(data_dict, outcome_dict)\n",
    "model.predict(data_dict, outcome_dict, keys = ['test'])"
   ]
  },
  {
   "cell_type": "code",
   "execution_count": 12,
   "metadata": {},
   "outputs": [],
   "source": [
    "## Test difference in outputs:\n",
    "model1 = SparseModelEmbed(config_dict)\n",
    "model2 = SparseModel(config_dict)"
   ]
  },
  {
   "cell_type": "code",
   "execution_count": 13,
   "metadata": {},
   "outputs": [],
   "source": [
    "state_dict = model1.model.state_dict()\n",
    "state_dict['weight'] = state_dict['weight.weight']\n",
    "del state_dict['weight.weight']\n",
    "model2.model.load_state_dict(state_dict)"
   ]
  },
  {
   "cell_type": "code",
   "execution_count": 14,
   "metadata": {},
   "outputs": [
    {
     "name": "stdout",
     "output_type": "stream",
     "text": [
      "OrderedDict([('bias', tensor([-0.6653,  0.4984], device='cuda:0')), ('weight.weight', tensor([[ 3.2055e-03, -3.4367e-04],\n",
      "        [ 2.1737e-03, -9.4585e-04],\n",
      "        [ 2.4648e-03, -1.8071e-03],\n",
      "        ...,\n",
      "        [-3.3004e-05, -3.2567e-03],\n",
      "        [-1.3930e-03, -2.3600e-04],\n",
      "        [-2.4835e-04, -3.8410e-03]], device='cuda:0'))])\n",
      "OrderedDict([('weight', tensor([[ 3.2055e-03, -3.4367e-04],\n",
      "        [ 2.1737e-03, -9.4585e-04],\n",
      "        [ 2.4648e-03, -1.8071e-03],\n",
      "        ...,\n",
      "        [-3.3004e-05, -3.2567e-03],\n",
      "        [-1.3930e-03, -2.3600e-04],\n",
      "        [-2.4835e-04, -3.8410e-03]], device='cuda:0')), ('bias', tensor([-0.6653,  0.4984], device='cuda:0'))])\n"
     ]
    }
   ],
   "source": [
    "print(model1.model.state_dict())\n",
    "print(model2.model.state_dict())"
   ]
  },
  {
   "cell_type": "code",
   "execution_count": 15,
   "metadata": {},
   "outputs": [],
   "source": [
    "import copy\n",
    "import torch.nn.functional as F\n",
    "\n",
    "## Get some data\n",
    "num_samples = 1000\n",
    "inputs_model1 = data_dict['train'][:num_samples]\n",
    "labels_model1 = torch.LongTensor(outcome_dict['train'][:num_samples]).to(device)\n",
    "\n",
    "temp = ArrayDataset(inputs_model1)\n",
    "\n",
    "inputs_model2 = temp.csr_to_tensor(copy.deepcopy(inputs_model1)).to(device)\n",
    "labels_model2 = copy.deepcopy(labels_model1)"
   ]
  },
  {
   "cell_type": "code",
   "execution_count": 16,
   "metadata": {},
   "outputs": [],
   "source": [
    "## Forward\n",
    "outputs_model1 = model1.model.forward(inputs_model1)\n",
    "outputs_model2 = model2.model.forward(inputs_model2)"
   ]
  },
  {
   "cell_type": "code",
   "execution_count": 17,
   "metadata": {},
   "outputs": [],
   "source": [
    "loss1 = F.cross_entropy(outputs_model1, labels_model1)\n",
    "loss2 = F.cross_entropy(outputs_model2, labels_model2)"
   ]
  },
  {
   "cell_type": "code",
   "execution_count": 18,
   "metadata": {},
   "outputs": [],
   "source": [
    "loss1.backward()\n",
    "loss2.backward()"
   ]
  },
  {
   "cell_type": "code",
   "execution_count": 19,
   "metadata": {},
   "outputs": [
    {
     "name": "stdout",
     "output_type": "stream",
     "text": [
      "True\n",
      "True\n",
      "True\n",
      "True\n"
     ]
    }
   ],
   "source": [
    "print(np.allclose(outputs_model1.detach().cpu().numpy(), \n",
    "                  outputs_model2.detach().cpu().numpy()))\n",
    "print(np.allclose(loss1.detach().cpu().numpy(), loss2.detach().cpu().numpy()))\n",
    "print(np.allclose(model1.model.weight.weight.grad.detach().cpu().numpy(), \n",
    "                  model2.model.weight.grad.detach().cpu().numpy()))\n",
    "print(np.allclose(model1.model.bias.grad.detach().cpu().numpy(), \n",
    "                  model2.model.bias.grad.detach().cpu().numpy()))"
   ]
  }
 ],
 "metadata": {
  "kernelspec": {
   "display_name": "Python 3",
   "language": "python",
   "name": "python3"
  },
  "language_info": {
   "codemirror_mode": {
    "name": "ipython",
    "version": 3
   },
   "file_extension": ".py",
   "mimetype": "text/x-python",
   "name": "python",
   "nbconvert_exporter": "python",
   "pygments_lexer": "ipython3",
   "version": "3.6.7"
  }
 },
 "nbformat": 4,
 "nbformat_minor": 2
}
