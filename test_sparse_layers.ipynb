{
 "cells": [
  {
   "cell_type": "code",
   "execution_count": 1,
   "metadata": {},
   "outputs": [],
   "source": [
    "import numpy as np\n",
    "import os\n",
    "import torch\n",
    "from sklearn.externals import joblib\n",
    "\n",
    "from pytorch_utils.datasets import ArrayDataset\n",
    "from pytorch_utils.models import SparseModel, SparseModelEmbed\n",
    "import pytorch_utils"
   ]
  },
  {
   "cell_type": "code",
   "execution_count": 2,
   "metadata": {},
   "outputs": [],
   "source": [
    "data_path = 'data/'\n",
    "features_path = os.path.join(data_path, 'features', str(0))\n",
    "label_path = os.path.join(data_path, 'labels')"
   ]
  },
  {
   "cell_type": "code",
   "execution_count": 3,
   "metadata": {},
   "outputs": [],
   "source": [
    "device = torch.device(\"cuda\" if torch.cuda.is_available() else \"cpu\")"
   ]
  },
  {
   "cell_type": "code",
   "execution_count": 4,
   "metadata": {},
   "outputs": [],
   "source": [
    "features_dict = joblib.load(os.path.join(features_path, 'features.pkl'))\n",
    "label_dict = joblib.load(os.path.join(label_path, 'label_dict.pkl'))"
   ]
  },
  {
   "cell_type": "code",
   "execution_count": 5,
   "metadata": {},
   "outputs": [],
   "source": [
    "outcome = 'mortality'"
   ]
  },
  {
   "cell_type": "code",
   "execution_count": 6,
   "metadata": {},
   "outputs": [],
   "source": [
    "data_dict = {split: features_dict[split]['features'] for split in features_dict.keys()}\n",
    "outcome_dict = {split : label_dict[split][outcome] for split in label_dict.keys()}"
   ]
  },
  {
   "cell_type": "code",
   "execution_count": 7,
   "metadata": {},
   "outputs": [],
   "source": [
    "config_dict = {\n",
    "    'input_dim' : data_dict['train'].shape[1],\n",
    "    'output_dim' : 2,\n",
    "    'lr' : 1e-3,\n",
    "    'num_epochs' : 3,\n",
    "    'batch_size' : 256,\n",
    "    'iters_per_epoch' : None\n",
    "}"
   ]
  },
  {
   "cell_type": "code",
   "execution_count": 8,
   "metadata": {},
   "outputs": [
    {
     "data": {
      "text/plain": [
       "{'train': <1000x368117 sparse matrix of type '<class 'numpy.float32'>'\n",
       " \twith 285517 stored elements in Compressed Sparse Row format>,\n",
       " 'test': <12963x368117 sparse matrix of type '<class 'numpy.float32'>'\n",
       " \twith 3694263 stored elements in Compressed Sparse Row format>,\n",
       " 'val': <12964x368117 sparse matrix of type '<class 'numpy.float32'>'\n",
       " \twith 3668580 stored elements in Compressed Sparse Row format>}"
      ]
     },
     "execution_count": 8,
     "metadata": {},
     "output_type": "execute_result"
    }
   ],
   "source": [
    "num_samples = 1000\n",
    "small_data_dict = {key: data_dict[key][:num_samples] if key == 'train' else data_dict[key] for key in data_dict.keys()}\n",
    "small_outcome_dict = {key: outcome_dict[key][:num_samples] if key == 'train' else outcome_dict[key] for key in data_dict.keys()}\n",
    "small_data_dict"
   ]
  },
  {
   "cell_type": "code",
   "execution_count": 9,
   "metadata": {},
   "outputs": [
    {
     "name": "stdout",
     "output_type": "stream",
     "text": [
      "Epoch 0/2\n",
      "----------\n",
      "Phase: train:\n",
      " loss: 0.101979,\n",
      " auc: 0.790042, auprc: 0.121907, brier: 0.022461,\n",
      "Phase: val:\n",
      " loss: 0.085918,\n",
      " auc: 0.854748, auprc: 0.173890, brier: 0.020091,\n",
      "Best model updated\n",
      "Epoch 1/2\n",
      "----------\n",
      "Phase: train:\n",
      " loss: 0.059117,\n",
      " auc: 0.953227, auprc: 0.513295, brier: 0.015136,\n",
      "Phase: val:\n",
      " loss: 0.084807,\n",
      " auc: 0.854411, auprc: 0.197855, brier: 0.019558,\n",
      "Best model updated\n",
      "Epoch 2/2\n",
      "----------\n",
      "Phase: train:\n",
      " loss: 0.045614,\n",
      " auc: 0.977480, auprc: 0.698895, brier: 0.011768,\n",
      "Phase: val:\n",
      " loss: 0.086255,\n",
      " auc: 0.852349, auprc: 0.209351, brier: 0.019425,\n",
      "Best val performance: 0.084807\n",
      "({'test': {'outputs': array([[ 1.9271259 , -1.6779692 ],\n",
      "       [ 3.256986  , -2.981594  ],\n",
      "       [ 3.3569183 , -3.0938375 ],\n",
      "       ...,\n",
      "       [ 1.4305469 , -1.184189  ],\n",
      "       [ 0.64315784, -0.35853004],\n",
      "       [ 3.1437624 , -2.893929  ]], dtype=float32), 'pred_probs': array([[0.9735346 , 0.0264654 ],\n",
      "       [0.99805117, 0.00194882],\n",
      "       [0.9984232 , 0.00157684],\n",
      "       ...,\n",
      "       [0.93180394, 0.06819604],\n",
      "       [0.7313903 , 0.2686097 ],\n",
      "       [0.9976186 , 0.00238138]], dtype=float32), 'labels': array([0, 0, 0, ..., 0, 0, 0])}}, {'test': {'auc': [0.8461617501423904], 'auprc': [0.2248992909927168], 'brier': [0.020677359673173377], 'loss': [0.09570531291412372]}})\n",
      "CPU times: user 53.3 s, sys: 2.63 s, total: 55.9 s\n",
      "Wall time: 46 s\n"
     ]
    }
   ],
   "source": [
    "%%time\n",
    "torch.manual_seed(0)\n",
    "torch.backends.cudnn.deterministic = True\n",
    "torch.backends.cudnn.benchmark = False\n",
    "model1 = SparseModelEmbed(config_dict)\n",
    "result1 = model1.train(data_dict, outcome_dict)\n",
    "# result = model.train(small_data_dict, small_outcome_dict)\n",
    "print(model1.predict(data_dict, outcome_dict, keys = ['test']))"
   ]
  },
  {
   "cell_type": "code",
   "execution_count": 10,
   "metadata": {
    "scrolled": false
   },
   "outputs": [
    {
     "name": "stdout",
     "output_type": "stream",
     "text": [
      "Epoch 0/2\n",
      "----------\n",
      "Phase: train:\n",
      " loss: 0.116151,\n",
      " auc: 0.755395, auprc: 0.088173, brier: 0.025765,\n",
      "Phase: val:\n",
      " loss: 0.090624,\n",
      " auc: 0.835400, auprc: 0.145769, brier: 0.020806,\n",
      "Best model updated\n",
      "Epoch 1/2\n",
      "----------\n",
      "Phase: train:\n",
      " loss: 0.063015,\n",
      " auc: 0.942981, auprc: 0.462766, brier: 0.015970,\n",
      "Phase: val:\n",
      " loss: 0.087119,\n",
      " auc: 0.846306, auprc: 0.178966, brier: 0.020002,\n",
      "Best model updated\n",
      "Epoch 2/2\n",
      "----------\n",
      "Phase: train:\n",
      " loss: 0.047944,\n",
      " auc: 0.973369, auprc: 0.669487, brier: 0.012277,\n",
      "Phase: val:\n",
      " loss: 0.087486,\n",
      " auc: 0.847393, auprc: 0.197522, brier: 0.019704,\n",
      "Best val performance: 0.087119\n",
      "({'test': {'outputs': array([[ 1.8706224 , -1.24862   ],\n",
      "       [ 3.4919553 , -2.7763348 ],\n",
      "       [ 3.6205487 , -2.983833  ],\n",
      "       ...,\n",
      "       [ 1.6864917 , -1.115145  ],\n",
      "       [ 0.69924116, -0.07837975],\n",
      "       [ 3.276644  , -2.7013903 ]], dtype=float32), 'pred_probs': array([[0.9576795 , 0.04232046],\n",
      "       [0.99810815, 0.00189188],\n",
      "       [0.9986474 , 0.00135259],\n",
      "       ...,\n",
      "       [0.94276416, 0.05723579],\n",
      "       [0.68516713, 0.31483284],\n",
      "       [0.9974726 , 0.0025274 ]], dtype=float32), 'labels': array([0, 0, 0, ..., 0, 0, 0])}}, {'test': {'auc': [0.8408897207099498], 'auprc': [0.21206982310893233], 'brier': [0.02098511386546266], 'loss': [0.09679718027073964]}})\n",
      "CPU times: user 1min 12s, sys: 6.45 s, total: 1min 18s\n",
      "Wall time: 1min 8s\n"
     ]
    }
   ],
   "source": [
    "%%time\n",
    "torch.manual_seed(0)\n",
    "torch.backends.cudnn.deterministic = True\n",
    "torch.backends.cudnn.benchmark = False\n",
    "\n",
    "model2 = SparseModel(config_dict)\n",
    "result2 = model2.train(data_dict, outcome_dict)\n",
    "# result = model.train(small_data_dict, small_outcome_dict)\n",
    "print(model2.predict(data_dict, outcome_dict, keys = ['test']))"
   ]
  }
 ],
 "metadata": {
  "kernelspec": {
   "display_name": "Python 3",
   "language": "python",
   "name": "python3"
  },
  "language_info": {
   "codemirror_mode": {
    "name": "ipython",
    "version": 3
   },
   "file_extension": ".py",
   "mimetype": "text/x-python",
   "name": "python",
   "nbconvert_exporter": "python",
   "pygments_lexer": "ipython3",
   "version": "3.6.7"
  }
 },
 "nbformat": 4,
 "nbformat_minor": 2
}
