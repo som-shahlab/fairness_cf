{
 "cells": [
  {
   "cell_type": "code",
   "execution_count": 1,
   "metadata": {},
   "outputs": [],
   "source": [
    "import numpy as np\n",
    "import os\n",
    "import torch\n",
    "import pandas as pd\n",
    "import yaml\n",
    "\n",
    "from sklearn.externals import joblib\n",
    "\n",
    "from pytorch_utils.datasets import ArrayDataset\n",
    "from pytorch_utils.models import FeedforwardNetModel\n",
    "import pytorch_utils"
   ]
  },
  {
   "cell_type": "code",
   "execution_count": 2,
   "metadata": {},
   "outputs": [],
   "source": [
    "outcome = 'los'\n",
    "\n",
    "data_path = 'data/'\n",
    "features_path = os.path.join(data_path, 'features', str(0))\n",
    "label_path = os.path.join(data_path, 'labels')\n",
    "config_path = os.path.join(data_path, 'config', 'grid', 'baseline')\n",
    "checkpoints_path = os.path.join(data_path, 'checkpoints', 'scratch', outcome)\n",
    "performance_path = os.path.join(data_path, 'performance', 'scratch', outcome)"
   ]
  },
  {
   "cell_type": "code",
   "execution_count": 3,
   "metadata": {},
   "outputs": [],
   "source": [
    "os.makedirs(checkpoints_path, exist_ok=True)\n",
    "os.makedirs(performance_path, exist_ok=True)"
   ]
  },
  {
   "cell_type": "code",
   "execution_count": 4,
   "metadata": {},
   "outputs": [],
   "source": [
    "device = torch.device(\"cuda\" if torch.cuda.is_available() else \"cpu\")"
   ]
  },
  {
   "cell_type": "code",
   "execution_count": 5,
   "metadata": {},
   "outputs": [],
   "source": [
    "features_dict = joblib.load(os.path.join(features_path, 'features.pkl'))\n",
    "label_dict = joblib.load(os.path.join(label_path, 'label_dict.pkl'))"
   ]
  },
  {
   "cell_type": "code",
   "execution_count": 6,
   "metadata": {},
   "outputs": [],
   "source": [
    "grid_element = 1"
   ]
  },
  {
   "cell_type": "code",
   "execution_count": 7,
   "metadata": {},
   "outputs": [],
   "source": [
    "data_dict = {split: features_dict[split]['features'] for split in features_dict.keys()}\n",
    "outcome_dict = {split : label_dict[split][outcome] for split in label_dict.keys()}"
   ]
  },
  {
   "cell_type": "code",
   "execution_count": 8,
   "metadata": {},
   "outputs": [],
   "source": [
    "# with open(os.path.join(config_path, '{}.yaml'.format(grid_element)), 'r') as fp:\n",
    "#     config_dict = yaml.load(fp)\n",
    "    \n",
    "# config_dict['num_epochs'] = 3 # For testing\n",
    "\n",
    "## A more complex network\n",
    "# config_dict = {\n",
    "#     'input_dim' : data_dict['train'].shape[1],\n",
    "#     'lr' : 1e-5,\n",
    "#     'num_epochs' : 20,\n",
    "#     'batch_size' : 256,\n",
    "#     'hidden_dim' : 128,\n",
    "#     'num_hidden' : 1,\n",
    "#     'output_dim' : 2,\n",
    "#     'drop_prob' : 0.5,\n",
    "#     'normalize' : True,\n",
    "#     'iters_per_epoch' : 100,\n",
    "#     'gamma' : 0.99,\n",
    "#     'resnet' : True,\n",
    "#     'sparse' : True,\n",
    "#     'sparse_mode' : 'binary'\n",
    "# }\n",
    "\n",
    "## Logistic Regression\n",
    "config_dict = {\n",
    "    'input_dim' : data_dict['train'].shape[1],\n",
    "    'lr' : 1e-5,\n",
    "    'num_epochs' : 20,\n",
    "    'batch_size' : 256,\n",
    "    'hidden_dim' : 128,\n",
    "    'num_hidden' : 0,\n",
    "    'output_dim' : 2,\n",
    "    'drop_prob' : 0.0,\n",
    "    'normalize' : False,\n",
    "    'iters_per_epoch' : 100,\n",
    "    'gamma' : 0.99,\n",
    "    'resnet' : False,\n",
    "    'sparse' : True,\n",
    "    'sparse_mode' : 'binary'\n",
    "}"
   ]
  },
  {
   "cell_type": "code",
   "execution_count": 9,
   "metadata": {},
   "outputs": [
    {
     "data": {
      "text/plain": [
       "{'input_dim': 368117,\n",
       " 'lr': 1e-05,\n",
       " 'num_epochs': 20,\n",
       " 'batch_size': 256,\n",
       " 'hidden_dim': 128,\n",
       " 'num_hidden': 0,\n",
       " 'output_dim': 2,\n",
       " 'drop_prob': 0.0,\n",
       " 'normalize': False,\n",
       " 'iters_per_epoch': 100,\n",
       " 'gamma': 0.99,\n",
       " 'resnet': False,\n",
       " 'sparse': True,\n",
       " 'sparse_mode': 'binary'}"
      ]
     },
     "execution_count": 9,
     "metadata": {},
     "output_type": "execute_result"
    }
   ],
   "source": [
    "config_dict"
   ]
  },
  {
   "cell_type": "code",
   "execution_count": 10,
   "metadata": {},
   "outputs": [],
   "source": [
    "model = FeedforwardNetModel(config_dict)"
   ]
  },
  {
   "cell_type": "code",
   "execution_count": 11,
   "metadata": {},
   "outputs": [
    {
     "name": "stdout",
     "output_type": "stream",
     "text": [
      "LinearLayerWrapper(\n",
      "  (linear): EmbeddingBagLinear(\n",
      "    in_features=368117, out_features=2, bias=True\n",
      "    (embed): EmbeddingBag(368117, 2, mode=sum)\n",
      "  )\n",
      ")\n",
      "ModuleList(\n",
      "  (0): LinearLayerWrapper(\n",
      "    (linear): EmbeddingBagLinear(\n",
      "      in_features=368117, out_features=2, bias=True\n",
      "      (embed): EmbeddingBag(368117, 2, mode=sum)\n",
      "    )\n",
      "  )\n",
      ")\n"
     ]
    }
   ],
   "source": [
    "for child in model.model.children():\n",
    "    print(child)"
   ]
  },
  {
   "cell_type": "code",
   "execution_count": 12,
   "metadata": {},
   "outputs": [
    {
     "name": "stdout",
     "output_type": "stream",
     "text": [
      "Epoch 0/19\n",
      "----------\n",
      "Phase: train:\n",
      " loss: 0.525749,\n",
      " auc: 0.568305, auprc: 0.242586, brier: 0.170020,\n",
      "Phase: val:\n",
      " loss: 0.513886,\n",
      " auc: 0.615560, auprc: 0.311554, brier: 0.165039,\n",
      "Best model updated\n",
      "Epoch 1/19\n",
      "----------\n",
      "Phase: train:\n",
      " loss: 0.505149,\n",
      " auc: 0.650494, auprc: 0.347303, brier: 0.161898,\n",
      "Phase: val:\n",
      " loss: 0.497735,\n",
      " auc: 0.671225, auprc: 0.371098, brier: 0.158867,\n",
      "Best model updated\n",
      "Epoch 2/19\n",
      "----------\n",
      "Phase: train:\n",
      " loss: 0.487446,\n",
      " auc: 0.701484, auprc: 0.405082, brier: 0.155131,\n",
      "Phase: val:\n",
      " loss: 0.485753,\n",
      " auc: 0.704719, auprc: 0.399489, brier: 0.154498,\n",
      "Best model updated\n",
      "Epoch 3/19\n",
      "----------\n",
      "Phase: train:\n",
      " loss: 0.483347,\n",
      " auc: 0.729702, auprc: 0.440197, brier: 0.154256,\n",
      "Phase: val:\n",
      " loss: 0.476673,\n",
      " auc: 0.729497, auprc: 0.417532, brier: 0.151234,\n",
      "Best model updated\n",
      "Epoch 4/19\n",
      "----------\n",
      "Phase: train:\n",
      " loss: 0.472264,\n",
      " auc: 0.747419, auprc: 0.447539, brier: 0.150242,\n",
      "Phase: val:\n",
      " loss: 0.469392,\n",
      " auc: 0.742043, auprc: 0.425944, brier: 0.148702,\n",
      "Best model updated\n",
      "Epoch 5/19\n",
      "----------\n",
      "Phase: train:\n",
      " loss: 0.466089,\n",
      " auc: 0.753457, auprc: 0.453756, brier: 0.148040,\n",
      "Phase: val:\n",
      " loss: 0.463442,\n",
      " auc: 0.750250, auprc: 0.431963, brier: 0.146685,\n",
      "Best model updated\n",
      "Epoch 6/19\n",
      "----------\n",
      "Phase: train:\n",
      " loss: 0.458848,\n",
      " auc: 0.765173, auprc: 0.460484, brier: 0.145500,\n",
      "Phase: val:\n",
      " loss: 0.458413,\n",
      " auc: 0.756502, auprc: 0.436003, brier: 0.145027,\n",
      "Best model updated\n",
      "Epoch 7/19\n",
      "----------\n",
      "Phase: train:\n",
      " loss: 0.451343,\n",
      " auc: 0.769455, auprc: 0.462678, brier: 0.142738,\n",
      "Phase: val:\n",
      " loss: 0.454040,\n",
      " auc: 0.759995, auprc: 0.439813, brier: 0.143621,\n",
      "Best model updated\n",
      "Epoch 8/19\n",
      "----------\n",
      "Phase: train:\n",
      " loss: 0.449928,\n",
      " auc: 0.771917, auprc: 0.466404, brier: 0.142706,\n",
      "Phase: val:\n",
      " loss: 0.450298,\n",
      " auc: 0.765002, auprc: 0.443329, brier: 0.142375,\n",
      "Best model updated\n",
      "Epoch 9/19\n",
      "----------\n",
      "Phase: train:\n",
      " loss: 0.444508,\n",
      " auc: 0.776605, auprc: 0.481855, brier: 0.140531,\n",
      "Phase: val:\n",
      " loss: 0.447031,\n",
      " auc: 0.769469, auprc: 0.445154, brier: 0.141299,\n",
      "Best model updated\n",
      "Epoch 10/19\n",
      "----------\n",
      "Phase: train:\n",
      " loss: 0.441515,\n",
      " auc: 0.779902, auprc: 0.467775, brier: 0.139836,\n",
      "Phase: val:\n",
      " loss: 0.443958,\n",
      " auc: 0.772227, auprc: 0.448198, brier: 0.140336,\n",
      "Best model updated\n",
      "Epoch 11/19\n",
      "----------\n",
      "Phase: train:\n",
      " loss: 0.435065,\n",
      " auc: 0.787568, auprc: 0.481409, brier: 0.137385,\n",
      "Phase: val:\n",
      " loss: 0.441276,\n",
      " auc: 0.775170, auprc: 0.450092, brier: 0.139482,\n",
      "Best model updated\n",
      "Epoch 12/19\n",
      "----------\n",
      "Phase: train:\n",
      " loss: 0.432001,\n",
      " auc: 0.787138, auprc: 0.470701, brier: 0.136423,\n",
      "Phase: val:\n",
      " loss: 0.438755,\n",
      " auc: 0.775789, auprc: 0.453521, brier: 0.138760,\n",
      "Best model updated\n",
      "Epoch 13/19\n",
      "----------\n",
      "Phase: train:\n",
      " loss: 0.435836,\n",
      " auc: 0.787995, auprc: 0.477454, brier: 0.138334,\n",
      "Phase: val:\n",
      " loss: 0.436578,\n",
      " auc: 0.778346, auprc: 0.455511, brier: 0.138070,\n",
      "Best model updated\n",
      "Epoch 14/19\n",
      "----------\n",
      "Phase: train:\n",
      " loss: 0.430478,\n",
      " auc: 0.788579, auprc: 0.477134, brier: 0.136384,\n",
      "Phase: val:\n",
      " loss: 0.434540,\n",
      " auc: 0.779877, auprc: 0.458490, brier: 0.137444,\n",
      "Best model updated\n",
      "Epoch 15/19\n",
      "----------\n",
      "Phase: train:\n",
      " loss: 0.422704,\n",
      " auc: 0.793586, auprc: 0.487755, brier: 0.133285,\n",
      "Phase: val:\n",
      " loss: 0.432664,\n",
      " auc: 0.780795, auprc: 0.460619, brier: 0.136912,\n",
      "Best model updated\n",
      "Epoch 16/19\n",
      "----------\n",
      "Phase: train:\n",
      " loss: 0.427381,\n",
      " auc: 0.797804, auprc: 0.499258, brier: 0.135459,\n",
      "Phase: val:\n",
      " loss: 0.431007,\n",
      " auc: 0.783043, auprc: 0.462181, brier: 0.136347,\n",
      "Best model updated\n",
      "Epoch 17/19\n",
      "----------\n",
      "Phase: train:\n",
      " loss: 0.422012,\n",
      " auc: 0.800726, auprc: 0.493072, brier: 0.133529,\n",
      "Phase: val:\n",
      " loss: 0.429393,\n",
      " auc: 0.784431, auprc: 0.463256, brier: 0.135879,\n",
      "Best model updated\n",
      "Epoch 18/19\n",
      "----------\n",
      "Phase: train:\n",
      " loss: 0.424106,\n",
      " auc: 0.797339, auprc: 0.496165, brier: 0.134299,\n",
      "Phase: val:\n",
      " loss: 0.428014,\n",
      " auc: 0.785490, auprc: 0.464372, brier: 0.135495,\n",
      "Best model updated\n",
      "Epoch 19/19\n",
      "----------\n",
      "Phase: train:\n",
      " loss: 0.418101,\n",
      " auc: 0.806629, auprc: 0.513056, brier: 0.132600,\n",
      "Phase: val:\n",
      " loss: 0.426589,\n",
      " auc: 0.786734, auprc: 0.466041, brier: 0.135057,\n",
      "Best model updated\n",
      "Best val performance: 0.426589\n",
      "CPU times: user 1min 59s, sys: 3.75 s, total: 2min 3s\n",
      "Wall time: 1min 32s\n"
     ]
    }
   ],
   "source": [
    "%%time\n",
    "result = model.train(data_dict, outcome_dict)"
   ]
  },
  {
   "cell_type": "code",
   "execution_count": 13,
   "metadata": {},
   "outputs": [
    {
     "name": "stderr",
     "output_type": "stream",
     "text": [
      "ERROR:root:Internal Python error in the inspect module.\n",
      "Below is the traceback from this internal error.\n",
      "\n"
     ]
    },
    {
     "name": "stdout",
     "output_type": "stream",
     "text": [
      "Traceback (most recent call last):\n",
      "  File \"/labs/shahlab/spfohl/miniconda3/envs/py_env/lib/python3.6/site-packages/IPython/core/interactiveshell.py\", line 2963, in run_code\n",
      "    exec(code_obj, self.user_global_ns, self.user_ns)\n",
      "  File \"<ipython-input-13-577a716d75f1>\", line 1, in <module>\n",
      "    result_eval = model.predict(data_dict, outcome_dict, phases = ['val', 'test'])\n",
      "  File \"/home/spfohl/projects/fairness_cf/pytorch_utils/models.py\", line 275, in predict\n",
      "    outputs = self.model(inputs)\n",
      "  File \"/labs/shahlab/spfohl/miniconda3/envs/py_env/lib/python3.6/site-packages/torch/nn/modules/module.py\", line 489, in __call__\n",
      "    result = self.forward(*input, **kwargs)\n",
      "  File \"/home/spfohl/projects/fairness_cf/pytorch_utils/layers.py\", line 229, in forward\n",
      "    return y_pred\n",
      "  File \"/labs/shahlab/spfohl/miniconda3/envs/py_env/lib/python3.6/site-packages/torch/nn/modules/container.py\", line 92, in forward\n",
      "    input = module(input)\n",
      "  File \"/labs/shahlab/spfohl/miniconda3/envs/py_env/lib/python3.6/site-packages/torch/nn/modules/module.py\", line 489, in __call__\n",
      "    result = self.forward(*input, **kwargs)\n",
      "  File \"/home/spfohl/projects/fairness_cf/pytorch_utils/layers.py\", line 157, in forward\n",
      "  File \"/home/spfohl/projects/fairness_cf/pytorch_utils/layers.py\", line 111, in forward\n",
      "    else:\n",
      "  File \"/home/spfohl/projects/fairness_cf/pytorch_utils/layers.py\", line 106, in compute_offsets\n",
      "    torch.LongTensor(batch.indptr[:-1]).to(self.embed.weight.device)\n",
      "  File \"/labs/shahlab/spfohl/miniconda3/envs/py_env/lib/python3.6/site-packages/torch/nn/modules/module.py\", line 521, in __getattr__\n",
      "    def __getattr__(self, name):\n",
      "KeyboardInterrupt\n",
      "\n",
      "During handling of the above exception, another exception occurred:\n",
      "\n",
      "Traceback (most recent call last):\n",
      "  File \"/labs/shahlab/spfohl/miniconda3/envs/py_env/lib/python3.6/site-packages/IPython/core/interactiveshell.py\", line 1863, in showtraceback\n",
      "    stb = value._render_traceback_()\n",
      "AttributeError: 'KeyboardInterrupt' object has no attribute '_render_traceback_'\n",
      "\n",
      "During handling of the above exception, another exception occurred:\n",
      "\n",
      "Traceback (most recent call last):\n",
      "  File \"/labs/shahlab/spfohl/miniconda3/envs/py_env/lib/python3.6/site-packages/IPython/core/ultratb.py\", line 1095, in get_records\n",
      "    return _fixed_getinnerframes(etb, number_of_lines_of_context, tb_offset)\n",
      "  File \"/labs/shahlab/spfohl/miniconda3/envs/py_env/lib/python3.6/site-packages/IPython/core/ultratb.py\", line 311, in wrapped\n",
      "    return f(*args, **kwargs)\n",
      "  File \"/labs/shahlab/spfohl/miniconda3/envs/py_env/lib/python3.6/site-packages/IPython/core/ultratb.py\", line 345, in _fixed_getinnerframes\n",
      "    records = fix_frame_records_filenames(inspect.getinnerframes(etb, context))\n",
      "  File \"/labs/shahlab/spfohl/miniconda3/envs/py_env/lib/python3.6/inspect.py\", line 1488, in getinnerframes\n",
      "    frameinfo = (tb.tb_frame,) + getframeinfo(tb, context)\n",
      "  File \"/labs/shahlab/spfohl/miniconda3/envs/py_env/lib/python3.6/inspect.py\", line 1446, in getframeinfo\n",
      "    filename = getsourcefile(frame) or getfile(frame)\n",
      "  File \"/labs/shahlab/spfohl/miniconda3/envs/py_env/lib/python3.6/inspect.py\", line 696, in getsourcefile\n",
      "    if getattr(getmodule(object, filename), '__loader__', None) is not None:\n",
      "  File \"/labs/shahlab/spfohl/miniconda3/envs/py_env/lib/python3.6/inspect.py\", line 739, in getmodule\n",
      "    f = getabsfile(module)\n",
      "  File \"/labs/shahlab/spfohl/miniconda3/envs/py_env/lib/python3.6/inspect.py\", line 708, in getabsfile\n",
      "    _filename = getsourcefile(object) or getfile(object)\n",
      "  File \"/labs/shahlab/spfohl/miniconda3/envs/py_env/lib/python3.6/inspect.py\", line 693, in getsourcefile\n",
      "    if os.path.exists(filename):\n",
      "  File \"/labs/shahlab/spfohl/miniconda3/envs/py_env/lib/python3.6/genericpath.py\", line 19, in exists\n",
      "    os.stat(path)\n",
      "KeyboardInterrupt\n"
     ]
    },
    {
     "ename": "KeyboardInterrupt",
     "evalue": "",
     "output_type": "error",
     "traceback": [
      "\u001b[0;31m---------------------------------------------------------------------------\u001b[0m"
     ]
    }
   ],
   "source": [
    "result_eval = model.predict(data_dict, outcome_dict, phases = ['val', 'test'])"
   ]
  },
  {
   "cell_type": "code",
   "execution_count": null,
   "metadata": {},
   "outputs": [],
   "source": [
    "result_eval"
   ]
  },
  {
   "cell_type": "code",
   "execution_count": null,
   "metadata": {},
   "outputs": [],
   "source": [
    "## Save weights\n",
    "model.save_weights(os.path.join(checkpoints_path, '{}.chk'.format(grid_element)))"
   ]
  },
  {
   "cell_type": "code",
   "execution_count": null,
   "metadata": {},
   "outputs": [],
   "source": [
    "result_df_training = model.process_result_dict(result)\n",
    "result_df_eval = model.process_result_dict(result_eval[1])\n",
    "\n",
    "print(result_df_training)\n",
    "print(result_df_eval)"
   ]
  },
  {
   "cell_type": "code",
   "execution_count": null,
   "metadata": {},
   "outputs": [],
   "source": [
    "## Get performance by group\n",
    "sensitive_variables = ['race_eth', 'gender', 'age']\n",
    "data_dict_by_group = {sensitive_variable: {} for sensitive_variable in sensitive_variables}\n",
    "outcome_dict_by_group = {sensitive_variable: {} for sensitive_variable in sensitive_variables}\n",
    "for sensitive_variable in sensitive_variables:\n",
    "    groups = np.unique(label_dict['train'][sensitive_variable])\n",
    "    for group in groups:\n",
    "        data_dict_by_group[sensitive_variable][group] = {split: \n",
    "                                       data_dict[split][label_dict[split][sensitive_variable] == group]\n",
    "                                       for split in data_dict.keys()\n",
    "                                      }\n",
    "        outcome_dict_by_group[sensitive_variable][group] = {split: \n",
    "                                       outcome_dict[split][label_dict[split][sensitive_variable] == group]\n",
    "                                       for split in data_dict.keys()\n",
    "                                      }\n",
    "result_df_by_group = pd.concat({sensitive_variable: \n",
    "                            pd.concat({\n",
    "                                group: model.process_result_dict(model.predict(data_dict_by_group[sensitive_variable][group],\n",
    "                                                    outcome_dict_by_group[sensitive_variable][group],\n",
    "                                                    phases = ['val', 'test'])[1])\n",
    "                                for group in data_dict_by_group[sensitive_variable].keys()\n",
    "                            })\n",
    "                            for sensitive_variable in data_dict_by_group.keys()\n",
    "                           })\n",
    "result_df_by_group.index = result_df_by_group.index.set_names(['sensitive_variable', 'group', 'index'])\n",
    "result_df_by_group = result_df_by_group.reset_index(level = [0, 1])\n",
    "result_df_by_group.head()"
   ]
  },
  {
   "cell_type": "code",
   "execution_count": null,
   "metadata": {
    "scrolled": true
   },
   "outputs": [],
   "source": [
    "result_df_by_group"
   ]
  },
  {
   "cell_type": "code",
   "execution_count": null,
   "metadata": {},
   "outputs": [],
   "source": [
    "result_df_training.to_csv(os.path.join(performance_path, '{}_training'.format(grid_element)), index = False)\n",
    "result_df_eval.to_csv(os.path.join(performance_path, '{}_eval'.format(grid_element)), index = False)\n",
    "result_df_by_group.to_csv(os.path.join(performance_path, '{}_by_group'.format(grid_element)), index = False)"
   ]
  }
 ],
 "metadata": {
  "kernelspec": {
   "display_name": "Python 3",
   "language": "python",
   "name": "python3"
  },
  "language_info": {
   "codemirror_mode": {
    "name": "ipython",
    "version": 3
   },
   "file_extension": ".py",
   "mimetype": "text/x-python",
   "name": "python",
   "nbconvert_exporter": "python",
   "pygments_lexer": "ipython3",
   "version": "3.6.7"
  }
 },
 "nbformat": 4,
 "nbformat_minor": 2
}
