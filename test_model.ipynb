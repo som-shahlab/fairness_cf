{
 "cells": [
  {
   "cell_type": "code",
   "execution_count": 1,
   "metadata": {},
   "outputs": [],
   "source": [
    "import numpy as np\n",
    "import os\n",
    "import torch\n",
    "from sklearn.externals import joblib\n",
    "\n",
    "from pytorch_utils.datasets import ArrayDataset\n",
    "from pytorch_utils.models import SparseModel\n",
    "import pytorch_utils"
   ]
  },
  {
   "cell_type": "code",
   "execution_count": 2,
   "metadata": {},
   "outputs": [],
   "source": [
    "data_path = 'data/'\n",
    "features_path = os.path.join(data_path, 'features', str(0))\n",
    "label_path = os.path.join(data_path, 'labels')"
   ]
  },
  {
   "cell_type": "code",
   "execution_count": 3,
   "metadata": {},
   "outputs": [],
   "source": [
    "device = torch.device(\"cuda\" if torch.cuda.is_available() else \"cpu\")"
   ]
  },
  {
   "cell_type": "code",
   "execution_count": 4,
   "metadata": {},
   "outputs": [],
   "source": [
    "features_dict = joblib.load(os.path.join(features_path, 'features.pkl'))\n",
    "label_dict = joblib.load(os.path.join(label_path, 'label_dict.pkl'))"
   ]
  },
  {
   "cell_type": "code",
   "execution_count": 5,
   "metadata": {},
   "outputs": [],
   "source": [
    "outcome = 'los'"
   ]
  },
  {
   "cell_type": "code",
   "execution_count": 6,
   "metadata": {},
   "outputs": [],
   "source": [
    "data_dict = {split: features_dict[split]['features'] for split in features_dict.keys()}\n",
    "outcome_dict = {split : label_dict[split][outcome] for split in label_dict.keys()}"
   ]
  },
  {
   "cell_type": "code",
   "execution_count": 7,
   "metadata": {},
   "outputs": [],
   "source": [
    "config_dict = {\n",
    "    'input_dim' : data_dict['train'].shape[1],\n",
    "    'output_dim' : 3,\n",
    "    'lr' : 1e-3,\n",
    "    'num_epochs' : 10,\n",
    "    'batch_size' : 256,\n",
    "    'iters_per_epoch' : None\n",
    "}\n",
    "\n",
    "config_dict = {\n",
    "    'input_dim' : data_dict['train'].shape[1],\n",
    "    'output_dim' : 3,\n",
    "    'lr' : 1e-4,\n",
    "    'num_epochs' : 10,\n",
    "    'batch_size' : 256,\n",
    "    'hidden_dim' : 256,\n",
    "    'num_hidden' : 1,\n",
    "    'output_dim' : 2,\n",
    "    'drop_prob' : 0.0,\n",
    "    'batch_norm' : False,\n",
    "    'iters_per_epoch' : None\n",
    "}"
   ]
  },
  {
   "cell_type": "code",
   "execution_count": 8,
   "metadata": {},
   "outputs": [
    {
     "data": {
      "text/plain": [
       "{'train': <1000x368117 sparse matrix of type '<class 'numpy.float32'>'\n",
       " \twith 285517 stored elements in Compressed Sparse Row format>,\n",
       " 'test': <12963x368117 sparse matrix of type '<class 'numpy.float32'>'\n",
       " \twith 3694263 stored elements in Compressed Sparse Row format>,\n",
       " 'val': <12964x368117 sparse matrix of type '<class 'numpy.float32'>'\n",
       " \twith 3668580 stored elements in Compressed Sparse Row format>}"
      ]
     },
     "execution_count": 8,
     "metadata": {},
     "output_type": "execute_result"
    }
   ],
   "source": [
    "num_samples = 1000\n",
    "small_data_dict = {key: data_dict[key][:num_samples] if key == 'train' else data_dict[key] for key in data_dict.keys()}\n",
    "small_outcome_dict = {key: outcome_dict[key][:num_samples] if key == 'train' else outcome_dict[key] for key in data_dict.keys()}\n",
    "small_data_dict"
   ]
  },
  {
   "cell_type": "code",
   "execution_count": null,
   "metadata": {},
   "outputs": [
    {
     "name": "stdout",
     "output_type": "stream",
     "text": [
      "Epoch 0/9\n",
      "----------\n",
      "Phase: train:\n",
      " loss: 0.389058,\n",
      " auc: 0.818697, auprc: 0.546816, brier: 0.124225,\n",
      "Phase: val:\n",
      " loss: 0.359713,\n",
      " auc: 0.850477, auprc: 0.603915, brier: 0.114538,\n",
      "Best model updated\n",
      "Epoch 1/9\n",
      "----------\n"
     ]
    }
   ],
   "source": [
    "%%time\n",
    "torch.manual_seed(0)\n",
    "torch.backends.cudnn.deterministic = True\n",
    "torch.backends.cudnn.benchmark = False\n",
    "model = SparseModel(config_dict)\n",
    "result = model.train(data_dict, outcome_dict)\n",
    "print(model.predict(data_dict, outcome_dict, keys = ['test']))"
   ]
  },
  {
   "cell_type": "code",
   "execution_count": null,
   "metadata": {
    "scrolled": false
   },
   "outputs": [],
   "source": [
    "# %%time\n",
    "# torch.manual_seed(0)\n",
    "# torch.backends.cudnn.deterministic = True\n",
    "# torch.backends.cudnn.benchmark = False\n",
    "\n",
    "# model2 = SparseModel(config_dict)\n",
    "# result2 = model2.train(data_dict, outcome_dict)\n",
    "# # result = model.train(small_data_dict, small_outcome_dict)\n",
    "# print(model2.predict(data_dict, outcome_dict, keys = ['test']))"
   ]
  }
 ],
 "metadata": {
  "kernelspec": {
   "display_name": "Python 3",
   "language": "python",
   "name": "python3"
  },
  "language_info": {
   "codemirror_mode": {
    "name": "ipython",
    "version": 3
   },
   "file_extension": ".py",
   "mimetype": "text/x-python",
   "name": "python",
   "nbconvert_exporter": "python",
   "pygments_lexer": "ipython3",
   "version": "3.6.7"
  }
 },
 "nbformat": 4,
 "nbformat_minor": 2
}
