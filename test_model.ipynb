{
 "cells": [
  {
   "cell_type": "code",
   "execution_count": 1,
   "metadata": {},
   "outputs": [],
   "source": [
    "import numpy as np\n",
    "import os\n",
    "import torch\n",
    "from sklearn.externals import joblib\n",
    "\n",
    "from pytorch_utils.datasets import ArrayDataset\n",
    "from pytorch_utils.models import SparseModel\n",
    "import pytorch_utils"
   ]
  },
  {
   "cell_type": "code",
   "execution_count": 2,
   "metadata": {},
   "outputs": [],
   "source": [
    "data_path = 'data/'\n",
    "features_path = os.path.join(data_path, 'features', str(0))\n",
    "label_path = os.path.join(data_path, 'labels')"
   ]
  },
  {
   "cell_type": "code",
   "execution_count": 3,
   "metadata": {},
   "outputs": [],
   "source": [
    "device = torch.device(\"cuda\" if torch.cuda.is_available() else \"cpu\")"
   ]
  },
  {
   "cell_type": "code",
   "execution_count": 4,
   "metadata": {},
   "outputs": [],
   "source": [
    "features_dict = joblib.load(os.path.join(features_path, 'features.pkl'))\n",
    "label_dict = joblib.load(os.path.join(label_path, 'label_dict.pkl'))"
   ]
  },
  {
   "cell_type": "code",
   "execution_count": 5,
   "metadata": {},
   "outputs": [],
   "source": [
    "outcome = 'los'"
   ]
  },
  {
   "cell_type": "code",
   "execution_count": 6,
   "metadata": {},
   "outputs": [],
   "source": [
    "data_dict = {split: features_dict[split]['features'] for split in features_dict.keys()}\n",
    "outcome_dict = {split : label_dict[split][outcome] for split in label_dict.keys()}"
   ]
  },
  {
   "cell_type": "code",
   "execution_count": 7,
   "metadata": {},
   "outputs": [],
   "source": [
    "# config_dict = {\n",
    "#     'input_dim' : data_dict['train'].shape[1],\n",
    "#     'output_dim' : 3,\n",
    "#     'lr' : 1e-3,\n",
    "#     'num_epochs' : 10,\n",
    "#     'batch_size' : 256,\n",
    "#     'iters_per_epoch' : None\n",
    "# }\n",
    "\n",
    "config_dict = {\n",
    "    'input_dim' : data_dict['train'].shape[1],\n",
    "    'output_dim' : 3,\n",
    "    'lr' : 5e-5,\n",
    "    'num_epochs' : 10,\n",
    "    'batch_size' : 256,\n",
    "    'hidden_dim' : 128,\n",
    "    'num_hidden' : 2,\n",
    "    'output_dim' : 2,\n",
    "    'drop_prob' : 0.5,\n",
    "    'normalize' : True,\n",
    "    'iters_per_epoch' : 100\n",
    "}"
   ]
  },
  {
   "cell_type": "code",
   "execution_count": 8,
   "metadata": {},
   "outputs": [
    {
     "name": "stdout",
     "output_type": "stream",
     "text": [
      "Epoch 0/9\n",
      "----------\n",
      "Phase: train:\n",
      " loss: 0.536139,\n",
      " auc: 0.660850, auprc: 0.308274, brier: 0.171464,\n",
      "Phase: val:\n",
      " loss: 0.408240,\n",
      " auc: 0.796115, auprc: 0.477521, brier: 0.131268,\n",
      "Best model updated\n",
      "Epoch 1/9\n",
      "----------\n",
      "Phase: train:\n",
      " loss: 0.425717,\n",
      " auc: 0.780501, auprc: 0.463848, brier: 0.137128,\n",
      "Phase: val:\n",
      " loss: 0.392219,\n",
      " auc: 0.815323, auprc: 0.511787, brier: 0.126260,\n",
      "Best model updated\n",
      "Epoch 2/9\n",
      "----------\n",
      "Phase: train:\n",
      " loss: 0.401650,\n",
      " auc: 0.804435, auprc: 0.506822, brier: 0.129238,\n",
      "Phase: val:\n",
      " loss: 0.384305,\n",
      " auc: 0.824671, auprc: 0.531482, brier: 0.123645,\n",
      "Best model updated\n",
      "Epoch 3/9\n",
      "----------\n",
      "Phase: train:\n",
      " loss: 0.379994,\n",
      " auc: 0.826778, auprc: 0.541193, brier: 0.121343,\n",
      "Phase: val:\n",
      " loss: 0.378169,\n",
      " auc: 0.831883, auprc: 0.548071, brier: 0.121718,\n",
      "Best model updated\n",
      "Epoch 4/9\n",
      "----------\n",
      "Phase: train:\n",
      " loss: 0.363073,\n",
      " auc: 0.845876, auprc: 0.578938, brier: 0.116019,\n",
      "Phase: val:\n",
      " loss: 0.374206,\n",
      " auc: 0.835527, auprc: 0.557812, brier: 0.120271,\n",
      "Best model updated\n",
      "Epoch 5/9\n",
      "----------\n",
      "Phase: train:\n",
      " loss: 0.359628,\n",
      " auc: 0.852440, auprc: 0.599471, brier: 0.114818,\n",
      "Phase: val:\n",
      " loss: 0.370798,\n",
      " auc: 0.840052, auprc: 0.568384, brier: 0.119001,\n",
      "Best model updated\n",
      "Epoch 6/9\n",
      "----------\n",
      "Phase: train:\n",
      " loss: 0.344808,\n",
      " auc: 0.865937, auprc: 0.631721, brier: 0.109587,\n",
      "Phase: val:\n",
      " loss: 0.368857,\n",
      " auc: 0.842017, auprc: 0.573962, brier: 0.118206,\n",
      "Best model updated\n",
      "Epoch 7/9\n",
      "----------\n",
      "Phase: train:\n",
      " loss: 0.332718,\n",
      " auc: 0.874112, auprc: 0.650423, brier: 0.104985,\n",
      "Phase: val:\n",
      " loss: 0.365831,\n",
      " auc: 0.845196, auprc: 0.583851, brier: 0.117122,\n",
      "Best model updated\n",
      "Epoch 8/9\n",
      "----------\n",
      "Phase: train:\n",
      " loss: 0.324034,\n",
      " auc: 0.883190, auprc: 0.673257, brier: 0.102619,\n",
      "Phase: val:\n",
      " loss: 0.365602,\n",
      " auc: 0.845791, auprc: 0.587890, brier: 0.117057,\n",
      "Best model updated\n",
      "Epoch 9/9\n",
      "----------\n",
      "Phase: train:\n",
      " loss: 0.314229,\n",
      " auc: 0.893483, auprc: 0.705594, brier: 0.099094,\n",
      "Phase: val:\n",
      " loss: 0.367153,\n",
      " auc: 0.845677, auprc: 0.589309, brier: 0.116873,\n",
      "Best val performance: 0.365602\n",
      "({'test': {'outputs': array([[ 1.9552631 , -0.88485366],\n",
      "       [ 0.96620923, -1.7627077 ],\n",
      "       [ 1.2230024 , -1.8446202 ],\n",
      "       ...,\n",
      "       [-0.526224  , -0.97353   ],\n",
      "       [-1.1906184 ,  0.33649346],\n",
      "       [ 3.0174873 , -2.3556318 ]], dtype=float32), 'pred_probs': array([[0.9448055 , 0.05519445],\n",
      "       [0.9387115 , 0.06128845],\n",
      "       [0.95553726, 0.04446272],\n",
      "       ...,\n",
      "       [0.6099985 , 0.39000148],\n",
      "       [0.17841664, 0.8215834 ],\n",
      "       [0.9953818 , 0.00461821]], dtype=float32), 'labels': array([0, 0, 0, ..., 0, 1, 0])}}, {'test': {'auc': [0.8482589946754593], 'auprc': [0.5854676943729548], 'brier': [0.11428960319703549], 'loss': [0.35871365841697245]}})\n",
      "CPU times: user 1min 24s, sys: 8.49 s, total: 1min 32s\n",
      "Wall time: 1min 17s\n"
     ]
    }
   ],
   "source": [
    "%%time\n",
    "model = SparseModel(config_dict)\n",
    "result = model.train(data_dict, outcome_dict)\n",
    "print(model.predict(data_dict, outcome_dict, keys = ['test']))"
   ]
  }
 ],
 "metadata": {
  "kernelspec": {
   "display_name": "Python 3",
   "language": "python",
   "name": "python3"
  },
  "language_info": {
   "codemirror_mode": {
    "name": "ipython",
    "version": 3
   },
   "file_extension": ".py",
   "mimetype": "text/x-python",
   "name": "python",
   "nbconvert_exporter": "python",
   "pygments_lexer": "ipython3",
   "version": "3.6.7"
  }
 },
 "nbformat": 4,
 "nbformat_minor": 2
}
