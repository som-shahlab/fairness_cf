{
 "cells": [
  {
   "cell_type": "code",
   "execution_count": 1,
   "metadata": {},
   "outputs": [],
   "source": [
    "import numpy as np\n",
    "import os\n",
    "import torch\n",
    "import yaml\n",
    "import json\n",
    "import random \n",
    "import pandas as pd\n",
    "\n",
    "from sklearn.externals import joblib\n",
    "from sklearn.model_selection import ParameterGrid"
   ]
  },
  {
   "cell_type": "code",
   "execution_count": 2,
   "metadata": {},
   "outputs": [],
   "source": [
    "random.seed(234)\n",
    "np.random.seed(5432)"
   ]
  },
  {
   "cell_type": "code",
   "execution_count": 3,
   "metadata": {},
   "outputs": [],
   "source": [
    "data_path = './data/'\n",
    "label_path = os.path.join(data_path, 'labels')"
   ]
  },
  {
   "cell_type": "code",
   "execution_count": 4,
   "metadata": {},
   "outputs": [],
   "source": [
    "def yaml_write(x, path):\n",
    "    with open(path, 'w') as fp:\n",
    "        yaml.dump(x, fp)\n",
    "        \n",
    "def yaml_read(path):\n",
    "    with open(path, 'r') as fp:\n",
    "        return yaml.load(fp)"
   ]
  },
  {
   "cell_type": "code",
   "execution_count": 5,
   "metadata": {},
   "outputs": [],
   "source": [
    "param_grid = {\n",
    "    'lr_final_classifier' : [1e-2, 1e-3, 1e-4],\n",
    "    'lambda_final_classifier_cf' : [1e1, 1e0, 1e-1, 0.0],\n",
    "    'lambda_clp' : [1e1, 1e0, 1e-1, 1e-2, 0.0],\n",
    "    'lambda_clp_entropy' : [0.0],\n",
    "    'num_epochs' : [20],\n",
    "    'weighted' : [False],\n",
    "    'num_samples_eval': [1],\n",
    "    'cf_gradients' : [True, False]\n",
    "}\n",
    "\n",
    "the_grid = list(ParameterGrid(param_grid))\n",
    "np.random.shuffle(the_grid)"
   ]
  },
  {
   "cell_type": "code",
   "execution_count": 6,
   "metadata": {},
   "outputs": [],
   "source": [
    "for sensitive_variable in ['age', 'race_eth', 'gender']:\n",
    "    for outcome in ['los', 'mortality']:\n",
    "        config_load_path = os.path.join(data_path, 'config', 'defaults', 'cfvae', outcome, sensitive_variable, 'model_config.yaml')\n",
    "\n",
    "        config_path = os.path.join(data_path, 'config', 'grid', 'final_classifier', outcome, sensitive_variable)\n",
    "        os.makedirs(config_path, exist_ok = True)\n",
    "\n",
    "        grid_df = pd.DataFrame(the_grid)\n",
    "        grid_df.to_csv(os.path.join(config_path, 'config.csv'), index_label = 'id')\n",
    "\n",
    "        for i, config_dict in enumerate(the_grid):\n",
    "            config_dict_vae = yaml_read(config_load_path)\n",
    "            config_dict_vae.update(config_dict)\n",
    "            yaml_write(config_dict_vae, os.path.join(config_path, '{}.yaml'.format(i)))"
   ]
  }
 ],
 "metadata": {
  "kernelspec": {
   "display_name": "Python 3",
   "language": "python",
   "name": "python3"
  },
  "language_info": {
   "codemirror_mode": {
    "name": "ipython",
    "version": 3
   },
   "file_extension": ".py",
   "mimetype": "text/x-python",
   "name": "python",
   "nbconvert_exporter": "python",
   "pygments_lexer": "ipython3",
   "version": "3.6.7"
  }
 },
 "nbformat": 4,
 "nbformat_minor": 2
}
