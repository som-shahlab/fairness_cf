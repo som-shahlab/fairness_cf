{
 "cells": [
  {
   "cell_type": "code",
   "execution_count": 1,
   "metadata": {},
   "outputs": [],
   "source": [
    "import numpy as np\n",
    "import os\n",
    "import torch\n",
    "import pandas as pd\n",
    "import yaml\n",
    "\n",
    "from sklearn.externals import joblib\n",
    "\n",
    "from pytorch_utils.cfvae_models import CFVAEModel"
   ]
  },
  {
   "cell_type": "code",
   "execution_count": 2,
   "metadata": {},
   "outputs": [],
   "source": [
    "outcome = 'los'\n",
    "sensitive_variable = 'age'\n",
    "data_path = 'data/'\n",
    "\n",
    "features_path = os.path.join(data_path, 'features', str(0), '{}_excluded'.format(sensitive_variable))\n",
    "label_path = os.path.join(data_path, 'labels')\n",
    "checkpoints_path = os.path.join(data_path, 'checkpoints', 'scratch', outcome)\n",
    "performance_path = os.path.join(data_path, 'performance', 'scratch', outcome)"
   ]
  },
  {
   "cell_type": "code",
   "execution_count": 3,
   "metadata": {},
   "outputs": [
    {
     "data": {
      "text/plain": [
       "'1552673022.8390067.chk'"
      ]
     },
     "execution_count": 3,
     "metadata": {},
     "output_type": "execute_result"
    }
   ],
   "source": [
    "config_load_path = os.path.join(data_path, 'config', 'defaults', 'cfvae', outcome, sensitive_variable, 'model_config.yaml')\n",
    "checkpoint_load_path = os.path.join(data_path, 'checkpoints', 'cfvae_default', outcome, sensitive_variable, str(0))\n",
    "os.listdir(checkpoint_load_path)[0]"
   ]
  },
  {
   "cell_type": "code",
   "execution_count": 4,
   "metadata": {},
   "outputs": [],
   "source": [
    "os.makedirs(checkpoints_path, exist_ok=True)\n",
    "os.makedirs(performance_path, exist_ok=True)"
   ]
  },
  {
   "cell_type": "code",
   "execution_count": 5,
   "metadata": {},
   "outputs": [],
   "source": [
    "device = torch.device(\"cuda\" if torch.cuda.is_available() else \"cpu\")"
   ]
  },
  {
   "cell_type": "code",
   "execution_count": 6,
   "metadata": {},
   "outputs": [],
   "source": [
    "features_dict = joblib.load(os.path.join(features_path, 'features.pkl'))\n",
    "master_label_dict = joblib.load(os.path.join(label_path, 'label_dict.pkl'))"
   ]
  },
  {
   "cell_type": "code",
   "execution_count": 7,
   "metadata": {},
   "outputs": [],
   "source": [
    "data_dict = {split: features_dict[split]['features'] for split in features_dict.keys()}\n",
    "label_dict = {split : master_label_dict[split][outcome] for split in master_label_dict.keys()}\n",
    "group_dict = {split : master_label_dict[split][sensitive_variable] for split in master_label_dict.keys()}"
   ]
  },
  {
   "cell_type": "code",
   "execution_count": 8,
   "metadata": {},
   "outputs": [],
   "source": [
    "group_map = pd.read_csv(os.path.join(label_path, '{}_map.csv'.format(sensitive_variable)))"
   ]
  },
  {
   "cell_type": "code",
   "execution_count": 9,
   "metadata": {},
   "outputs": [
    {
     "data": {
      "text/html": [
       "<div>\n",
       "<style scoped>\n",
       "    .dataframe tbody tr th:only-of-type {\n",
       "        vertical-align: middle;\n",
       "    }\n",
       "\n",
       "    .dataframe tbody tr th {\n",
       "        vertical-align: top;\n",
       "    }\n",
       "\n",
       "    .dataframe thead th {\n",
       "        text-align: right;\n",
       "    }\n",
       "</style>\n",
       "<table border=\"1\" class=\"dataframe\">\n",
       "  <thead>\n",
       "    <tr style=\"text-align: right;\">\n",
       "      <th></th>\n",
       "      <th>category_id</th>\n",
       "      <th>categories</th>\n",
       "    </tr>\n",
       "  </thead>\n",
       "  <tbody>\n",
       "    <tr>\n",
       "      <th>0</th>\n",
       "      <td>0</td>\n",
       "      <td>[18, 30)</td>\n",
       "    </tr>\n",
       "    <tr>\n",
       "      <th>1</th>\n",
       "      <td>1</td>\n",
       "      <td>[30, 45)</td>\n",
       "    </tr>\n",
       "    <tr>\n",
       "      <th>2</th>\n",
       "      <td>2</td>\n",
       "      <td>[45, 65)</td>\n",
       "    </tr>\n",
       "    <tr>\n",
       "      <th>3</th>\n",
       "      <td>3</td>\n",
       "      <td>[65, 89)</td>\n",
       "    </tr>\n",
       "  </tbody>\n",
       "</table>\n",
       "</div>"
      ],
      "text/plain": [
       "   category_id categories\n",
       "0            0   [18, 30)\n",
       "1            1   [30, 45)\n",
       "2            2   [45, 65)\n",
       "3            3   [65, 89)"
      ]
     },
     "execution_count": 9,
     "metadata": {},
     "output_type": "execute_result"
    }
   ],
   "source": [
    "group_map"
   ]
  },
  {
   "cell_type": "code",
   "execution_count": 10,
   "metadata": {},
   "outputs": [],
   "source": [
    "with open(config_load_path, 'r') as fp:\n",
    "    config_dict = yaml.load(fp)"
   ]
  },
  {
   "cell_type": "code",
   "execution_count": 11,
   "metadata": {},
   "outputs": [
    {
     "data": {
      "text/plain": [
       "{'batch_size': 512,\n",
       " 'drop_prob': 0.25,\n",
       " 'drop_prob_classifier': 0.25,\n",
       " 'gamma': None,\n",
       " 'group_embed_dim': 64,\n",
       " 'hidden_dim_classifier': 128,\n",
       " 'input_dim': 368113,\n",
       " 'iters_per_epoch': 100,\n",
       " 'lambda_classification': 10.0,\n",
       " 'lambda_kl': 0.0,\n",
       " 'lambda_mmd': 10000.0,\n",
       " 'lambda_mmd_group': 1000.0,\n",
       " 'lambda_reconstruction': 1000.0,\n",
       " 'latent_dim': 128,\n",
       " 'lr': 0.0001,\n",
       " 'lr_final_classifier': 0.001,\n",
       " 'normalize': False,\n",
       " 'normalize_classifier': True,\n",
       " 'num_epochs': 20,\n",
       " 'num_groups': 4,\n",
       " 'num_hidden': 1,\n",
       " 'num_hidden_classifier': 2,\n",
       " 'output_dim': 2,\n",
       " 'resnet': False,\n",
       " 'resnet_classifier': False,\n",
       " 'sparse': True,\n",
       " 'sparse_mode': 'binary'}"
      ]
     },
     "execution_count": 11,
     "metadata": {},
     "output_type": "execute_result"
    }
   ],
   "source": [
    "config_dict"
   ]
  },
  {
   "cell_type": "code",
   "execution_count": 12,
   "metadata": {},
   "outputs": [],
   "source": [
    "config_dict_final_classifier = {\n",
    "    'lr_final_classifier' : 1e-2,\n",
    "    'lambda_final_classifier_cf' : 1e0,\n",
    "    'lambda_clp' : 1e1,\n",
    "    'lambda_clp_entropy' : 0e0,\n",
    "    'num_epochs' : 3,\n",
    "    'weighted' : False,\n",
    "    'num_samples_eval': 1,\n",
    "    'cf_gradients' : False\n",
    "}\n",
    "\n",
    "# config_dict_final_classifier = {\n",
    "#     'lr_final_classifier' : 1e-2,\n",
    "#     'lambda_final_classifier_cf' : 0e0,\n",
    "#     'lambda_clp' : 0e1,\n",
    "#     'lambda_clp_entropy' : 0e0,\n",
    "#     'num_epochs' : 3,\n",
    "#     'weighted' : False,\n",
    "#     'num_samples_eval': 1,\n",
    "#     'cf_gradients' : True\n",
    "# }\n",
    "\n",
    "config_dict.update(config_dict_final_classifier)"
   ]
  },
  {
   "cell_type": "code",
   "execution_count": 13,
   "metadata": {},
   "outputs": [],
   "source": [
    "if sensitive_variable == 'gender':\n",
    "    data_dict = {k: v[group_dict[k] < 2] for k,v in data_dict.items()}\n",
    "    label_dict = {k: v[group_dict[k] < 2] for k,v in label_dict.items()}\n",
    "    group_dict = {k: v[group_dict[k] < 2] for k,v in group_dict.items()}"
   ]
  },
  {
   "cell_type": "code",
   "execution_count": 14,
   "metadata": {
    "scrolled": true
   },
   "outputs": [],
   "source": [
    "model = CFVAEModel(config_dict)"
   ]
  },
  {
   "cell_type": "code",
   "execution_count": 15,
   "metadata": {},
   "outputs": [],
   "source": [
    "model.load_weights(os.path.join(checkpoint_load_path, os.listdir(checkpoint_load_path)[0]))"
   ]
  },
  {
   "cell_type": "code",
   "execution_count": 16,
   "metadata": {},
   "outputs": [
    {
     "name": "stdout",
     "output_type": "stream",
     "text": [
      "Epoch 0/2\n",
      "----------\n",
      "Phase: train:\n",
      " loss: 0.330041, classification: 0.330041, classification_cf: 0.326687, clp: 1.070565, clp_entropy: 0.663142,\n",
      " auc: 0.883524, auprc: 0.692765, brier: 0.097054,\n",
      "Phase: val:\n",
      " loss: 0.410802, classification: 0.410802, classification_cf: 0.273980, clp: 0.243799, clp_entropy: 0.551969,\n",
      " auc: 0.833115, auprc: 0.574982, brier: 0.124193,\n",
      "Best model updated\n",
      "Epoch 1/2\n",
      "----------\n",
      "Phase: train:\n",
      " loss: 0.252357, classification: 0.252357, classification_cf: 0.265120, clp: 1.031958, clp_entropy: 0.564901,\n",
      " auc: 0.934415, auprc: 0.799557, brier: 0.077121,\n",
      "Phase: val:\n",
      " loss: 0.415234, classification: 0.415234, classification_cf: 0.270724, clp: 0.226176, clp_entropy: 0.561092,\n",
      " auc: 0.835042, auprc: 0.574174, brier: 0.127632,\n",
      "Epoch 2/2\n",
      "----------\n",
      "Phase: train:\n",
      " loss: 0.247763, classification: 0.247763, classification_cf: 0.264710, clp: 0.988868, clp_entropy: 0.573402,\n",
      " auc: 0.935968, auprc: 0.810856, brier: 0.075519,\n",
      "Phase: val:\n",
      " loss: 0.410836, classification: 0.410836, classification_cf: 0.275216, clp: 0.221961, clp_entropy: 0.600969,\n",
      " auc: 0.839111, auprc: 0.579962, brier: 0.126630,\n",
      "Best val performance: 0.410802\n"
     ]
    }
   ],
   "source": [
    "result = model.train_final_classifier(data_dict, label_dict, group_dict)"
   ]
  },
  {
   "cell_type": "code",
   "execution_count": 17,
   "metadata": {},
   "outputs": [
    {
     "data": {
      "text/plain": [
       "{'val': {'auc': [0.8327423796641084],\n",
       "  'auprc': [0.5748824450496889],\n",
       "  'brier': [0.12414658114984203],\n",
       "  'loss': [0.4124212230627353],\n",
       "  'classification': [0.4124212230627353]},\n",
       " 'test': {'auc': [0.8341434413734852],\n",
       "  'auprc': [0.5602280632375226],\n",
       "  'brier': [0.12150247017730385],\n",
       "  'loss': [0.406576646062044],\n",
       "  'classification': [0.406576646062044]}}"
      ]
     },
     "execution_count": 17,
     "metadata": {},
     "output_type": "execute_result"
    }
   ],
   "source": [
    "result_eval = model.predict_final_classifier(data_dict, label_dict, group_dict, phases = ['val', 'test'])\n",
    "result_eval[1]"
   ]
  },
  {
   "cell_type": "code",
   "execution_count": 18,
   "metadata": {
    "scrolled": true
   },
   "outputs": [],
   "source": [
    "result_eval_CLP = model.predict_final_classifier_CLP(data_dict, label_dict, group_dict, \n",
    "                                                     phases = ['val', 'test'])"
   ]
  },
  {
   "cell_type": "code",
   "execution_count": 19,
   "metadata": {},
   "outputs": [],
   "source": [
    "cf_dict = result_eval_CLP[2]\n",
    "cf_df = pd.concat({key: pd.DataFrame(cf_dict[key]) for key in cf_dict.keys()}).rename_axis(index = ['phase', 'id']).reset_index(0)"
   ]
  },
  {
   "cell_type": "code",
   "execution_count": 20,
   "metadata": {},
   "outputs": [
    {
     "data": {
      "text/html": [
       "<div>\n",
       "<style scoped>\n",
       "    .dataframe tbody tr th:only-of-type {\n",
       "        vertical-align: middle;\n",
       "    }\n",
       "\n",
       "    .dataframe tbody tr th {\n",
       "        vertical-align: top;\n",
       "    }\n",
       "\n",
       "    .dataframe thead th {\n",
       "        text-align: right;\n",
       "    }\n",
       "</style>\n",
       "<table border=\"1\" class=\"dataframe\">\n",
       "  <thead>\n",
       "    <tr style=\"text-align: right;\">\n",
       "      <th></th>\n",
       "      <th>phase</th>\n",
       "      <th>y</th>\n",
       "      <th>y_cf</th>\n",
       "      <th>group</th>\n",
       "      <th>group_cf</th>\n",
       "      <th>pred_prob_factual</th>\n",
       "      <th>pred_prob_cf</th>\n",
       "      <th>output_factual</th>\n",
       "      <th>output_cf</th>\n",
       "    </tr>\n",
       "    <tr>\n",
       "      <th>id</th>\n",
       "      <th></th>\n",
       "      <th></th>\n",
       "      <th></th>\n",
       "      <th></th>\n",
       "      <th></th>\n",
       "      <th></th>\n",
       "      <th></th>\n",
       "      <th></th>\n",
       "      <th></th>\n",
       "    </tr>\n",
       "  </thead>\n",
       "  <tbody>\n",
       "    <tr>\n",
       "      <th>0</th>\n",
       "      <td>test</td>\n",
       "      <td>0</td>\n",
       "      <td>0</td>\n",
       "      <td>3</td>\n",
       "      <td>0</td>\n",
       "      <td>0.031011</td>\n",
       "      <td>0.016756</td>\n",
       "      <td>-2.233965</td>\n",
       "      <td>-2.497749</td>\n",
       "    </tr>\n",
       "    <tr>\n",
       "      <th>1</th>\n",
       "      <td>test</td>\n",
       "      <td>0</td>\n",
       "      <td>0</td>\n",
       "      <td>3</td>\n",
       "      <td>0</td>\n",
       "      <td>0.014956</td>\n",
       "      <td>0.010218</td>\n",
       "      <td>-2.246483</td>\n",
       "      <td>-2.400265</td>\n",
       "    </tr>\n",
       "    <tr>\n",
       "      <th>2</th>\n",
       "      <td>test</td>\n",
       "      <td>0</td>\n",
       "      <td>0</td>\n",
       "      <td>2</td>\n",
       "      <td>0</td>\n",
       "      <td>0.010632</td>\n",
       "      <td>0.008525</td>\n",
       "      <td>-2.654529</td>\n",
       "      <td>-2.761294</td>\n",
       "    </tr>\n",
       "    <tr>\n",
       "      <th>3</th>\n",
       "      <td>test</td>\n",
       "      <td>0</td>\n",
       "      <td>0</td>\n",
       "      <td>2</td>\n",
       "      <td>0</td>\n",
       "      <td>0.371587</td>\n",
       "      <td>0.263346</td>\n",
       "      <td>-0.813954</td>\n",
       "      <td>-1.117028</td>\n",
       "    </tr>\n",
       "    <tr>\n",
       "      <th>4</th>\n",
       "      <td>test</td>\n",
       "      <td>1</td>\n",
       "      <td>1</td>\n",
       "      <td>2</td>\n",
       "      <td>0</td>\n",
       "      <td>0.888014</td>\n",
       "      <td>0.882769</td>\n",
       "      <td>0.931860</td>\n",
       "      <td>0.889044</td>\n",
       "    </tr>\n",
       "  </tbody>\n",
       "</table>\n",
       "</div>"
      ],
      "text/plain": [
       "   phase  y  y_cf  group  group_cf  pred_prob_factual  pred_prob_cf  \\\n",
       "id                                                                    \n",
       "0   test  0     0      3         0           0.031011      0.016756   \n",
       "1   test  0     0      3         0           0.014956      0.010218   \n",
       "2   test  0     0      2         0           0.010632      0.008525   \n",
       "3   test  0     0      2         0           0.371587      0.263346   \n",
       "4   test  1     1      2         0           0.888014      0.882769   \n",
       "\n",
       "    output_factual  output_cf  \n",
       "id                             \n",
       "0        -2.233965  -2.497749  \n",
       "1        -2.246483  -2.400265  \n",
       "2        -2.654529  -2.761294  \n",
       "3        -0.813954  -1.117028  \n",
       "4         0.931860   0.889044  "
      ]
     },
     "execution_count": 20,
     "metadata": {},
     "output_type": "execute_result"
    }
   ],
   "source": [
    "cf_df.head()"
   ]
  },
  {
   "cell_type": "code",
   "execution_count": 21,
   "metadata": {},
   "outputs": [
    {
     "data": {
      "text/html": [
       "<div>\n",
       "<style scoped>\n",
       "    .dataframe tbody tr th:only-of-type {\n",
       "        vertical-align: middle;\n",
       "    }\n",
       "\n",
       "    .dataframe tbody tr th {\n",
       "        vertical-align: top;\n",
       "    }\n",
       "\n",
       "    .dataframe thead th {\n",
       "        text-align: right;\n",
       "    }\n",
       "</style>\n",
       "<table border=\"1\" class=\"dataframe\">\n",
       "  <thead>\n",
       "    <tr style=\"text-align: right;\">\n",
       "      <th></th>\n",
       "      <th>phase</th>\n",
       "      <th>y</th>\n",
       "      <th>y_cf</th>\n",
       "      <th>group</th>\n",
       "      <th>group_cf</th>\n",
       "      <th>pred_prob_factual</th>\n",
       "      <th>pred_prob_cf</th>\n",
       "      <th>output_factual</th>\n",
       "      <th>output_cf</th>\n",
       "      <th>pred_diff</th>\n",
       "    </tr>\n",
       "    <tr>\n",
       "      <th>id</th>\n",
       "      <th></th>\n",
       "      <th></th>\n",
       "      <th></th>\n",
       "      <th></th>\n",
       "      <th></th>\n",
       "      <th></th>\n",
       "      <th></th>\n",
       "      <th></th>\n",
       "      <th></th>\n",
       "      <th></th>\n",
       "    </tr>\n",
       "  </thead>\n",
       "  <tbody>\n",
       "    <tr>\n",
       "      <th>0</th>\n",
       "      <td>test</td>\n",
       "      <td>0</td>\n",
       "      <td>0</td>\n",
       "      <td>3</td>\n",
       "      <td>0</td>\n",
       "      <td>0.031011</td>\n",
       "      <td>0.016756</td>\n",
       "      <td>-2.233965</td>\n",
       "      <td>-2.497749</td>\n",
       "      <td>-0.014255</td>\n",
       "    </tr>\n",
       "    <tr>\n",
       "      <th>1</th>\n",
       "      <td>test</td>\n",
       "      <td>0</td>\n",
       "      <td>0</td>\n",
       "      <td>3</td>\n",
       "      <td>0</td>\n",
       "      <td>0.014956</td>\n",
       "      <td>0.010218</td>\n",
       "      <td>-2.246483</td>\n",
       "      <td>-2.400265</td>\n",
       "      <td>-0.004738</td>\n",
       "    </tr>\n",
       "    <tr>\n",
       "      <th>2</th>\n",
       "      <td>test</td>\n",
       "      <td>0</td>\n",
       "      <td>0</td>\n",
       "      <td>2</td>\n",
       "      <td>0</td>\n",
       "      <td>0.010632</td>\n",
       "      <td>0.008525</td>\n",
       "      <td>-2.654529</td>\n",
       "      <td>-2.761294</td>\n",
       "      <td>-0.002107</td>\n",
       "    </tr>\n",
       "    <tr>\n",
       "      <th>3</th>\n",
       "      <td>test</td>\n",
       "      <td>0</td>\n",
       "      <td>0</td>\n",
       "      <td>2</td>\n",
       "      <td>0</td>\n",
       "      <td>0.371587</td>\n",
       "      <td>0.263346</td>\n",
       "      <td>-0.813954</td>\n",
       "      <td>-1.117028</td>\n",
       "      <td>-0.108241</td>\n",
       "    </tr>\n",
       "    <tr>\n",
       "      <th>4</th>\n",
       "      <td>test</td>\n",
       "      <td>1</td>\n",
       "      <td>1</td>\n",
       "      <td>2</td>\n",
       "      <td>0</td>\n",
       "      <td>0.888014</td>\n",
       "      <td>0.882769</td>\n",
       "      <td>0.931860</td>\n",
       "      <td>0.889044</td>\n",
       "      <td>-0.005245</td>\n",
       "    </tr>\n",
       "    <tr>\n",
       "      <th>5</th>\n",
       "      <td>test</td>\n",
       "      <td>1</td>\n",
       "      <td>0</td>\n",
       "      <td>2</td>\n",
       "      <td>0</td>\n",
       "      <td>0.215087</td>\n",
       "      <td>0.112191</td>\n",
       "      <td>-0.899828</td>\n",
       "      <td>-1.346518</td>\n",
       "      <td>-0.102896</td>\n",
       "    </tr>\n",
       "    <tr>\n",
       "      <th>6</th>\n",
       "      <td>test</td>\n",
       "      <td>0</td>\n",
       "      <td>0</td>\n",
       "      <td>3</td>\n",
       "      <td>0</td>\n",
       "      <td>0.033129</td>\n",
       "      <td>0.016918</td>\n",
       "      <td>-2.177666</td>\n",
       "      <td>-2.494870</td>\n",
       "      <td>-0.016212</td>\n",
       "    </tr>\n",
       "    <tr>\n",
       "      <th>7</th>\n",
       "      <td>test</td>\n",
       "      <td>0</td>\n",
       "      <td>0</td>\n",
       "      <td>2</td>\n",
       "      <td>0</td>\n",
       "      <td>0.182593</td>\n",
       "      <td>0.078071</td>\n",
       "      <td>-1.165575</td>\n",
       "      <td>-1.718503</td>\n",
       "      <td>-0.104522</td>\n",
       "    </tr>\n",
       "    <tr>\n",
       "      <th>8</th>\n",
       "      <td>test</td>\n",
       "      <td>1</td>\n",
       "      <td>0</td>\n",
       "      <td>3</td>\n",
       "      <td>0</td>\n",
       "      <td>0.863559</td>\n",
       "      <td>0.857688</td>\n",
       "      <td>0.728422</td>\n",
       "      <td>0.690384</td>\n",
       "      <td>-0.005871</td>\n",
       "    </tr>\n",
       "    <tr>\n",
       "      <th>9</th>\n",
       "      <td>test</td>\n",
       "      <td>0</td>\n",
       "      <td>0</td>\n",
       "      <td>2</td>\n",
       "      <td>0</td>\n",
       "      <td>0.020172</td>\n",
       "      <td>0.014740</td>\n",
       "      <td>-2.071482</td>\n",
       "      <td>-2.207195</td>\n",
       "      <td>-0.005432</td>\n",
       "    </tr>\n",
       "  </tbody>\n",
       "</table>\n",
       "</div>"
      ],
      "text/plain": [
       "   phase  y  y_cf  group  group_cf  pred_prob_factual  pred_prob_cf  \\\n",
       "id                                                                    \n",
       "0   test  0     0      3         0           0.031011      0.016756   \n",
       "1   test  0     0      3         0           0.014956      0.010218   \n",
       "2   test  0     0      2         0           0.010632      0.008525   \n",
       "3   test  0     0      2         0           0.371587      0.263346   \n",
       "4   test  1     1      2         0           0.888014      0.882769   \n",
       "5   test  1     0      2         0           0.215087      0.112191   \n",
       "6   test  0     0      3         0           0.033129      0.016918   \n",
       "7   test  0     0      2         0           0.182593      0.078071   \n",
       "8   test  1     0      3         0           0.863559      0.857688   \n",
       "9   test  0     0      2         0           0.020172      0.014740   \n",
       "\n",
       "    output_factual  output_cf  pred_diff  \n",
       "id                                        \n",
       "0        -2.233965  -2.497749  -0.014255  \n",
       "1        -2.246483  -2.400265  -0.004738  \n",
       "2        -2.654529  -2.761294  -0.002107  \n",
       "3        -0.813954  -1.117028  -0.108241  \n",
       "4         0.931860   0.889044  -0.005245  \n",
       "5        -0.899828  -1.346518  -0.102896  \n",
       "6        -2.177666  -2.494870  -0.016212  \n",
       "7        -1.165575  -1.718503  -0.104522  \n",
       "8         0.728422   0.690384  -0.005871  \n",
       "9        -2.071482  -2.207195  -0.005432  "
      ]
     },
     "execution_count": 21,
     "metadata": {},
     "output_type": "execute_result"
    }
   ],
   "source": [
    "cf_df = cf_df.assign(pred_diff = lambda x: x.pred_prob_cf - x.pred_prob_factual)\n",
    "cf_df.head(10)"
   ]
  },
  {
   "cell_type": "code",
   "execution_count": 22,
   "metadata": {},
   "outputs": [
    {
     "data": {
      "text/plain": [
       "y  y_cf\n",
       "0  0       (55419, 10)\n",
       "   1        (6951, 10)\n",
       "1  0        (8777, 10)\n",
       "   1        (6634, 10)\n",
       "dtype: object"
      ]
     },
     "execution_count": 22,
     "metadata": {},
     "output_type": "execute_result"
    }
   ],
   "source": [
    "cf_df.groupby(['y', 'y_cf']).apply(lambda x: x.shape)"
   ]
  },
  {
   "cell_type": "code",
   "execution_count": 23,
   "metadata": {},
   "outputs": [],
   "source": [
    "result = cf_df.groupby(['phase', 'y', 'y_cf', 'group', 'group_cf'])[['pred_diff']].agg(np.mean)"
   ]
  },
  {
   "cell_type": "code",
   "execution_count": 24,
   "metadata": {},
   "outputs": [],
   "source": [
    "result = result.reset_index()"
   ]
  },
  {
   "cell_type": "code",
   "execution_count": 25,
   "metadata": {},
   "outputs": [],
   "source": [
    "import matplotlib.pyplot as plt\n",
    "import seaborn as sns"
   ]
  },
  {
   "cell_type": "code",
   "execution_count": 26,
   "metadata": {
    "scrolled": false
   },
   "outputs": [
    {
     "name": "stdout",
     "output_type": "stream",
     "text": [
      "0 0\n"
     ]
    },
    {
     "data": {
      "image/png": "[encoded data removed]",
      "text/plain": [
       "<Figure size 432x288 with 2 Axes>"
      ]
     },
     "metadata": {},
     "output_type": "display_data"
    },
    {
     "name": "stdout",
     "output_type": "stream",
     "text": [
      "0 1\n"
     ]
    },
    {
     "data": {
      "image/png": "[encoded data removed]",
      "text/plain": [
       "<Figure size 432x288 with 2 Axes>"
      ]
     },
     "metadata": {},
     "output_type": "display_data"
    },
    {
     "name": "stdout",
     "output_type": "stream",
     "text": [
      "1 0\n"
     ]
    },
    {
     "data": {
      "image/png": "[encoded data removed]",
      "text/plain": [
       "<Figure size 432x288 with 2 Axes>"
      ]
     },
     "metadata": {},
     "output_type": "display_data"
    },
    {
     "name": "stdout",
     "output_type": "stream",
     "text": [
      "1 1\n"
     ]
    },
    {
     "data": {
      "image/png": "[encoded data removed]",
      "text/plain": [
       "<Figure size 432x288 with 2 Axes>"
      ]
     },
     "metadata": {},
     "output_type": "display_data"
    }
   ],
   "source": [
    "for y in [0, 1]:\n",
    "    for y_cf in [0, 1]:\n",
    "        print(y, y_cf)\n",
    "        temp = result[(result.phase == 'val') & (result.y == y) & (result.y_cf == y_cf)]\n",
    "        temp = temp.pivot('group', 'group_cf', 'pred_diff')\n",
    "        ax = sns.heatmap(temp, annot = True, center = 0, cmap = 'RdBu_r', vmin = -0.01, vmax = 0.01)\n",
    "        plt.show()"
   ]
  },
  {
   "cell_type": "code",
   "execution_count": 27,
   "metadata": {},
   "outputs": [
    {
     "name": "stdout",
     "output_type": "stream",
     "text": [
      "(array([0.06900383, 0.22761359, 0.28005373, 0.33449175, 0.371484  ,\n",
      "       0.49090909, 0.5380774 , 0.59677419, 0.7278415 , 0.85663082]), array([0.02039306, 0.14502354, 0.24695717, 0.34921212, 0.44881929,\n",
      "       0.54974891, 0.64909602, 0.75074944, 0.85313507, 0.91609889]))\n"
     ]
    }
   ],
   "source": [
    "from sklearn.calibration import calibration_curve\n",
    "\n",
    "cal = calibration_curve(cf_df.y, cf_df.pred_prob_factual, n_bins = 10)\n",
    "print(cal)"
   ]
  },
  {
   "cell_type": "code",
   "execution_count": 28,
   "metadata": {},
   "outputs": [
    {
     "data": {
      "text/html": [
       "<div>\n",
       "<style scoped>\n",
       "    .dataframe tbody tr th:only-of-type {\n",
       "        vertical-align: middle;\n",
       "    }\n",
       "\n",
       "    .dataframe tbody tr th {\n",
       "        vertical-align: top;\n",
       "    }\n",
       "\n",
       "    .dataframe thead th {\n",
       "        text-align: right;\n",
       "    }\n",
       "</style>\n",
       "<table border=\"1\" class=\"dataframe\">\n",
       "  <thead>\n",
       "    <tr style=\"text-align: right;\">\n",
       "      <th></th>\n",
       "      <th>sensitive_variable</th>\n",
       "      <th>group</th>\n",
       "      <th>metric</th>\n",
       "      <th>phase</th>\n",
       "      <th>epoch</th>\n",
       "      <th>performance</th>\n",
       "    </tr>\n",
       "    <tr>\n",
       "      <th>index</th>\n",
       "      <th></th>\n",
       "      <th></th>\n",
       "      <th></th>\n",
       "      <th></th>\n",
       "      <th></th>\n",
       "      <th></th>\n",
       "    </tr>\n",
       "  </thead>\n",
       "  <tbody>\n",
       "    <tr>\n",
       "      <th>0</th>\n",
       "      <td>age</td>\n",
       "      <td>0</td>\n",
       "      <td>auc</td>\n",
       "      <td>val</td>\n",
       "      <td>0</td>\n",
       "      <td>0.882517</td>\n",
       "    </tr>\n",
       "    <tr>\n",
       "      <th>1</th>\n",
       "      <td>age</td>\n",
       "      <td>0</td>\n",
       "      <td>auprc</td>\n",
       "      <td>val</td>\n",
       "      <td>0</td>\n",
       "      <td>0.630897</td>\n",
       "    </tr>\n",
       "    <tr>\n",
       "      <th>2</th>\n",
       "      <td>age</td>\n",
       "      <td>0</td>\n",
       "      <td>brier</td>\n",
       "      <td>val</td>\n",
       "      <td>0</td>\n",
       "      <td>0.098087</td>\n",
       "    </tr>\n",
       "    <tr>\n",
       "      <th>3</th>\n",
       "      <td>age</td>\n",
       "      <td>0</td>\n",
       "      <td>classification</td>\n",
       "      <td>val</td>\n",
       "      <td>0</td>\n",
       "      <td>0.323098</td>\n",
       "    </tr>\n",
       "    <tr>\n",
       "      <th>4</th>\n",
       "      <td>age</td>\n",
       "      <td>0</td>\n",
       "      <td>loss</td>\n",
       "      <td>val</td>\n",
       "      <td>0</td>\n",
       "      <td>0.323098</td>\n",
       "    </tr>\n",
       "  </tbody>\n",
       "</table>\n",
       "</div>"
      ],
      "text/plain": [
       "      sensitive_variable  group          metric phase  epoch  performance\n",
       "index                                                                    \n",
       "0                    age      0             auc   val      0     0.882517\n",
       "1                    age      0           auprc   val      0     0.630897\n",
       "2                    age      0           brier   val      0     0.098087\n",
       "3                    age      0  classification   val      0     0.323098\n",
       "4                    age      0            loss   val      0     0.323098"
      ]
     },
     "execution_count": 28,
     "metadata": {},
     "output_type": "execute_result"
    }
   ],
   "source": [
    "## Get performance by group\n",
    "sensitive_variables = ['age', 'gender', 'race_eth']\n",
    "data_dict_by_group = {sensitive_variable: {} for sensitive_variable in sensitive_variables}\n",
    "label_dict_by_group = {sensitive_variable: {} for sensitive_variable in sensitive_variables}\n",
    "group_dict_by_group = {sensitive_variable: {} for sensitive_variable in sensitive_variables}\n",
    "for sensitive_variable in sensitive_variables:\n",
    "    groups = np.unique(master_label_dict['train'][sensitive_variable])\n",
    "    for group in groups:\n",
    "        data_dict_by_group[sensitive_variable][group] = {split: \n",
    "                                     data_dict[split][master_label_dict[split][sensitive_variable] == group]\n",
    "                                     for split in data_dict.keys()\n",
    "                                    }\n",
    "        label_dict_by_group[sensitive_variable][group] = {split: \n",
    "                                     label_dict[split][master_label_dict[split][sensitive_variable] == group]\n",
    "                                     for split in data_dict.keys()\n",
    "                                    }\n",
    "        group_dict_by_group[sensitive_variable][group] = {split: \n",
    "                                     group_dict[split][master_label_dict[split][sensitive_variable] == group]\n",
    "                                     for split in data_dict.keys()\n",
    "                                    }\n",
    "\n",
    "result_df_by_group = pd.concat({sensitive_variable: \n",
    "                          pd.concat({\n",
    "                              group: model.process_result_dict(model.predict_final_classifier(data_dict_by_group[sensitive_variable][group],\n",
    "                                                                             label_dict_by_group[sensitive_variable][group], \n",
    "                                                                             group_dict_by_group[sensitive_variable][group],\n",
    "                                                  phases = ['val', 'test'])[1])\n",
    "                              for group in data_dict_by_group[sensitive_variable].keys()\n",
    "                          })\n",
    "                          for sensitive_variable in data_dict_by_group.keys()\n",
    "                         })\n",
    "result_df_by_group.index = result_df_by_group.index.set_names(['sensitive_variable', 'group', 'index'])\n",
    "result_df_by_group = result_df_by_group.reset_index(level = [0, 1])\n",
    "result_df_by_group.head()"
   ]
  },
  {
   "cell_type": "code",
   "execution_count": 29,
   "metadata": {},
   "outputs": [
    {
     "data": {
      "text/html": [
       "<div>\n",
       "<style scoped>\n",
       "    .dataframe tbody tr th:only-of-type {\n",
       "        vertical-align: middle;\n",
       "    }\n",
       "\n",
       "    .dataframe tbody tr th {\n",
       "        vertical-align: top;\n",
       "    }\n",
       "\n",
       "    .dataframe thead th {\n",
       "        text-align: right;\n",
       "    }\n",
       "</style>\n",
       "<table border=\"1\" class=\"dataframe\">\n",
       "  <thead>\n",
       "    <tr style=\"text-align: right;\">\n",
       "      <th></th>\n",
       "      <th>sensitive_variable</th>\n",
       "      <th>group</th>\n",
       "      <th>metric</th>\n",
       "      <th>phase</th>\n",
       "      <th>epoch</th>\n",
       "      <th>performance</th>\n",
       "    </tr>\n",
       "    <tr>\n",
       "      <th>index</th>\n",
       "      <th></th>\n",
       "      <th></th>\n",
       "      <th></th>\n",
       "      <th></th>\n",
       "      <th></th>\n",
       "      <th></th>\n",
       "    </tr>\n",
       "  </thead>\n",
       "  <tbody>\n",
       "    <tr>\n",
       "      <th>0</th>\n",
       "      <td>age</td>\n",
       "      <td>0</td>\n",
       "      <td>auc</td>\n",
       "      <td>val</td>\n",
       "      <td>0</td>\n",
       "      <td>0.882517</td>\n",
       "    </tr>\n",
       "    <tr>\n",
       "      <th>5</th>\n",
       "      <td>age</td>\n",
       "      <td>0</td>\n",
       "      <td>auc</td>\n",
       "      <td>test</td>\n",
       "      <td>0</td>\n",
       "      <td>0.865198</td>\n",
       "    </tr>\n",
       "    <tr>\n",
       "      <th>0</th>\n",
       "      <td>age</td>\n",
       "      <td>1</td>\n",
       "      <td>auc</td>\n",
       "      <td>val</td>\n",
       "      <td>0</td>\n",
       "      <td>0.869204</td>\n",
       "    </tr>\n",
       "    <tr>\n",
       "      <th>5</th>\n",
       "      <td>age</td>\n",
       "      <td>1</td>\n",
       "      <td>auc</td>\n",
       "      <td>test</td>\n",
       "      <td>0</td>\n",
       "      <td>0.868595</td>\n",
       "    </tr>\n",
       "    <tr>\n",
       "      <th>0</th>\n",
       "      <td>age</td>\n",
       "      <td>2</td>\n",
       "      <td>auc</td>\n",
       "      <td>val</td>\n",
       "      <td>0</td>\n",
       "      <td>0.819984</td>\n",
       "    </tr>\n",
       "    <tr>\n",
       "      <th>5</th>\n",
       "      <td>age</td>\n",
       "      <td>2</td>\n",
       "      <td>auc</td>\n",
       "      <td>test</td>\n",
       "      <td>0</td>\n",
       "      <td>0.834595</td>\n",
       "    </tr>\n",
       "    <tr>\n",
       "      <th>0</th>\n",
       "      <td>age</td>\n",
       "      <td>3</td>\n",
       "      <td>auc</td>\n",
       "      <td>val</td>\n",
       "      <td>0</td>\n",
       "      <td>0.806423</td>\n",
       "    </tr>\n",
       "    <tr>\n",
       "      <th>5</th>\n",
       "      <td>age</td>\n",
       "      <td>3</td>\n",
       "      <td>auc</td>\n",
       "      <td>test</td>\n",
       "      <td>0</td>\n",
       "      <td>0.799760</td>\n",
       "    </tr>\n",
       "  </tbody>\n",
       "</table>\n",
       "</div>"
      ],
      "text/plain": [
       "      sensitive_variable  group metric phase  epoch  performance\n",
       "index                                                           \n",
       "0                    age      0    auc   val      0     0.882517\n",
       "5                    age      0    auc  test      0     0.865198\n",
       "0                    age      1    auc   val      0     0.869204\n",
       "5                    age      1    auc  test      0     0.868595\n",
       "0                    age      2    auc   val      0     0.819984\n",
       "5                    age      2    auc  test      0     0.834595\n",
       "0                    age      3    auc   val      0     0.806423\n",
       "5                    age      3    auc  test      0     0.799760"
      ]
     },
     "execution_count": 29,
     "metadata": {},
     "output_type": "execute_result"
    }
   ],
   "source": [
    "result_df_by_group.loc[(result_df_by_group.sensitive_variable == 'age') & (result_df_by_group.metric == 'auc')]"
   ]
  }
 ],
 "metadata": {
  "kernelspec": {
   "display_name": "Python 3",
   "language": "python",
   "name": "python3"
  },
  "language_info": {
   "codemirror_mode": {
    "name": "ipython",
    "version": 3
   },
   "file_extension": ".py",
   "mimetype": "text/x-python",
   "name": "python",
   "nbconvert_exporter": "python",
   "pygments_lexer": "ipython3",
   "version": "3.6.7"
  }
 },
 "nbformat": 4,
 "nbformat_minor": 2
}
