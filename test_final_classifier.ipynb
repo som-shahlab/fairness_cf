{
 "cells": [
  {
   "cell_type": "code",
   "execution_count": 1,
   "metadata": {},
   "outputs": [],
   "source": [
    "import numpy as np\n",
    "import os\n",
    "import torch\n",
    "import pandas as pd\n",
    "import yaml\n",
    "\n",
    "from sklearn.externals import joblib\n",
    "\n",
    "from pytorch_utils.cfvae_models import CFVAEModel"
   ]
  },
  {
   "cell_type": "code",
   "execution_count": 2,
   "metadata": {},
   "outputs": [],
   "source": [
    "outcome = 'los'\n",
    "sensitive_variable = 'age'\n",
    "data_path = 'data/'\n",
    "\n",
    "# features_path = os.path.join(data_path, '{}_excluded'.format(sensitive_variable),'features')\n",
    "features_path = os.path.join(data_path, 'features', str(0), '{}_excluded'.format(sensitive_variable))\n",
    "label_path = os.path.join(data_path, 'labels')\n",
    "# config_path = os.path.join(data_path, 'config', 'grid', 'baseline')\n",
    "checkpoints_path = os.path.join(data_path, 'checkpoints', 'scratch', outcome)\n",
    "performance_path = os.path.join(data_path, 'performance', 'scratch', outcome)"
   ]
  },
  {
   "cell_type": "code",
   "execution_count": 3,
   "metadata": {},
   "outputs": [
    {
     "data": {
      "text/plain": [
       "'1552683762.4261506.chk'"
      ]
     },
     "execution_count": 3,
     "metadata": {},
     "output_type": "execute_result"
    }
   ],
   "source": [
    "config_load_path = os.path.join(data_path, 'config', 'defaults', 'cfvae', outcome, sensitive_variable, 'model_config.yaml')\n",
    "checkpoint_load_path = os.path.join(data_path, 'checkpoints', 'cfvae_default', outcome, sensitive_variable, str(1))\n",
    "os.listdir(checkpoint_load_path)[0]"
   ]
  },
  {
   "cell_type": "code",
   "execution_count": 4,
   "metadata": {},
   "outputs": [],
   "source": [
    "os.makedirs(checkpoints_path, exist_ok=True)\n",
    "os.makedirs(performance_path, exist_ok=True)"
   ]
  },
  {
   "cell_type": "code",
   "execution_count": 5,
   "metadata": {},
   "outputs": [],
   "source": [
    "device = torch.device(\"cuda\" if torch.cuda.is_available() else \"cpu\")"
   ]
  },
  {
   "cell_type": "code",
   "execution_count": 6,
   "metadata": {},
   "outputs": [],
   "source": [
    "features_dict = joblib.load(os.path.join(features_path, 'features.pkl'))\n",
    "master_label_dict = joblib.load(os.path.join(label_path, 'label_dict.pkl'))"
   ]
  },
  {
   "cell_type": "code",
   "execution_count": 7,
   "metadata": {},
   "outputs": [],
   "source": [
    "data_dict = {split: features_dict[split]['features'] for split in features_dict.keys()}\n",
    "label_dict = {split : master_label_dict[split][outcome] for split in master_label_dict.keys()}\n",
    "group_dict = {split : master_label_dict[split][sensitive_variable] for split in master_label_dict.keys()}"
   ]
  },
  {
   "cell_type": "code",
   "execution_count": 8,
   "metadata": {},
   "outputs": [],
   "source": [
    "group_map = pd.read_csv(os.path.join(label_path, '{}_map.csv'.format(sensitive_variable)))"
   ]
  },
  {
   "cell_type": "code",
   "execution_count": 9,
   "metadata": {},
   "outputs": [],
   "source": [
    "# # with open(os.path.join(config_path, '{}.yaml'.format(grid_element)), 'r') as fp:\n",
    "# #     config_dict = yaml.load(fp)\n",
    "    \n",
    "# CFVAE\n",
    "# config_dict = {\n",
    "#     # Standard parameters\n",
    "#     'input_dim' : data_dict['train'].shape[1],\n",
    "#     'num_groups' : len(np.unique(group_dict['train'])),\n",
    "#     'lr' : 1e-3,\n",
    "#     'lr_final_classifier' : 1e-3,\n",
    "#     'gamma' : 0.99,\n",
    "#     'num_epochs' : 10,\n",
    "#     'iters_per_epoch' : 100,\n",
    "#     'output_dim' : 2,\n",
    "#     'batch_size' : 256,\n",
    "#     'sparse' : True,\n",
    "#     'sparse_mode' : 'binary',\n",
    "#     # Parameters corresponding to the size of the VAE\n",
    "#     'group_embed_dim' : 64,\n",
    "#     'latent_dim' : 64,\n",
    "#     'num_hidden' : 2,\n",
    "#     'drop_prob' : 0.0,\n",
    "#     'resnet' : False,\n",
    "#     'normalize' : False,\n",
    "#     # Parameters corresponding to the size of classifier\n",
    "#     'hidden_dim_classifier' : 128,\n",
    "#     'num_hidden_classifier' : 1,\n",
    "#     'drop_prob_classifier' : 0.0,\n",
    "#     'resnet_classifier' : False,\n",
    "#     'normalize_classifier' : False,\n",
    "\n",
    "#     # Lambda\n",
    "#     'lambda_reconstruction' : 1e3,\n",
    "#     'lambda_mmd' : 1e4,\n",
    "#     'lambda_kl' : 0.0,\n",
    "#     'lambda_classification' : 1e1,\n",
    "#     'lambda_mmd_group' : 1e3\n",
    "# }\n",
    "with open(config_load_path, 'r') as fp:\n",
    "    config_dict = yaml.load(fp)"
   ]
  },
  {
   "cell_type": "code",
   "execution_count": 10,
   "metadata": {},
   "outputs": [
    {
     "data": {
      "text/plain": [
       "{'batch_size': 512,\n",
       " 'drop_prob': 0.25,\n",
       " 'drop_prob_classifier': 0.25,\n",
       " 'gamma': None,\n",
       " 'group_embed_dim': 64,\n",
       " 'hidden_dim_classifier': 128,\n",
       " 'input_dim': 368113,\n",
       " 'iters_per_epoch': 100,\n",
       " 'lambda_classification': 10.0,\n",
       " 'lambda_kl': 0.0,\n",
       " 'lambda_mmd': 10000.0,\n",
       " 'lambda_mmd_group': 1000.0,\n",
       " 'lambda_reconstruction': 1000.0,\n",
       " 'latent_dim': 128,\n",
       " 'lr': 0.0001,\n",
       " 'lr_final_classifier': 0.001,\n",
       " 'normalize': False,\n",
       " 'normalize_classifier': True,\n",
       " 'num_epochs': 20,\n",
       " 'num_groups': 4,\n",
       " 'num_hidden': 1,\n",
       " 'num_hidden_classifier': 2,\n",
       " 'output_dim': 2,\n",
       " 'resnet': False,\n",
       " 'resnet_classifier': False,\n",
       " 'sparse': True,\n",
       " 'sparse_mode': 'binary'}"
      ]
     },
     "execution_count": 10,
     "metadata": {},
     "output_type": "execute_result"
    }
   ],
   "source": [
    "config_dict"
   ]
  },
  {
   "cell_type": "code",
   "execution_count": 11,
   "metadata": {},
   "outputs": [],
   "source": [
    "config_dict_final_classifier = {\n",
    "    'lr_final_classifier' : 1e-3,\n",
    "    'lambda_final_classifier_cf' : 0e0,\n",
    "    'lambda_clp' : 1e0,\n",
    "    'lambda_clp_entropy' : 0e0,\n",
    "    'num_epochs' : 5\n",
    "#     'num_iters_per_epoch' : None,\n",
    "    \n",
    "}\n",
    "config_dict = {**config_dict, **config_dict_final_classifier}"
   ]
  },
  {
   "cell_type": "code",
   "execution_count": 12,
   "metadata": {},
   "outputs": [],
   "source": [
    "if sensitive_variable == 'gender':\n",
    "    data_dict = {k: v[group_dict[k] < 2] for k,v in data_dict.items()}\n",
    "    label_dict = {k: v[group_dict[k] < 2] for k,v in label_dict.items()}\n",
    "    group_dict = {k: v[group_dict[k] < 2] for k,v in group_dict.items()}"
   ]
  },
  {
   "cell_type": "code",
   "execution_count": 13,
   "metadata": {
    "scrolled": true
   },
   "outputs": [],
   "source": [
    "model = CFVAEModel(config_dict)"
   ]
  },
  {
   "cell_type": "code",
   "execution_count": 14,
   "metadata": {},
   "outputs": [],
   "source": [
    "model.load_weights(os.path.join(checkpoint_load_path, os.listdir(checkpoint_load_path)[0]))"
   ]
  },
  {
   "cell_type": "code",
   "execution_count": 15,
   "metadata": {},
   "outputs": [
    {
     "name": "stdout",
     "output_type": "stream",
     "text": [
      "Epoch 0/4\n",
      "----------\n",
      "Phase: train:\n",
      " loss: 0.705469, classification: 0.412684, classification_cf: 0.399826, clp: 0.293164, clp_entropy: 1.079765,\n",
      "Factual\n",
      " auc: 0.822840, auprc: 0.517786, brier: 0.128447,\n",
      "Counterfactual\n",
      " auc: 0.830639, auprc: 0.510058, brier: 0.123129,\n",
      "Phase: val:\n",
      " loss: 0.397353, classification: 0.396312, classification_cf: 0.333426, clp: 0.001028, clp_entropy: 0.978255,\n",
      "Factual\n",
      " auc: 0.829614, auprc: 0.571277, brier: 0.122326,\n",
      "Counterfactual\n",
      " auc: 0.905752, auprc: 0.710474, brier: 0.096928,\n",
      "Best model updated\n",
      "Epoch 1/4\n",
      "----------\n",
      "Phase: train:\n",
      " loss: 0.383696, classification: 0.313177, classification_cf: 0.305847, clp: 0.070529, clp_entropy: 0.932480,\n",
      "Factual\n",
      " auc: 0.916244, auprc: 0.768294, brier: 0.090700,\n",
      "Counterfactual\n",
      " auc: 0.918621, auprc: 0.747279, brier: 0.087772,\n",
      "Phase: val:\n",
      " loss: 0.388917, classification: 0.388097, classification_cf: 0.303736, clp: 0.000813, clp_entropy: 0.905352,\n",
      "Factual\n",
      " auc: 0.835235, auprc: 0.578249, brier: 0.120467,\n",
      "Counterfactual\n",
      " auc: 0.917578, auprc: 0.737243, brier: 0.087175,\n",
      "Best model updated\n",
      "Epoch 2/4\n",
      "----------\n",
      "Phase: train:\n",
      " loss: 0.350765, classification: 0.292665, classification_cf: 0.288120, clp: 0.058106, clp_entropy: 0.873659,\n",
      "Factual\n",
      " auc: 0.925748, auprc: 0.791855, brier: 0.084133,\n",
      "Counterfactual\n",
      " auc: 0.924748, auprc: 0.765025, brier: 0.082447,\n",
      "Phase: val:\n",
      " loss: 0.390468, classification: 0.389739, classification_cf: 0.294449, clp: 0.000726, clp_entropy: 0.872212,\n",
      "Factual\n",
      " auc: 0.835157, auprc: 0.576176, brier: 0.121612,\n",
      "Counterfactual\n",
      " auc: 0.919717, auprc: 0.735160, brier: 0.084900,\n",
      "Epoch 3/4\n",
      "----------\n",
      "Phase: train:\n",
      " loss: 0.329248, classification: 0.277855, classification_cf: 0.280222, clp: 0.051395, clp_entropy: 0.834696,\n",
      "Factual\n",
      " auc: 0.931768, auprc: 0.801140, brier: 0.079443,\n",
      "Counterfactual\n",
      " auc: 0.925394, auprc: 0.765823, brier: 0.080382,\n",
      "Phase: val:\n",
      " loss: 0.389230, classification: 0.388743, classification_cf: 0.284287, clp: 0.000483, clp_entropy: 0.831689,\n",
      "Factual\n",
      " auc: 0.834414, auprc: 0.581465, brier: 0.121618,\n",
      "Counterfactual\n",
      " auc: 0.920344, auprc: 0.745911, brier: 0.082202,\n",
      "Epoch 4/4\n",
      "----------\n",
      "Phase: train:\n",
      " loss: 0.322296, classification: 0.277398, classification_cf: 0.279182, clp: 0.044895, clp_entropy: 0.815966,\n",
      "Factual\n",
      " auc: 0.929464, auprc: 0.794341, brier: 0.079868,\n",
      "Counterfactual\n",
      " auc: 0.924527, auprc: 0.758888, brier: 0.080625,\n",
      "Phase: val:\n",
      " loss: 0.388975, classification: 0.388398, classification_cf: 0.284017, clp: 0.000572, clp_entropy: 0.793166,\n",
      "Factual\n",
      " auc: 0.832814, auprc: 0.578506, brier: 0.121332,\n",
      "Counterfactual\n",
      " auc: 0.919334, auprc: 0.738658, brier: 0.083361,\n",
      "Best val performance: 0.388917\n",
      "CPU times: user 1min 31s, sys: 3.31 s, total: 1min 34s\n",
      "Wall time: 1min 7s\n"
     ]
    }
   ],
   "source": [
    "%%time\n",
    "result = model.train_final_classifier(data_dict, label_dict, group_dict)\n",
    "# result = model.train_final_classifier(small_data_dict, small_label_dict, small_group_dict)"
   ]
  },
  {
   "cell_type": "code",
   "execution_count": 16,
   "metadata": {},
   "outputs": [
    {
     "data": {
      "text/plain": [
       "{'train': {'auc': [0.9299105703931062],\n",
       "  'auprc': [0.7988801608337359],\n",
       "  'brier': [0.08344975838459158],\n",
       "  'loss': [0.29502871379256246],\n",
       "  'classification': [0.29429263293743135],\n",
       "  'classification_cf': [0.2902029851078987],\n",
       "  'clp': [0.0007358566188690642],\n",
       "  'clp_entropy': [0.9003165664097309]},\n",
       " 'val': {'auc': [0.8353877931954911],\n",
       "  'auprc': [0.5790901869558563],\n",
       "  'brier': [0.1204830829907415],\n",
       "  'loss': [0.3885889660853606],\n",
       "  'classification': [0.38778666808054996],\n",
       "  'classification_cf': [0.3040125392950498],\n",
       "  'clp': [0.000798234985454579],\n",
       "  'clp_entropy': [0.9043718690859855]},\n",
       " 'test': {'auc': [0.8378277177807129],\n",
       "  'auprc': [0.5748208666818564],\n",
       "  'brier': [0.1177468596058258],\n",
       "  'loss': [0.38143051243745363],\n",
       "  'classification': [0.38066202860612136],\n",
       "  'classification_cf': [0.2992565310918368],\n",
       "  'clp': [0.0007718362817846446],\n",
       "  'clp_entropy': [0.9004612352217497]}}"
      ]
     },
     "execution_count": 16,
     "metadata": {},
     "output_type": "execute_result"
    }
   ],
   "source": [
    "result_eval = model.predict_final_classifier(data_dict, label_dict, group_dict, phases = ['train', 'val', 'test'])\n",
    "result_eval[1]"
   ]
  }
 ],
 "metadata": {
  "kernelspec": {
   "display_name": "Python 3",
   "language": "python",
   "name": "python3"
  },
  "language_info": {
   "codemirror_mode": {
    "name": "ipython",
    "version": 3
   },
   "file_extension": ".py",
   "mimetype": "text/x-python",
   "name": "python",
   "nbconvert_exporter": "python",
   "pygments_lexer": "ipython3",
   "version": "3.6.7"
  }
 },
 "nbformat": 4,
 "nbformat_minor": 2
}
