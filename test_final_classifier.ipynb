{
 "cells": [
  {
   "cell_type": "code",
   "execution_count": 1,
   "metadata": {},
   "outputs": [],
   "source": [
    "import numpy as np\n",
    "import os\n",
    "import torch\n",
    "import pandas as pd\n",
    "import yaml\n",
    "\n",
    "from sklearn.externals import joblib\n",
    "\n",
    "from pytorch_utils.cfvae_models import CFVAEModel"
   ]
  },
  {
   "cell_type": "code",
   "execution_count": 2,
   "metadata": {},
   "outputs": [],
   "source": [
    "outcome = 'los'\n",
    "sensitive_variable = 'age'\n",
    "data_path = 'data/'\n",
    "\n",
    "# features_path = os.path.join(data_path, '{}_excluded'.format(sensitive_variable),'features')\n",
    "features_path = os.path.join(data_path, 'features', str(0), '{}_excluded'.format(sensitive_variable))\n",
    "label_path = os.path.join(data_path, 'labels')\n",
    "# config_path = os.path.join(data_path, 'config', 'grid', 'baseline')\n",
    "checkpoints_path = os.path.join(data_path, 'checkpoints', 'scratch', outcome)\n",
    "performance_path = os.path.join(data_path, 'performance', 'scratch', outcome)"
   ]
  },
  {
   "cell_type": "code",
   "execution_count": 3,
   "metadata": {},
   "outputs": [
    {
     "data": {
      "text/plain": [
       "'1552683762.4261506.chk'"
      ]
     },
     "execution_count": 3,
     "metadata": {},
     "output_type": "execute_result"
    }
   ],
   "source": [
    "config_load_path = os.path.join(data_path, 'config', 'defaults', 'cfvae', outcome, sensitive_variable, 'model_config.yaml')\n",
    "checkpoint_load_path = os.path.join(data_path, 'checkpoints', 'cfvae_default', outcome, sensitive_variable, str(1))\n",
    "os.listdir(checkpoint_load_path)[0]"
   ]
  },
  {
   "cell_type": "code",
   "execution_count": 4,
   "metadata": {},
   "outputs": [],
   "source": [
    "os.makedirs(checkpoints_path, exist_ok=True)\n",
    "os.makedirs(performance_path, exist_ok=True)"
   ]
  },
  {
   "cell_type": "code",
   "execution_count": 5,
   "metadata": {},
   "outputs": [],
   "source": [
    "device = torch.device(\"cuda\" if torch.cuda.is_available() else \"cpu\")"
   ]
  },
  {
   "cell_type": "code",
   "execution_count": 6,
   "metadata": {},
   "outputs": [],
   "source": [
    "features_dict = joblib.load(os.path.join(features_path, 'features.pkl'))\n",
    "master_label_dict = joblib.load(os.path.join(label_path, 'label_dict.pkl'))"
   ]
  },
  {
   "cell_type": "code",
   "execution_count": 7,
   "metadata": {},
   "outputs": [],
   "source": [
    "data_dict = {split: features_dict[split]['features'] for split in features_dict.keys()}\n",
    "label_dict = {split : master_label_dict[split][outcome] for split in master_label_dict.keys()}\n",
    "group_dict = {split : master_label_dict[split][sensitive_variable] for split in master_label_dict.keys()}"
   ]
  },
  {
   "cell_type": "code",
   "execution_count": 8,
   "metadata": {},
   "outputs": [],
   "source": [
    "group_map = pd.read_csv(os.path.join(label_path, '{}_map.csv'.format(sensitive_variable)))"
   ]
  },
  {
   "cell_type": "code",
   "execution_count": 9,
   "metadata": {},
   "outputs": [],
   "source": [
    "# # with open(os.path.join(config_path, '{}.yaml'.format(grid_element)), 'r') as fp:\n",
    "# #     config_dict = yaml.load(fp)\n",
    "    \n",
    "# CFVAE\n",
    "# config_dict = {\n",
    "#     # Standard parameters\n",
    "#     'input_dim' : data_dict['train'].shape[1],\n",
    "#     'num_groups' : len(np.unique(group_dict['train'])),\n",
    "#     'lr' : 1e-3,\n",
    "#     'lr_final_classifier' : 1e-3,\n",
    "#     'gamma' : 0.99,\n",
    "#     'num_epochs' : 10,\n",
    "#     'iters_per_epoch' : 100,\n",
    "#     'output_dim' : 2,\n",
    "#     'batch_size' : 256,\n",
    "#     'sparse' : True,\n",
    "#     'sparse_mode' : 'binary',\n",
    "#     # Parameters corresponding to the size of the VAE\n",
    "#     'group_embed_dim' : 64,\n",
    "#     'latent_dim' : 64,\n",
    "#     'num_hidden' : 2,\n",
    "#     'drop_prob' : 0.0,\n",
    "#     'resnet' : False,\n",
    "#     'normalize' : False,\n",
    "#     # Parameters corresponding to the size of classifier\n",
    "#     'hidden_dim_classifier' : 128,\n",
    "#     'num_hidden_classifier' : 1,\n",
    "#     'drop_prob_classifier' : 0.0,\n",
    "#     'resnet_classifier' : False,\n",
    "#     'normalize_classifier' : False,\n",
    "\n",
    "#     # Lambda\n",
    "#     'lambda_reconstruction' : 1e3,\n",
    "#     'lambda_mmd' : 1e4,\n",
    "#     'lambda_kl' : 0.0,\n",
    "#     'lambda_classification' : 1e1,\n",
    "#     'lambda_mmd_group' : 1e3\n",
    "# }\n",
    "with open(config_load_path, 'r') as fp:\n",
    "    config_dict = yaml.load(fp)"
   ]
  },
  {
   "cell_type": "code",
   "execution_count": 10,
   "metadata": {},
   "outputs": [
    {
     "data": {
      "text/plain": [
       "{'batch_size': 512,\n",
       " 'drop_prob': 0.25,\n",
       " 'drop_prob_classifier': 0.25,\n",
       " 'gamma': None,\n",
       " 'group_embed_dim': 64,\n",
       " 'hidden_dim_classifier': 128,\n",
       " 'input_dim': 368113,\n",
       " 'iters_per_epoch': 100,\n",
       " 'lambda_classification': 10.0,\n",
       " 'lambda_kl': 0.0,\n",
       " 'lambda_mmd': 10000.0,\n",
       " 'lambda_mmd_group': 1000.0,\n",
       " 'lambda_reconstruction': 1000.0,\n",
       " 'latent_dim': 128,\n",
       " 'lr': 0.0001,\n",
       " 'lr_final_classifier': 0.001,\n",
       " 'normalize': False,\n",
       " 'normalize_classifier': True,\n",
       " 'num_epochs': 20,\n",
       " 'num_groups': 4,\n",
       " 'num_hidden': 1,\n",
       " 'num_hidden_classifier': 2,\n",
       " 'output_dim': 2,\n",
       " 'resnet': False,\n",
       " 'resnet_classifier': False,\n",
       " 'sparse': True,\n",
       " 'sparse_mode': 'binary'}"
      ]
     },
     "execution_count": 10,
     "metadata": {},
     "output_type": "execute_result"
    }
   ],
   "source": [
    "config_dict"
   ]
  },
  {
   "cell_type": "code",
   "execution_count": 11,
   "metadata": {},
   "outputs": [],
   "source": [
    "config_dict_final_classifier = {\n",
    "    'lr_final_classifier' : 1e-3,\n",
    "    'lambda_final_classifier_cf' : 0e0,\n",
    "    'lambda_clp' : 1e1,\n",
    "    'num_epochs' : 10\n",
    "#     'num_iters_per_epoch' : None,\n",
    "    \n",
    "}\n",
    "config_dict = {**config_dict, **config_dict_final_classifier}"
   ]
  },
  {
   "cell_type": "code",
   "execution_count": 12,
   "metadata": {},
   "outputs": [],
   "source": [
    "if sensitive_variable == 'gender':\n",
    "    data_dict = {k: v[group_dict[k] < 2] for k,v in data_dict.items()}\n",
    "    label_dict = {k: v[group_dict[k] < 2] for k,v in label_dict.items()}\n",
    "    group_dict = {k: v[group_dict[k] < 2] for k,v in group_dict.items()}"
   ]
  },
  {
   "cell_type": "code",
   "execution_count": 13,
   "metadata": {
    "scrolled": true
   },
   "outputs": [],
   "source": [
    "model = CFVAEModel(config_dict)"
   ]
  },
  {
   "cell_type": "code",
   "execution_count": 14,
   "metadata": {},
   "outputs": [],
   "source": [
    "model.load_weights(os.path.join(checkpoint_load_path, os.listdir(checkpoint_load_path)[0]))"
   ]
  },
  {
   "cell_type": "code",
   "execution_count": 15,
   "metadata": {},
   "outputs": [],
   "source": [
    "# from collections import OrderedDict\n",
    "# new_dict = OrderedDict()\n",
    "# for key, value in model.model.state_dict().items():\n",
    "#     if 'classifier' in key:\n",
    "#         new_dict[key.split('classifier.')[1]] = value\n",
    "        \n",
    "# model.final_classifier.load_state_dict(new_dict)"
   ]
  },
  {
   "cell_type": "code",
   "execution_count": 16,
   "metadata": {},
   "outputs": [
    {
     "name": "stdout",
     "output_type": "stream",
     "text": [
      "Epoch 0/9\n",
      "----------\n",
      "Phase: train:\n",
      " loss: 2.989449, classification: 0.533988, classification_cf: 0.526200, clp: 0.245713,\n",
      "Factual\n",
      " auc: 0.628520, auprc: 0.272385, brier: 0.174093,\n",
      "Counterfactual\n",
      " auc: 0.636100, auprc: 0.265299, brier: 0.170472,\n",
      "Phase: val:\n",
      " loss: 0.515817, classification: 0.514401, classification_cf: 0.499870, clp: 0.000141,\n",
      "Factual\n",
      " auc: 0.725882, auprc: 0.414974, brier: 0.164804,\n",
      "Counterfactual\n",
      " auc: 0.759414, auprc: 0.451105, brier: 0.158066,\n",
      "Best model updated\n",
      "Epoch 1/9\n",
      "----------\n",
      "Phase: train:\n",
      " loss: 0.618554, classification: 0.510718, classification_cf: 0.502379, clp: 0.010784,\n",
      "Factual\n",
      " auc: 0.715831, auprc: 0.371831, brier: 0.163706,\n",
      "Counterfactual\n",
      " auc: 0.727256, auprc: 0.367994, brier: 0.159802,\n",
      "Phase: val:\n",
      " loss: 0.510559, classification: 0.510252, classification_cf: 0.493113, clp: 0.000031,\n",
      "Factual\n",
      " auc: 0.746304, auprc: 0.456260, brier: 0.163133,\n",
      "Counterfactual\n",
      " auc: 0.778634, auprc: 0.497388, brier: 0.155320,\n",
      "Best model updated\n",
      "Epoch 2/9\n",
      "----------\n",
      "Phase: train:\n",
      " loss: 0.554677, classification: 0.505589, classification_cf: 0.494442, clp: 0.004908,\n",
      "Factual\n",
      " auc: 0.730897, auprc: 0.394031, brier: 0.161757,\n",
      "Counterfactual\n",
      " auc: 0.740218, auprc: 0.385037, brier: 0.156563,\n",
      "Phase: val:\n",
      " loss: 0.504522, classification: 0.504383, classification_cf: 0.484917, clp: 0.000014,\n",
      "Factual\n",
      " auc: 0.749764, auprc: 0.459558, brier: 0.160899,\n",
      "Counterfactual\n",
      " auc: 0.793463, auprc: 0.521473, brier: 0.151864,\n",
      "Best model updated\n",
      "Epoch 3/9\n",
      "----------\n",
      "Phase: train:\n",
      " loss: 0.534899, classification: 0.502782, classification_cf: 0.491649, clp: 0.003212,\n",
      "Factual\n",
      " auc: 0.744266, auprc: 0.422153, brier: 0.160974,\n",
      "Counterfactual\n",
      " auc: 0.756737, auprc: 0.420602, brier: 0.155853,\n",
      "Phase: val:\n",
      " loss: 0.500251, classification: 0.500165, classification_cf: 0.478592, clp: 0.000009,\n",
      "Factual\n",
      " auc: 0.758582, auprc: 0.479471, brier: 0.159309,\n",
      "Counterfactual\n",
      " auc: 0.797268, auprc: 0.539966, brier: 0.149600,\n",
      "Best model updated\n",
      "Epoch 4/9\n",
      "----------\n",
      "Phase: train:\n",
      " loss: 0.518133, classification: 0.493298, classification_cf: 0.485364, clp: 0.002483,\n",
      "Factual\n",
      " auc: 0.750542, auprc: 0.441248, brier: 0.157174,\n",
      "Counterfactual\n",
      " auc: 0.763171, auprc: 0.439704, brier: 0.153584,\n",
      "Phase: val:\n",
      " loss: 0.494829, classification: 0.494761, classification_cf: 0.474689, clp: 0.000007,\n",
      "Factual\n",
      " auc: 0.763608, auprc: 0.484945, brier: 0.157425,\n",
      "Counterfactual\n",
      " auc: 0.810733, auprc: 0.575077, brier: 0.148356,\n",
      "Best model updated\n",
      "Epoch 5/9\n",
      "----------\n",
      "Phase: train:\n",
      " loss: 0.509415, classification: 0.488829, classification_cf: 0.477748, clp: 0.002058,\n",
      "Factual\n",
      " auc: 0.772948, auprc: 0.505756, brier: 0.155715,\n",
      "Counterfactual\n",
      " auc: 0.785289, auprc: 0.497626, brier: 0.150730,\n",
      "Phase: val:\n",
      " loss: 0.490548, classification: 0.490482, classification_cf: 0.468239, clp: 0.000007,\n",
      "Factual\n",
      " auc: 0.769858, auprc: 0.497240, brier: 0.155906,\n",
      "Counterfactual\n",
      " auc: 0.815404, auprc: 0.580990, brier: 0.146245,\n",
      "Best model updated\n",
      "Epoch 6/9\n",
      "----------\n",
      "Phase: train:\n",
      " loss: 0.502752, classification: 0.483805, classification_cf: 0.474055, clp: 0.001895,\n",
      "Factual\n",
      " auc: 0.789855, auprc: 0.539583, brier: 0.154045,\n",
      "Counterfactual\n",
      " auc: 0.800789, auprc: 0.543632, brier: 0.149693,\n",
      "Phase: val:\n",
      " loss: 0.485819, classification: 0.485743, classification_cf: 0.466335, clp: 0.000007,\n",
      "Factual\n",
      " auc: 0.775036, auprc: 0.505497, brier: 0.154301,\n",
      "Counterfactual\n",
      " auc: 0.827007, auprc: 0.611854, brier: 0.145641,\n",
      "Best model updated\n",
      "Epoch 7/9\n",
      "----------\n",
      "Phase: train:\n",
      " loss: 0.497143, classification: 0.478974, classification_cf: 0.467932, clp: 0.001817,\n",
      "Factual\n",
      " auc: 0.800565, auprc: 0.566130, brier: 0.152389,\n",
      "Counterfactual\n",
      " auc: 0.815891, auprc: 0.575934, brier: 0.147522,\n",
      "Phase: val:\n",
      " loss: 0.481204, classification: 0.481106, classification_cf: 0.460800, clp: 0.000010,\n",
      "Factual\n",
      " auc: 0.780923, auprc: 0.513689, brier: 0.152711,\n",
      "Counterfactual\n",
      " auc: 0.830614, auprc: 0.613287, brier: 0.143715,\n",
      "Best model updated\n",
      "Epoch 8/9\n",
      "----------\n",
      "Phase: train:\n",
      " loss: 0.491778, classification: 0.472730, classification_cf: 0.462781, clp: 0.001905,\n",
      "Factual\n",
      " auc: 0.821206, auprc: 0.609534, brier: 0.150238,\n",
      "Counterfactual\n",
      " auc: 0.833148, auprc: 0.606410, brier: 0.145866,\n",
      "Phase: val:\n",
      " loss: 0.477224, classification: 0.477104, classification_cf: 0.454853, clp: 0.000012,\n",
      "Factual\n",
      " auc: 0.789812, auprc: 0.527945, brier: 0.151369,\n",
      "Counterfactual\n",
      " auc: 0.846727, auprc: 0.640888, brier: 0.141956,\n",
      "Best model updated\n",
      "Epoch 9/9\n",
      "----------\n",
      "Phase: train:\n",
      " loss: 0.485595, classification: 0.465325, classification_cf: 0.452236, clp: 0.002027,\n",
      "Factual\n",
      " auc: 0.837466, auprc: 0.636870, brier: 0.147574,\n",
      "Counterfactual\n",
      " auc: 0.849663, auprc: 0.636536, brier: 0.141819,\n",
      "Phase: val:\n",
      " loss: 0.472752, classification: 0.472604, classification_cf: 0.447038, clp: 0.000015,\n",
      "Factual\n",
      " auc: 0.794754, auprc: 0.533798, brier: 0.149914,\n",
      "Counterfactual\n",
      " auc: 0.856580, auprc: 0.652867, brier: 0.139482,\n",
      "Best model updated\n",
      "Best val performance: 0.472752\n",
      "CPU times: user 3min 1s, sys: 8.92 s, total: 3min 10s\n",
      "Wall time: 2min 12s\n"
     ]
    }
   ],
   "source": [
    "%%time\n",
    "result = model.train_final_classifier(data_dict, label_dict, group_dict)\n",
    "# result = model.train_final_classifier(small_data_dict, small_label_dict, small_group_dict)"
   ]
  },
  {
   "cell_type": "code",
   "execution_count": 17,
   "metadata": {},
   "outputs": [
    {
     "data": {
      "text/plain": [
       "{'train': {'auc': [0.8582821340541957],\n",
       "  'auprc': [0.6876788878264035],\n",
       "  'brier': [0.14644016707069957],\n",
       "  'loss': [0.4619004347920418],\n",
       "  'classification': [0.4618932661414146],\n",
       "  'classification_cf': [0.44733342707157137],\n",
       "  'clp': [0.018759957319125532]},\n",
       " 'val': {'auc': [0.7949950148590735],\n",
       "  'auprc': [0.538997197176007],\n",
       "  'brier': [0.1498865325039038],\n",
       "  'loss': [0.4725887534710077],\n",
       "  'classification': [0.4725667524796266],\n",
       "  'classification_cf': [0.44565975207548875],\n",
       "  'clp': [0.017238417067206822]},\n",
       " 'test': {'auc': [0.7938179056140078],\n",
       "  'auprc': [0.5264079380053168],\n",
       "  'brier': [0.14699792897199132],\n",
       "  'loss': [0.46595505338448745],\n",
       "  'classification': [0.4659344955132558],\n",
       "  'classification_cf': [0.4407166391611099],\n",
       "  'clp': [0.016661223024129868]}}"
      ]
     },
     "execution_count": 17,
     "metadata": {},
     "output_type": "execute_result"
    }
   ],
   "source": [
    "result_eval = model.predict_final_classifier(data_dict, label_dict, group_dict, phases = ['train', 'val', 'test'])\n",
    "result_eval[1]"
   ]
  },
  {
   "cell_type": "code",
   "execution_count": 18,
   "metadata": {
    "scrolled": true
   },
   "outputs": [],
   "source": [
    "# result_final_classifier = model.train(data_dict, label_dict, group_dict)\n",
    "# result_eval = model.predict(data_dict, label_dict, group_dict, phases = ['val', 'test'])"
   ]
  },
  {
   "cell_type": "code",
   "execution_count": 19,
   "metadata": {},
   "outputs": [],
   "source": [
    "# model.process_result_dict(result)"
   ]
  },
  {
   "cell_type": "code",
   "execution_count": 20,
   "metadata": {
    "scrolled": true
   },
   "outputs": [],
   "source": [
    "# model.process_result_dict(result_eval[1])"
   ]
  }
 ],
 "metadata": {
  "kernelspec": {
   "display_name": "Python 3",
   "language": "python",
   "name": "python3"
  },
  "language_info": {
   "codemirror_mode": {
    "name": "ipython",
    "version": 3
   },
   "file_extension": ".py",
   "mimetype": "text/x-python",
   "name": "python",
   "nbconvert_exporter": "python",
   "pygments_lexer": "ipython3",
   "version": "3.6.7"
  }
 },
 "nbformat": 4,
 "nbformat_minor": 2
}
