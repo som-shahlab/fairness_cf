{
 "cells": [
  {
   "cell_type": "code",
   "execution_count": 1,
   "metadata": {},
   "outputs": [],
   "source": [
    "import numpy as np\n",
    "import os\n",
    "import torch\n",
    "import pandas as pd\n",
    "import yaml\n",
    "import matplotlib.pyplot as plt\n",
    "import seaborn as sns\n",
    "\n",
    "from sklearn.externals import joblib\n",
    "\n",
    "from pytorch_utils.cfvae_models import CFVAEModel"
   ]
  },
  {
   "cell_type": "code",
   "execution_count": 2,
   "metadata": {},
   "outputs": [],
   "source": [
    "outcome = 'los'\n",
    "sensitive_variable = 'age'\n",
    "data_path = 'data/'\n",
    "\n",
    "features_path = os.path.join(data_path, 'features', str(0), '{}_excluded'.format(sensitive_variable))\n",
    "label_path = os.path.join(data_path, 'labels')\n",
    "checkpoints_path = os.path.join(data_path, 'checkpoints', 'scratch', outcome)\n",
    "performance_path = os.path.join(data_path, 'performance', 'scratch', outcome)"
   ]
  },
  {
   "cell_type": "code",
   "execution_count": 3,
   "metadata": {},
   "outputs": [
    {
     "data": {
      "text/plain": [
       "'1552673022.8390067.chk'"
      ]
     },
     "execution_count": 3,
     "metadata": {},
     "output_type": "execute_result"
    }
   ],
   "source": [
    "config_load_path = os.path.join(data_path, 'config', 'defaults', 'cfvae', outcome, sensitive_variable, 'model_config.yaml')\n",
    "checkpoint_load_path = os.path.join(data_path, 'checkpoints', 'cfvae_default', outcome, sensitive_variable, str(0))\n",
    "os.listdir(checkpoint_load_path)[0]"
   ]
  },
  {
   "cell_type": "code",
   "execution_count": 4,
   "metadata": {},
   "outputs": [],
   "source": [
    "os.makedirs(checkpoints_path, exist_ok=True)\n",
    "os.makedirs(performance_path, exist_ok=True)"
   ]
  },
  {
   "cell_type": "code",
   "execution_count": 5,
   "metadata": {},
   "outputs": [],
   "source": [
    "device = torch.device(\"cuda\" if torch.cuda.is_available() else \"cpu\")"
   ]
  },
  {
   "cell_type": "code",
   "execution_count": 6,
   "metadata": {},
   "outputs": [],
   "source": [
    "features_dict = joblib.load(os.path.join(features_path, 'features.pkl'))\n",
    "master_label_dict = joblib.load(os.path.join(label_path, 'label_dict.pkl'))"
   ]
  },
  {
   "cell_type": "code",
   "execution_count": 7,
   "metadata": {},
   "outputs": [],
   "source": [
    "data_dict = {split: features_dict[split]['features'] for split in features_dict.keys()}\n",
    "label_dict = {split : master_label_dict[split][outcome] for split in master_label_dict.keys()}\n",
    "group_dict = {split : master_label_dict[split][sensitive_variable] for split in master_label_dict.keys()}"
   ]
  },
  {
   "cell_type": "code",
   "execution_count": 8,
   "metadata": {},
   "outputs": [],
   "source": [
    "group_map = pd.read_csv(os.path.join(label_path, '{}_map.csv'.format(sensitive_variable)))"
   ]
  },
  {
   "cell_type": "code",
   "execution_count": 9,
   "metadata": {},
   "outputs": [
    {
     "data": {
      "text/html": [
       "<div>\n",
       "<style scoped>\n",
       "    .dataframe tbody tr th:only-of-type {\n",
       "        vertical-align: middle;\n",
       "    }\n",
       "\n",
       "    .dataframe tbody tr th {\n",
       "        vertical-align: top;\n",
       "    }\n",
       "\n",
       "    .dataframe thead th {\n",
       "        text-align: right;\n",
       "    }\n",
       "</style>\n",
       "<table border=\"1\" class=\"dataframe\">\n",
       "  <thead>\n",
       "    <tr style=\"text-align: right;\">\n",
       "      <th></th>\n",
       "      <th>category_id</th>\n",
       "      <th>categories</th>\n",
       "    </tr>\n",
       "  </thead>\n",
       "  <tbody>\n",
       "    <tr>\n",
       "      <th>0</th>\n",
       "      <td>0</td>\n",
       "      <td>[18, 30)</td>\n",
       "    </tr>\n",
       "    <tr>\n",
       "      <th>1</th>\n",
       "      <td>1</td>\n",
       "      <td>[30, 45)</td>\n",
       "    </tr>\n",
       "    <tr>\n",
       "      <th>2</th>\n",
       "      <td>2</td>\n",
       "      <td>[45, 65)</td>\n",
       "    </tr>\n",
       "    <tr>\n",
       "      <th>3</th>\n",
       "      <td>3</td>\n",
       "      <td>[65, 89)</td>\n",
       "    </tr>\n",
       "  </tbody>\n",
       "</table>\n",
       "</div>"
      ],
      "text/plain": [
       "   category_id categories\n",
       "0            0   [18, 30)\n",
       "1            1   [30, 45)\n",
       "2            2   [45, 65)\n",
       "3            3   [65, 89)"
      ]
     },
     "execution_count": 9,
     "metadata": {},
     "output_type": "execute_result"
    }
   ],
   "source": [
    "group_map"
   ]
  },
  {
   "cell_type": "code",
   "execution_count": 10,
   "metadata": {},
   "outputs": [],
   "source": [
    "with open(config_load_path, 'r') as fp:\n",
    "    config_dict = yaml.load(fp)"
   ]
  },
  {
   "cell_type": "code",
   "execution_count": 11,
   "metadata": {},
   "outputs": [
    {
     "data": {
      "text/plain": [
       "{'batch_size': 512,\n",
       " 'drop_prob': 0.25,\n",
       " 'drop_prob_classifier': 0.25,\n",
       " 'gamma': None,\n",
       " 'group_embed_dim': 64,\n",
       " 'hidden_dim_classifier': 128,\n",
       " 'input_dim': 368113,\n",
       " 'iters_per_epoch': 100,\n",
       " 'lambda_classification': 10.0,\n",
       " 'lambda_kl': 0.0,\n",
       " 'lambda_mmd': 10000.0,\n",
       " 'lambda_mmd_group': 1000.0,\n",
       " 'lambda_reconstruction': 1000.0,\n",
       " 'latent_dim': 128,\n",
       " 'lr': 0.0001,\n",
       " 'lr_final_classifier': 0.001,\n",
       " 'normalize': False,\n",
       " 'normalize_classifier': True,\n",
       " 'num_epochs': 20,\n",
       " 'num_groups': 4,\n",
       " 'num_hidden': 1,\n",
       " 'num_hidden_classifier': 2,\n",
       " 'output_dim': 2,\n",
       " 'resnet': False,\n",
       " 'resnet_classifier': False,\n",
       " 'sparse': True,\n",
       " 'sparse_mode': 'binary'}"
      ]
     },
     "execution_count": 11,
     "metadata": {},
     "output_type": "execute_result"
    }
   ],
   "source": [
    "config_dict"
   ]
  },
  {
   "cell_type": "code",
   "execution_count": 12,
   "metadata": {},
   "outputs": [],
   "source": [
    "config_dict_final_classifier = {\n",
    "    'lr_final_classifier' : 1e-2,\n",
    "    'lambda_final_classifier_cf' : 1e0,\n",
    "    'lambda_clp' : 1e1,\n",
    "    'lambda_clp_entropy' : 0e0,\n",
    "    'num_epochs' : 3,\n",
    "    'weighted' : False,\n",
    "    'num_samples_eval': 1,\n",
    "    'cf_gradients' : True\n",
    "}\n",
    "\n",
    "# config_dict_final_classifier = {\n",
    "#     'lr_final_classifier' : 1e-2,\n",
    "#     'lambda_final_classifier_cf' : 0e0,\n",
    "#     'lambda_clp' : 0e1,\n",
    "#     'lambda_clp_entropy' : 0e0,\n",
    "#     'num_epochs' : 3,\n",
    "#     'weighted' : False,\n",
    "#     'num_samples_eval': 1,\n",
    "#     'cf_gradients' : True\n",
    "# }\n",
    "\n",
    "config_dict.update(config_dict_final_classifier)"
   ]
  },
  {
   "cell_type": "code",
   "execution_count": 13,
   "metadata": {},
   "outputs": [],
   "source": [
    "if sensitive_variable == 'gender':\n",
    "    data_dict = {k: v[group_dict[k] < 2] for k,v in data_dict.items()}\n",
    "    label_dict = {k: v[group_dict[k] < 2] for k,v in label_dict.items()}\n",
    "    group_dict = {k: v[group_dict[k] < 2] for k,v in group_dict.items()}"
   ]
  },
  {
   "cell_type": "code",
   "execution_count": 14,
   "metadata": {
    "scrolled": true
   },
   "outputs": [],
   "source": [
    "model = CFVAEModel(config_dict)"
   ]
  },
  {
   "cell_type": "code",
   "execution_count": 15,
   "metadata": {},
   "outputs": [],
   "source": [
    "model.load_weights(os.path.join(checkpoint_load_path, os.listdir(checkpoint_load_path)[0]))"
   ]
  },
  {
   "cell_type": "code",
   "execution_count": 16,
   "metadata": {},
   "outputs": [
    {
     "name": "stdout",
     "output_type": "stream",
     "text": [
      "Epoch 0/2\n",
      "----------\n",
      "Phase: train:\n",
      " loss: 1.618458, classification: 0.556421, classification_cf: 0.737681, clp: 0.032436, clp_entropy: 1.127063,\n",
      " auc: 0.666367, auprc: 0.290442, brier: 0.183493,\n",
      "Phase: val:\n",
      " loss: 1.284981, classification: 0.544153, classification_cf: 0.740764, clp: 0.000006, clp_entropy: 1.045486,\n",
      " auc: 0.764500, auprc: 0.460651, brier: 0.177541,\n",
      "Best model updated\n",
      "Epoch 1/2\n",
      "----------\n",
      "Phase: train:\n",
      " loss: 1.284625, classification: 0.533819, classification_cf: 0.743010, clp: 0.000780, clp_entropy: 1.108073,\n",
      " auc: 0.778660, auprc: 0.472686, brier: 0.173170,\n",
      "Phase: val:\n",
      " loss: 1.275553, classification: 0.529511, classification_cf: 0.745945, clp: 0.000010, clp_entropy: 1.037441,\n",
      " auc: 0.794727, auprc: 0.522016, brier: 0.171019,\n",
      "Best model updated\n",
      "Epoch 2/2\n",
      "----------\n",
      "Phase: train:\n",
      " loss: 1.274699, classification: 0.514965, classification_cf: 0.745235, clp: 0.001450, clp_entropy: 1.103419,\n",
      " auc: 0.858061, auprc: 0.649979, brier: 0.164484,\n",
      "Phase: val:\n",
      " loss: 1.262736, classification: 0.507706, classification_cf: 0.754826, clp: 0.000020, clp_entropy: 1.025305,\n",
      " auc: 0.825080, auprc: 0.560133, brier: 0.161233,\n",
      "Best model updated\n",
      "Best val performance: 1.262736\n"
     ]
    }
   ],
   "source": [
    "result = model.train_final_classifier(data_dict, label_dict, group_dict)"
   ]
  },
  {
   "cell_type": "code",
   "execution_count": 17,
   "metadata": {},
   "outputs": [
    {
     "data": {
      "text/plain": [
       "{'val': {'auc': [0.825539078001845],\n",
       "  'auprc': [0.5588711810459277],\n",
       "  'brier': [0.16120478216346515],\n",
       "  'loss': [0.507599691932018],\n",
       "  'classification': [0.507599691932018]},\n",
       " 'test': {'auc': [0.8244146102356522],\n",
       "  'auprc': [0.5499909035405806],\n",
       "  'brier': [0.15974788047325578],\n",
       "  'loss': [0.5046461362105149],\n",
       "  'classification': [0.5046461362105149]}}"
      ]
     },
     "execution_count": 17,
     "metadata": {},
     "output_type": "execute_result"
    }
   ],
   "source": [
    "result_eval = model.predict_final_classifier(data_dict, label_dict, group_dict, phases = ['val', 'test'])\n",
    "result_eval[1]"
   ]
  },
  {
   "cell_type": "code",
   "execution_count": 18,
   "metadata": {
    "scrolled": true
   },
   "outputs": [],
   "source": [
    "result_eval_CLP = model.predict_final_classifier_CLP(data_dict, label_dict, group_dict, \n",
    "                                                     phases = ['val', 'test'])"
   ]
  },
  {
   "cell_type": "code",
   "execution_count": 31,
   "metadata": {},
   "outputs": [
    {
     "data": {
      "text/plain": [
       "{'val': {'auc': [0.8256910316934896],\n",
       "  'auprc': [0.561822189915584],\n",
       "  'brier': [0.1611639093630116],\n",
       "  'loss': [0.995547333588967],\n",
       "  'classification': [0.5075307007019336],\n",
       "  'classification_cf': [0.4877538841504317],\n",
       "  'clp': [2.6159439184937334e-05],\n",
       "  'clp_entropy': [1.2887992344189632]},\n",
       " 'test': {'auc': [0.8260907493658395],\n",
       "  'auprc': [0.5587007121167546],\n",
       "  'brier': [0.15951666427761113],\n",
       "  'loss': [0.9859082102775574],\n",
       "  'classification': [0.5040558267098206],\n",
       "  'classification_cf': [0.48160679179888505],\n",
       "  'clp': [2.45458717643688e-05],\n",
       "  'clp_entropy': [1.2878924568587364]}}"
      ]
     },
     "execution_count": 31,
     "metadata": {},
     "output_type": "execute_result"
    }
   ],
   "source": [
    "result_eval_CLP[1]"
   ]
  },
  {
   "cell_type": "code",
   "execution_count": 19,
   "metadata": {},
   "outputs": [],
   "source": [
    "cf_dict = result_eval_CLP[2]\n",
    "cf_df = pd.concat({key: pd.DataFrame(cf_dict[key]) for key in cf_dict.keys()}).rename_axis(index = ['phase', 'id']).reset_index(0)"
   ]
  },
  {
   "cell_type": "code",
   "execution_count": 20,
   "metadata": {},
   "outputs": [
    {
     "data": {
      "text/html": [
       "<div>\n",
       "<style scoped>\n",
       "    .dataframe tbody tr th:only-of-type {\n",
       "        vertical-align: middle;\n",
       "    }\n",
       "\n",
       "    .dataframe tbody tr th {\n",
       "        vertical-align: top;\n",
       "    }\n",
       "\n",
       "    .dataframe thead th {\n",
       "        text-align: right;\n",
       "    }\n",
       "</style>\n",
       "<table border=\"1\" class=\"dataframe\">\n",
       "  <thead>\n",
       "    <tr style=\"text-align: right;\">\n",
       "      <th></th>\n",
       "      <th>phase</th>\n",
       "      <th>y</th>\n",
       "      <th>y_cf</th>\n",
       "      <th>group</th>\n",
       "      <th>group_cf</th>\n",
       "      <th>pred_prob_factual</th>\n",
       "      <th>pred_prob_cf</th>\n",
       "      <th>output_factual</th>\n",
       "      <th>output_cf</th>\n",
       "    </tr>\n",
       "    <tr>\n",
       "      <th>id</th>\n",
       "      <th></th>\n",
       "      <th></th>\n",
       "      <th></th>\n",
       "      <th></th>\n",
       "      <th></th>\n",
       "      <th></th>\n",
       "      <th></th>\n",
       "      <th></th>\n",
       "      <th></th>\n",
       "    </tr>\n",
       "  </thead>\n",
       "  <tbody>\n",
       "    <tr>\n",
       "      <th>0</th>\n",
       "      <td>test</td>\n",
       "      <td>0</td>\n",
       "      <td>0</td>\n",
       "      <td>3</td>\n",
       "      <td>0</td>\n",
       "      <td>0.306381</td>\n",
       "      <td>0.308052</td>\n",
       "      <td>-0.402464</td>\n",
       "      <td>-0.398760</td>\n",
       "    </tr>\n",
       "    <tr>\n",
       "      <th>1</th>\n",
       "      <td>test</td>\n",
       "      <td>0</td>\n",
       "      <td>0</td>\n",
       "      <td>3</td>\n",
       "      <td>0</td>\n",
       "      <td>0.335598</td>\n",
       "      <td>0.335954</td>\n",
       "      <td>-0.339049</td>\n",
       "      <td>-0.338284</td>\n",
       "    </tr>\n",
       "    <tr>\n",
       "      <th>2</th>\n",
       "      <td>test</td>\n",
       "      <td>0</td>\n",
       "      <td>0</td>\n",
       "      <td>2</td>\n",
       "      <td>0</td>\n",
       "      <td>0.292647</td>\n",
       "      <td>0.293397</td>\n",
       "      <td>-0.435283</td>\n",
       "      <td>-0.433549</td>\n",
       "    </tr>\n",
       "    <tr>\n",
       "      <th>3</th>\n",
       "      <td>test</td>\n",
       "      <td>0</td>\n",
       "      <td>0</td>\n",
       "      <td>2</td>\n",
       "      <td>0</td>\n",
       "      <td>0.345323</td>\n",
       "      <td>0.344936</td>\n",
       "      <td>-0.315603</td>\n",
       "      <td>-0.316597</td>\n",
       "    </tr>\n",
       "    <tr>\n",
       "      <th>4</th>\n",
       "      <td>test</td>\n",
       "      <td>1</td>\n",
       "      <td>1</td>\n",
       "      <td>2</td>\n",
       "      <td>0</td>\n",
       "      <td>0.485430</td>\n",
       "      <td>0.484431</td>\n",
       "      <td>-0.026548</td>\n",
       "      <td>-0.027873</td>\n",
       "    </tr>\n",
       "  </tbody>\n",
       "</table>\n",
       "</div>"
      ],
      "text/plain": [
       "   phase  y  y_cf  group  group_cf  pred_prob_factual  pred_prob_cf  \\\n",
       "id                                                                    \n",
       "0   test  0     0      3         0           0.306381      0.308052   \n",
       "1   test  0     0      3         0           0.335598      0.335954   \n",
       "2   test  0     0      2         0           0.292647      0.293397   \n",
       "3   test  0     0      2         0           0.345323      0.344936   \n",
       "4   test  1     1      2         0           0.485430      0.484431   \n",
       "\n",
       "    output_factual  output_cf  \n",
       "id                             \n",
       "0        -0.402464  -0.398760  \n",
       "1        -0.339049  -0.338284  \n",
       "2        -0.435283  -0.433549  \n",
       "3        -0.315603  -0.316597  \n",
       "4        -0.026548  -0.027873  "
      ]
     },
     "execution_count": 20,
     "metadata": {},
     "output_type": "execute_result"
    }
   ],
   "source": [
    "cf_df.head()"
   ]
  },
  {
   "cell_type": "code",
   "execution_count": 21,
   "metadata": {},
   "outputs": [
    {
     "data": {
      "text/html": [
       "<div>\n",
       "<style scoped>\n",
       "    .dataframe tbody tr th:only-of-type {\n",
       "        vertical-align: middle;\n",
       "    }\n",
       "\n",
       "    .dataframe tbody tr th {\n",
       "        vertical-align: top;\n",
       "    }\n",
       "\n",
       "    .dataframe thead th {\n",
       "        text-align: right;\n",
       "    }\n",
       "</style>\n",
       "<table border=\"1\" class=\"dataframe\">\n",
       "  <thead>\n",
       "    <tr style=\"text-align: right;\">\n",
       "      <th></th>\n",
       "      <th>phase</th>\n",
       "      <th>y</th>\n",
       "      <th>y_cf</th>\n",
       "      <th>group</th>\n",
       "      <th>group_cf</th>\n",
       "      <th>pred_prob_factual</th>\n",
       "      <th>pred_prob_cf</th>\n",
       "      <th>output_factual</th>\n",
       "      <th>output_cf</th>\n",
       "      <th>pred_diff</th>\n",
       "    </tr>\n",
       "    <tr>\n",
       "      <th>id</th>\n",
       "      <th></th>\n",
       "      <th></th>\n",
       "      <th></th>\n",
       "      <th></th>\n",
       "      <th></th>\n",
       "      <th></th>\n",
       "      <th></th>\n",
       "      <th></th>\n",
       "      <th></th>\n",
       "      <th></th>\n",
       "    </tr>\n",
       "  </thead>\n",
       "  <tbody>\n",
       "    <tr>\n",
       "      <th>0</th>\n",
       "      <td>test</td>\n",
       "      <td>0</td>\n",
       "      <td>0</td>\n",
       "      <td>3</td>\n",
       "      <td>0</td>\n",
       "      <td>0.306381</td>\n",
       "      <td>0.308052</td>\n",
       "      <td>-0.402464</td>\n",
       "      <td>-0.398760</td>\n",
       "      <td>0.001671</td>\n",
       "    </tr>\n",
       "    <tr>\n",
       "      <th>1</th>\n",
       "      <td>test</td>\n",
       "      <td>0</td>\n",
       "      <td>0</td>\n",
       "      <td>3</td>\n",
       "      <td>0</td>\n",
       "      <td>0.335598</td>\n",
       "      <td>0.335954</td>\n",
       "      <td>-0.339049</td>\n",
       "      <td>-0.338284</td>\n",
       "      <td>0.000356</td>\n",
       "    </tr>\n",
       "    <tr>\n",
       "      <th>2</th>\n",
       "      <td>test</td>\n",
       "      <td>0</td>\n",
       "      <td>0</td>\n",
       "      <td>2</td>\n",
       "      <td>0</td>\n",
       "      <td>0.292647</td>\n",
       "      <td>0.293397</td>\n",
       "      <td>-0.435283</td>\n",
       "      <td>-0.433549</td>\n",
       "      <td>0.000751</td>\n",
       "    </tr>\n",
       "    <tr>\n",
       "      <th>3</th>\n",
       "      <td>test</td>\n",
       "      <td>0</td>\n",
       "      <td>0</td>\n",
       "      <td>2</td>\n",
       "      <td>0</td>\n",
       "      <td>0.345323</td>\n",
       "      <td>0.344936</td>\n",
       "      <td>-0.315603</td>\n",
       "      <td>-0.316597</td>\n",
       "      <td>-0.000387</td>\n",
       "    </tr>\n",
       "    <tr>\n",
       "      <th>4</th>\n",
       "      <td>test</td>\n",
       "      <td>1</td>\n",
       "      <td>1</td>\n",
       "      <td>2</td>\n",
       "      <td>0</td>\n",
       "      <td>0.485430</td>\n",
       "      <td>0.484431</td>\n",
       "      <td>-0.026548</td>\n",
       "      <td>-0.027873</td>\n",
       "      <td>-0.000999</td>\n",
       "    </tr>\n",
       "    <tr>\n",
       "      <th>5</th>\n",
       "      <td>test</td>\n",
       "      <td>1</td>\n",
       "      <td>1</td>\n",
       "      <td>2</td>\n",
       "      <td>0</td>\n",
       "      <td>0.405323</td>\n",
       "      <td>0.405951</td>\n",
       "      <td>-0.189375</td>\n",
       "      <td>-0.187772</td>\n",
       "      <td>0.000628</td>\n",
       "    </tr>\n",
       "    <tr>\n",
       "      <th>6</th>\n",
       "      <td>test</td>\n",
       "      <td>0</td>\n",
       "      <td>0</td>\n",
       "      <td>3</td>\n",
       "      <td>0</td>\n",
       "      <td>0.297474</td>\n",
       "      <td>0.298799</td>\n",
       "      <td>-0.423657</td>\n",
       "      <td>-0.420655</td>\n",
       "      <td>0.001326</td>\n",
       "    </tr>\n",
       "    <tr>\n",
       "      <th>7</th>\n",
       "      <td>test</td>\n",
       "      <td>0</td>\n",
       "      <td>0</td>\n",
       "      <td>2</td>\n",
       "      <td>0</td>\n",
       "      <td>0.324245</td>\n",
       "      <td>0.322907</td>\n",
       "      <td>-0.365168</td>\n",
       "      <td>-0.368266</td>\n",
       "      <td>-0.001338</td>\n",
       "    </tr>\n",
       "    <tr>\n",
       "      <th>8</th>\n",
       "      <td>test</td>\n",
       "      <td>1</td>\n",
       "      <td>1</td>\n",
       "      <td>3</td>\n",
       "      <td>0</td>\n",
       "      <td>0.499010</td>\n",
       "      <td>0.496463</td>\n",
       "      <td>0.000195</td>\n",
       "      <td>-0.004287</td>\n",
       "      <td>-0.002547</td>\n",
       "    </tr>\n",
       "    <tr>\n",
       "      <th>9</th>\n",
       "      <td>test</td>\n",
       "      <td>0</td>\n",
       "      <td>0</td>\n",
       "      <td>2</td>\n",
       "      <td>0</td>\n",
       "      <td>0.339936</td>\n",
       "      <td>0.340024</td>\n",
       "      <td>-0.330414</td>\n",
       "      <td>-0.330059</td>\n",
       "      <td>0.000088</td>\n",
       "    </tr>\n",
       "  </tbody>\n",
       "</table>\n",
       "</div>"
      ],
      "text/plain": [
       "   phase  y  y_cf  group  group_cf  pred_prob_factual  pred_prob_cf  \\\n",
       "id                                                                    \n",
       "0   test  0     0      3         0           0.306381      0.308052   \n",
       "1   test  0     0      3         0           0.335598      0.335954   \n",
       "2   test  0     0      2         0           0.292647      0.293397   \n",
       "3   test  0     0      2         0           0.345323      0.344936   \n",
       "4   test  1     1      2         0           0.485430      0.484431   \n",
       "5   test  1     1      2         0           0.405323      0.405951   \n",
       "6   test  0     0      3         0           0.297474      0.298799   \n",
       "7   test  0     0      2         0           0.324245      0.322907   \n",
       "8   test  1     1      3         0           0.499010      0.496463   \n",
       "9   test  0     0      2         0           0.339936      0.340024   \n",
       "\n",
       "    output_factual  output_cf  pred_diff  \n",
       "id                                        \n",
       "0        -0.402464  -0.398760   0.001671  \n",
       "1        -0.339049  -0.338284   0.000356  \n",
       "2        -0.435283  -0.433549   0.000751  \n",
       "3        -0.315603  -0.316597  -0.000387  \n",
       "4        -0.026548  -0.027873  -0.000999  \n",
       "5        -0.189375  -0.187772   0.000628  \n",
       "6        -0.423657  -0.420655   0.001326  \n",
       "7        -0.365168  -0.368266  -0.001338  \n",
       "8         0.000195  -0.004287  -0.002547  \n",
       "9        -0.330414  -0.330059   0.000088  "
      ]
     },
     "execution_count": 21,
     "metadata": {},
     "output_type": "execute_result"
    }
   ],
   "source": [
    "cf_df = cf_df.assign(pred_diff = lambda x: x.pred_prob_cf - x.pred_prob_factual)\n",
    "cf_df.head(10)"
   ]
  },
  {
   "cell_type": "code",
   "execution_count": 22,
   "metadata": {},
   "outputs": [
    {
     "data": {
      "text/plain": [
       "y  y_cf\n",
       "0  0       (55301, 10)\n",
       "   1        (7069, 10)\n",
       "1  0        (8757, 10)\n",
       "   1        (6654, 10)\n",
       "dtype: object"
      ]
     },
     "execution_count": 22,
     "metadata": {},
     "output_type": "execute_result"
    }
   ],
   "source": [
    "cf_df.groupby(['y', 'y_cf']).apply(lambda x: x.shape)"
   ]
  },
  {
   "cell_type": "code",
   "execution_count": 23,
   "metadata": {},
   "outputs": [],
   "source": [
    "result = cf_df.groupby(['phase', 'y', 'y_cf', 'group', 'group_cf'])[['pred_diff']].agg(np.mean)"
   ]
  },
  {
   "cell_type": "code",
   "execution_count": 24,
   "metadata": {},
   "outputs": [],
   "source": [
    "result = result.reset_index()"
   ]
  },
  {
   "cell_type": "code",
   "execution_count": 26,
   "metadata": {
    "scrolled": false
   },
   "outputs": [
    {
     "name": "stdout",
     "output_type": "stream",
     "text": [
      "0 0\n"
     ]
    },
    {
     "data": {
      "image/png": "[encoded data removed]",
      "text/plain": [
       "<Figure size 432x288 with 2 Axes>"
      ]
     },
     "metadata": {},
     "output_type": "display_data"
    },
    {
     "name": "stdout",
     "output_type": "stream",
     "text": [
      "0 1\n"
     ]
    },
    {
     "data": {
      "image/png": "[encoded data removed]",
      "text/plain": [
       "<Figure size 432x288 with 2 Axes>"
      ]
     },
     "metadata": {},
     "output_type": "display_data"
    },
    {
     "name": "stdout",
     "output_type": "stream",
     "text": [
      "1 0\n"
     ]
    },
    {
     "data": {
      "image/png": "[encoded data removed]",
      "text/plain": [
       "<Figure size 432x288 with 2 Axes>"
      ]
     },
     "metadata": {},
     "output_type": "display_data"
    },
    {
     "name": "stdout",
     "output_type": "stream",
     "text": [
      "1 1\n"
     ]
    },
    {
     "data": {
      "image/png": "[encoded data removed]",
      "text/plain": [
       "<Figure size 432x288 with 2 Axes>"
      ]
     },
     "metadata": {},
     "output_type": "display_data"
    }
   ],
   "source": [
    "for y in [0, 1]:\n",
    "    for y_cf in [0, 1]:\n",
    "        print(y, y_cf)\n",
    "        temp = result[(result.phase == 'val') & (result.y == y) & (result.y_cf == y_cf)]\n",
    "        temp = temp.pivot('group', 'group_cf', 'pred_diff')\n",
    "        ax = sns.heatmap(temp, annot = True, center = 0, cmap = 'RdBu_r', vmin = -0.01, vmax = 0.01)\n",
    "        plt.show()"
   ]
  },
  {
   "cell_type": "code",
   "execution_count": 27,
   "metadata": {},
   "outputs": [
    {
     "name": "stdout",
     "output_type": "stream",
     "text": [
      "(array([0.03280853, 0.20285449, 0.55989331, 0.88034188]), array([0.29219994, 0.34277037, 0.43774855, 0.51083163]))\n"
     ]
    }
   ],
   "source": [
    "# from sklearn.calibration import calibration_curve\n",
    "\n",
    "# cal = calibration_curve(cf_df.y, cf_df.pred_prob_factual, n_bins = 10)\n",
    "# print(cal)"
   ]
  },
  {
   "cell_type": "code",
   "execution_count": 28,
   "metadata": {},
   "outputs": [
    {
     "data": {
      "text/html": [
       "<div>\n",
       "<style scoped>\n",
       "    .dataframe tbody tr th:only-of-type {\n",
       "        vertical-align: middle;\n",
       "    }\n",
       "\n",
       "    .dataframe tbody tr th {\n",
       "        vertical-align: top;\n",
       "    }\n",
       "\n",
       "    .dataframe thead th {\n",
       "        text-align: right;\n",
       "    }\n",
       "</style>\n",
       "<table border=\"1\" class=\"dataframe\">\n",
       "  <thead>\n",
       "    <tr style=\"text-align: right;\">\n",
       "      <th></th>\n",
       "      <th>sensitive_variable</th>\n",
       "      <th>group</th>\n",
       "      <th>metric</th>\n",
       "      <th>phase</th>\n",
       "      <th>epoch</th>\n",
       "      <th>performance</th>\n",
       "    </tr>\n",
       "    <tr>\n",
       "      <th>index</th>\n",
       "      <th></th>\n",
       "      <th></th>\n",
       "      <th></th>\n",
       "      <th></th>\n",
       "      <th></th>\n",
       "      <th></th>\n",
       "    </tr>\n",
       "  </thead>\n",
       "  <tbody>\n",
       "    <tr>\n",
       "      <th>0</th>\n",
       "      <td>age</td>\n",
       "      <td>0</td>\n",
       "      <td>auc</td>\n",
       "      <td>val</td>\n",
       "      <td>0</td>\n",
       "      <td>0.888709</td>\n",
       "    </tr>\n",
       "    <tr>\n",
       "      <th>1</th>\n",
       "      <td>age</td>\n",
       "      <td>0</td>\n",
       "      <td>auprc</td>\n",
       "      <td>val</td>\n",
       "      <td>0</td>\n",
       "      <td>0.648215</td>\n",
       "    </tr>\n",
       "    <tr>\n",
       "      <th>2</th>\n",
       "      <td>age</td>\n",
       "      <td>0</td>\n",
       "      <td>brier</td>\n",
       "      <td>val</td>\n",
       "      <td>0</td>\n",
       "      <td>0.152396</td>\n",
       "    </tr>\n",
       "    <tr>\n",
       "      <th>3</th>\n",
       "      <td>age</td>\n",
       "      <td>0</td>\n",
       "      <td>classification</td>\n",
       "      <td>val</td>\n",
       "      <td>0</td>\n",
       "      <td>0.488567</td>\n",
       "    </tr>\n",
       "    <tr>\n",
       "      <th>4</th>\n",
       "      <td>age</td>\n",
       "      <td>0</td>\n",
       "      <td>loss</td>\n",
       "      <td>val</td>\n",
       "      <td>0</td>\n",
       "      <td>0.488567</td>\n",
       "    </tr>\n",
       "  </tbody>\n",
       "</table>\n",
       "</div>"
      ],
      "text/plain": [
       "      sensitive_variable  group          metric phase  epoch  performance\n",
       "index                                                                    \n",
       "0                    age      0             auc   val      0     0.888709\n",
       "1                    age      0           auprc   val      0     0.648215\n",
       "2                    age      0           brier   val      0     0.152396\n",
       "3                    age      0  classification   val      0     0.488567\n",
       "4                    age      0            loss   val      0     0.488567"
      ]
     },
     "execution_count": 28,
     "metadata": {},
     "output_type": "execute_result"
    }
   ],
   "source": [
    "## Get performance by group\n",
    "sensitive_variables = ['age', 'gender', 'race_eth']\n",
    "data_dict_by_group = {sensitive_variable: {} for sensitive_variable in sensitive_variables}\n",
    "label_dict_by_group = {sensitive_variable: {} for sensitive_variable in sensitive_variables}\n",
    "group_dict_by_group = {sensitive_variable: {} for sensitive_variable in sensitive_variables}\n",
    "for sensitive_variable in sensitive_variables:\n",
    "    groups = np.unique(master_label_dict['train'][sensitive_variable])\n",
    "    for group in groups:\n",
    "        data_dict_by_group[sensitive_variable][group] = {split: \n",
    "                                     data_dict[split][master_label_dict[split][sensitive_variable] == group]\n",
    "                                     for split in data_dict.keys()\n",
    "                                    }\n",
    "        label_dict_by_group[sensitive_variable][group] = {split: \n",
    "                                     label_dict[split][master_label_dict[split][sensitive_variable] == group]\n",
    "                                     for split in data_dict.keys()\n",
    "                                    }\n",
    "        group_dict_by_group[sensitive_variable][group] = {split: \n",
    "                                     group_dict[split][master_label_dict[split][sensitive_variable] == group]\n",
    "                                     for split in data_dict.keys()\n",
    "                                    }\n",
    "\n",
    "result_df_by_group = pd.concat({sensitive_variable: \n",
    "                          pd.concat({\n",
    "                              group: model.process_result_dict(model.predict_final_classifier(data_dict_by_group[sensitive_variable][group],\n",
    "                                                                             label_dict_by_group[sensitive_variable][group], \n",
    "                                                                             group_dict_by_group[sensitive_variable][group],\n",
    "                                                  phases = ['val', 'test'])[1])\n",
    "                              for group in data_dict_by_group[sensitive_variable].keys()\n",
    "                          })\n",
    "                          for sensitive_variable in data_dict_by_group.keys()\n",
    "                         })\n",
    "result_df_by_group.index = result_df_by_group.index.set_names(['sensitive_variable', 'group', 'index'])\n",
    "result_df_by_group = result_df_by_group.reset_index(level = [0, 1])\n",
    "result_df_by_group.head()"
   ]
  },
  {
   "cell_type": "code",
   "execution_count": 29,
   "metadata": {},
   "outputs": [
    {
     "data": {
      "text/html": [
       "<div>\n",
       "<style scoped>\n",
       "    .dataframe tbody tr th:only-of-type {\n",
       "        vertical-align: middle;\n",
       "    }\n",
       "\n",
       "    .dataframe tbody tr th {\n",
       "        vertical-align: top;\n",
       "    }\n",
       "\n",
       "    .dataframe thead th {\n",
       "        text-align: right;\n",
       "    }\n",
       "</style>\n",
       "<table border=\"1\" class=\"dataframe\">\n",
       "  <thead>\n",
       "    <tr style=\"text-align: right;\">\n",
       "      <th></th>\n",
       "      <th>sensitive_variable</th>\n",
       "      <th>group</th>\n",
       "      <th>metric</th>\n",
       "      <th>phase</th>\n",
       "      <th>epoch</th>\n",
       "      <th>performance</th>\n",
       "    </tr>\n",
       "    <tr>\n",
       "      <th>index</th>\n",
       "      <th></th>\n",
       "      <th></th>\n",
       "      <th></th>\n",
       "      <th></th>\n",
       "      <th></th>\n",
       "      <th></th>\n",
       "    </tr>\n",
       "  </thead>\n",
       "  <tbody>\n",
       "    <tr>\n",
       "      <th>0</th>\n",
       "      <td>age</td>\n",
       "      <td>0</td>\n",
       "      <td>auc</td>\n",
       "      <td>val</td>\n",
       "      <td>0</td>\n",
       "      <td>0.888709</td>\n",
       "    </tr>\n",
       "    <tr>\n",
       "      <th>5</th>\n",
       "      <td>age</td>\n",
       "      <td>0</td>\n",
       "      <td>auc</td>\n",
       "      <td>test</td>\n",
       "      <td>0</td>\n",
       "      <td>0.858945</td>\n",
       "    </tr>\n",
       "    <tr>\n",
       "      <th>0</th>\n",
       "      <td>age</td>\n",
       "      <td>1</td>\n",
       "      <td>auc</td>\n",
       "      <td>val</td>\n",
       "      <td>0</td>\n",
       "      <td>0.861755</td>\n",
       "    </tr>\n",
       "    <tr>\n",
       "      <th>5</th>\n",
       "      <td>age</td>\n",
       "      <td>1</td>\n",
       "      <td>auc</td>\n",
       "      <td>test</td>\n",
       "      <td>0</td>\n",
       "      <td>0.856206</td>\n",
       "    </tr>\n",
       "    <tr>\n",
       "      <th>0</th>\n",
       "      <td>age</td>\n",
       "      <td>2</td>\n",
       "      <td>auc</td>\n",
       "      <td>val</td>\n",
       "      <td>0</td>\n",
       "      <td>0.814010</td>\n",
       "    </tr>\n",
       "    <tr>\n",
       "      <th>5</th>\n",
       "      <td>age</td>\n",
       "      <td>2</td>\n",
       "      <td>auc</td>\n",
       "      <td>test</td>\n",
       "      <td>0</td>\n",
       "      <td>0.828519</td>\n",
       "    </tr>\n",
       "    <tr>\n",
       "      <th>0</th>\n",
       "      <td>age</td>\n",
       "      <td>3</td>\n",
       "      <td>auc</td>\n",
       "      <td>val</td>\n",
       "      <td>0</td>\n",
       "      <td>0.801785</td>\n",
       "    </tr>\n",
       "    <tr>\n",
       "      <th>5</th>\n",
       "      <td>age</td>\n",
       "      <td>3</td>\n",
       "      <td>auc</td>\n",
       "      <td>test</td>\n",
       "      <td>0</td>\n",
       "      <td>0.796158</td>\n",
       "    </tr>\n",
       "  </tbody>\n",
       "</table>\n",
       "</div>"
      ],
      "text/plain": [
       "      sensitive_variable  group metric phase  epoch  performance\n",
       "index                                                           \n",
       "0                    age      0    auc   val      0     0.888709\n",
       "5                    age      0    auc  test      0     0.858945\n",
       "0                    age      1    auc   val      0     0.861755\n",
       "5                    age      1    auc  test      0     0.856206\n",
       "0                    age      2    auc   val      0     0.814010\n",
       "5                    age      2    auc  test      0     0.828519\n",
       "0                    age      3    auc   val      0     0.801785\n",
       "5                    age      3    auc  test      0     0.796158"
      ]
     },
     "execution_count": 29,
     "metadata": {},
     "output_type": "execute_result"
    }
   ],
   "source": [
    "result_df_by_group.loc[(result_df_by_group.sensitive_variable == 'age') & (result_df_by_group.metric == 'auc')]"
   ]
  }
 ],
 "metadata": {
  "kernelspec": {
   "display_name": "Python 3",
   "language": "python",
   "name": "python3"
  },
  "language_info": {
   "codemirror_mode": {
    "name": "ipython",
    "version": 3
   },
   "file_extension": ".py",
   "mimetype": "text/x-python",
   "name": "python",
   "nbconvert_exporter": "python",
   "pygments_lexer": "ipython3",
   "version": "3.6.7"
  }
 },
 "nbformat": 4,
 "nbformat_minor": 2
}
