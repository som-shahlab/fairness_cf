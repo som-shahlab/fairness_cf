{
 "cells": [
  {
   "cell_type": "code",
   "execution_count": 1,
   "metadata": {},
   "outputs": [],
   "source": [
    "import numpy as np\n",
    "import os\n",
    "import torch\n",
    "import yaml\n",
    "import json\n",
    "import random \n",
    "import pandas as pd\n",
    "\n",
    "from sklearn.externals import joblib\n",
    "from sklearn.model_selection import ParameterGrid"
   ]
  },
  {
   "cell_type": "code",
   "execution_count": 2,
   "metadata": {},
   "outputs": [],
   "source": [
    "random.seed(234)\n",
    "np.random.seed(5432)"
   ]
  },
  {
   "cell_type": "code",
   "execution_count": 3,
   "metadata": {},
   "outputs": [],
   "source": [
    "data_path = './data/'\n",
    "features_path = os.path.join(data_path, 'features', str(0))\n",
    "label_path = os.path.join(data_path, 'labels')\n",
    "config_path = os.path.join(data_path, 'config', 'grid', 'baseline')\n",
    "os.makedirs(config_path, exist_ok = True)"
   ]
  },
  {
   "cell_type": "code",
   "execution_count": 4,
   "metadata": {},
   "outputs": [],
   "source": [
    "features_dict = joblib.load(os.path.join(features_path, 'features.pkl'))\n",
    "label_dict = joblib.load(os.path.join(label_path, 'label_dict.pkl'))\n",
    "data_dict = {split: features_dict[split]['features'] for split in features_dict.keys()}"
   ]
  },
  {
   "cell_type": "code",
   "execution_count": 5,
   "metadata": {},
   "outputs": [],
   "source": [
    "grid_size = 100"
   ]
  },
  {
   "cell_type": "code",
   "execution_count": 6,
   "metadata": {},
   "outputs": [],
   "source": [
    "param_grid = {\n",
    "    'input_dim' : [data_dict['train'].shape[1]],\n",
    "    'lr' : [1e-4, 1e-5, 1e-6],\n",
    "    'num_epochs' : [30],\n",
    "    'batch_size' : [64, 128, 256, 512],\n",
    "    'hidden_dim' : [128, 256, 512],\n",
    "    'num_hidden' : [1, 2, 3],\n",
    "    'output_dim' : [2],\n",
    "    'drop_prob' : [0.0, 0.25, 0.5, 0.75],\n",
    "    'normalize' : [True, False],\n",
    "    'iters_per_epoch' : [100],\n",
    "    'gamma' : [None, 0.99, 0.95],\n",
    "    'resnet' : [False],\n",
    "    'sparse' : [True],\n",
    "    'sparse_mode' : ['binary']\n",
    "}\n",
    "\n",
    "the_grid = list(ParameterGrid(param_grid))\n",
    "np.random.shuffle(the_grid)\n",
    "the_grid = the_grid[:grid_size]\n",
    "grid_df = pd.DataFrame(the_grid)\n",
    "grid_df.to_csv(os.path.join(config_path, 'config.csv'), index_label = 'id')"
   ]
  },
  {
   "cell_type": "code",
   "execution_count": 7,
   "metadata": {},
   "outputs": [],
   "source": [
    "def yaml_write(x, path):\n",
    "    with open(path, 'w') as fp:\n",
    "        yaml.dump(x, fp)\n",
    "        \n",
    "def yaml_read(path):\n",
    "    with open(path, 'r') as fp:\n",
    "        return yaml.load(fp)"
   ]
  },
  {
   "cell_type": "code",
   "execution_count": 8,
   "metadata": {},
   "outputs": [],
   "source": [
    "for i, config_dict in enumerate(the_grid):\n",
    "    yaml_write(config_dict, os.path.join(config_path, '{}.yaml'.format(i)))"
   ]
  }
 ],
 "metadata": {
  "kernelspec": {
   "display_name": "Python 3",
   "language": "python",
   "name": "python3"
  },
  "language_info": {
   "codemirror_mode": {
    "name": "ipython",
    "version": 3
   },
   "file_extension": ".py",
   "mimetype": "text/x-python",
   "name": "python",
   "nbconvert_exporter": "python",
   "pygments_lexer": "ipython3",
   "version": "3.6.7"
  }
 },
 "nbformat": 4,
 "nbformat_minor": 2
}
