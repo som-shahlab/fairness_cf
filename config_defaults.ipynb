{
 "cells": [
  {
   "cell_type": "code",
   "execution_count": 2,
   "metadata": {},
   "outputs": [],
   "source": [
    "import os\n",
    "import yaml\n",
    "\n",
    "from sklearn.externals import joblib"
   ]
  },
  {
   "cell_type": "code",
   "execution_count": 3,
   "metadata": {},
   "outputs": [],
   "source": [
    "outcome = 'los'\n",
    "data_path = 'data/'\n",
    "features_path = os.path.join(data_path, 'features', str(0))\n",
    "config_path = os.path.join(data_path, 'config', 'defaults')"
   ]
  },
  {
   "cell_type": "code",
   "execution_count": 5,
   "metadata": {},
   "outputs": [],
   "source": [
    "features_dict = joblib.load(os.path.join(features_path, 'features.pkl'))\n",
    "data_dict = {split: features_dict[split]['features'] for split in features_dict.keys()}"
   ]
  },
  {
   "cell_type": "code",
   "execution_count": 6,
   "metadata": {},
   "outputs": [],
   "source": [
    "## Default for baseline model\n",
    "config_dict = {\n",
    "    'input_dim' : data_dict['train'].shape[1],\n",
    "    'lr' : 1e-5,\n",
    "    'num_epochs' : 30,\n",
    "    'batch_size' : 256,\n",
    "    'hidden_dim' : 128,\n",
    "    'num_hidden' : 1,\n",
    "    'output_dim' : 2,\n",
    "    'drop_prob' : 0.75,\n",
    "    'normalize' : True,\n",
    "    'iters_per_epoch' : 100,\n",
    "    'gamma' : 0.99,\n",
    "    'resnet' : True,\n",
    "    'sparse' : True,\n",
    "    'sparse_mode' : 'binary'\n",
    "}"
   ]
  },
  {
   "cell_type": "code",
   "execution_count": 8,
   "metadata": {
    "scrolled": true
   },
   "outputs": [
    {
     "data": {
      "text/plain": [
       "True"
      ]
     },
     "execution_count": 8,
     "metadata": {},
     "output_type": "execute_result"
    }
   ],
   "source": [
    "os.path.exists(config_path)"
   ]
  },
  {
   "cell_type": "code",
   "execution_count": 13,
   "metadata": {},
   "outputs": [],
   "source": [
    "with open(os.path.join(config_path, 'baseline.yaml'), 'w') as fp:\n",
    "    yaml.dump(config_dict, fp)"
   ]
  }
 ],
 "metadata": {
  "kernelspec": {
   "display_name": "Python 3",
   "language": "python",
   "name": "python3"
  },
  "language_info": {
   "codemirror_mode": {
    "name": "ipython",
    "version": 3
   },
   "file_extension": ".py",
   "mimetype": "text/x-python",
   "name": "python",
   "nbconvert_exporter": "python",
   "pygments_lexer": "ipython3",
   "version": "3.6.7"
  }
 },
 "nbformat": 4,
 "nbformat_minor": 2
}
