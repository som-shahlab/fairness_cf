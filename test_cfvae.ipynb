{
 "cells": [
  {
   "cell_type": "code",
   "execution_count": 1,
   "metadata": {},
   "outputs": [],
   "source": [
    "import numpy as np\n",
    "import os\n",
    "import torch\n",
    "import pandas as pd\n",
    "import yaml\n",
    "\n",
    "from sklearn.externals import joblib\n",
    "\n",
    "# from pytorch_utils.models import FeedforwardNetModel\n",
    "from pytorch_utils.cfvae_models import CFVAEModel"
   ]
  },
  {
   "cell_type": "code",
   "execution_count": 2,
   "metadata": {},
   "outputs": [],
   "source": [
    "outcome = 'los'\n",
    "sensitive_variable = 'age'\n",
    "data_path = 'data/'\n",
    "\n",
    "# features_path = os.path.join(data_path, '{}_excluded'.format(sensitive_attibute),'features', str(0))\n",
    "features_path = os.path.join(data_path, 'features', str(0))\n",
    "label_path = os.path.join(data_path, 'labels')\n",
    "config_path = os.path.join(data_path, 'config', 'grid', 'baseline')\n",
    "checkpoints_path = os.path.join(data_path, 'checkpoints', 'scratch', outcome)\n",
    "performance_path = os.path.join(data_path, 'performance', 'scratch', outcome)"
   ]
  },
  {
   "cell_type": "code",
   "execution_count": 3,
   "metadata": {},
   "outputs": [],
   "source": [
    "os.makedirs(checkpoints_path, exist_ok=True)\n",
    "os.makedirs(performance_path, exist_ok=True)"
   ]
  },
  {
   "cell_type": "code",
   "execution_count": 4,
   "metadata": {},
   "outputs": [],
   "source": [
    "device = torch.device(\"cuda\" if torch.cuda.is_available() else \"cpu\")"
   ]
  },
  {
   "cell_type": "code",
   "execution_count": 5,
   "metadata": {},
   "outputs": [],
   "source": [
    "features_dict = joblib.load(os.path.join(features_path, 'features.pkl'))\n",
    "master_label_dict = joblib.load(os.path.join(label_path, 'label_dict.pkl'))"
   ]
  },
  {
   "cell_type": "code",
   "execution_count": 7,
   "metadata": {},
   "outputs": [],
   "source": [
    "data_dict = {split: features_dict[split]['features'] for split in features_dict.keys()}\n",
    "label_dict = {split : master_label_dict[split][outcome] for split in master_label_dict.keys()}\n",
    "group_dict = {split : master_label_dict[split][sensitive_variable] for split in master_label_dict.keys()}"
   ]
  },
  {
   "cell_type": "code",
   "execution_count": 8,
   "metadata": {},
   "outputs": [],
   "source": [
    "group_map = pd.read_csv(os.path.join(label_path, '{}_map.csv'.format(sensitive_variable)))"
   ]
  },
  {
   "cell_type": "code",
   "execution_count": 9,
   "metadata": {},
   "outputs": [],
   "source": [
    "# # with open(os.path.join(config_path, '{}.yaml'.format(grid_element)), 'r') as fp:\n",
    "# #     config_dict = yaml.load(fp)\n",
    "    \n",
    "# # config_dict['num_epochs'] = 3 # For testing\n",
    "\n",
    "# ## A more complex network\n",
    "# # config_dict = {\n",
    "# #     'input_dim' : data_dict['train'].shape[1],\n",
    "# #     'lr' : 1e-5,\n",
    "# #     'num_epochs' : 20,\n",
    "# #     'batch_size' : 256,\n",
    "# #     'hidden_dim' : 128,\n",
    "# #     'num_hidden' : 1,\n",
    "# #     'output_dim' : 2,\n",
    "# #     'drop_prob' : 0.5,\n",
    "# #     'normalize' : True,\n",
    "# #     'iters_per_epoch' : 100,\n",
    "# #     'gamma' : 0.99,\n",
    "# #     'resnet' : True,\n",
    "# #     'sparse' : True,\n",
    "# #     'sparse_mode' : 'binary'\n",
    "# # }\n",
    "\n",
    "# CFVAE\n",
    "config_dict = {\n",
    "    # Standard parameters\n",
    "    'input_dim' : data_dict['train'].shape[1],\n",
    "    'num_groups' : group_map.shape[0],\n",
    "    'lr' : 1e-3,\n",
    "    'gamma' : 0.99,\n",
    "    'num_epochs' : 30,\n",
    "    'iters_per_epoch' : 100,\n",
    "    'output_dim' : 2,\n",
    "    'batch_size' : 256,\n",
    "    'sparse' : True,\n",
    "    'sparse_mode' : 'binary',\n",
    "    # Parameters corresponding to the size of the VAE\n",
    "    'hidden_dim' : 128,\n",
    "    'num_hidden' : 1,\n",
    "    'drop_prob' : 0.0,\n",
    "    'resnet' : False,\n",
    "    'normalize' : False,\n",
    "    # Parameters corresponding to the size of classifier\n",
    "    'hidden_dim_classifier' : 128,\n",
    "    'num_hidden_classifier' : 1,\n",
    "    'drop_prob_classifier' : 0.0,\n",
    "    'resnet_classifier' : False,\n",
    "    'normalize_classifier' : False,\n",
    "    # Latent Space\n",
    "    'group_embed_dim' : 64,\n",
    "    'latent_dim' : 64,\n",
    "    # Lambda\n",
    "    'lambda_mmd' : 1e3,\n",
    "    'lambda_kl' : 0.0,\n",
    "    'lambda_classification' : 1e2,\n",
    "    'lambda_mmd_group' : 1e0\n",
    "}"
   ]
  },
  {
   "cell_type": "code",
   "execution_count": 10,
   "metadata": {},
   "outputs": [],
   "source": [
    "model = CFVAEModel(config_dict)"
   ]
  },
  {
   "cell_type": "code",
   "execution_count": 12,
   "metadata": {},
   "outputs": [
    {
     "name": "stdout",
     "output_type": "stream",
     "text": [
      "Epoch 0/19\n",
      "----------\n",
      "Phase: train:\n",
      " loss: 44.418334, elbo: 15.803110, mmd: 0.001215, reconstruction: 0.179762, kl: 15.193207, classification: 0.430141, mmd_group: 0.009696,\n",
      " auc: 0.770880, auprc: 0.428378, brier: 0.139533,\n",
      "Phase: val:\n",
      " loss: 40.145067, elbo: 24.268931, mmd: 0.000616, reconstruction: 0.007639, kl: 23.866174, classification: 0.395118, mmd_group: 0.009928,\n",
      " auc: 0.817798, auprc: 0.507240, brier: 0.126629,\n",
      "Best model updated\n",
      "Epoch 1/19\n",
      "----------\n",
      "Phase: train:\n",
      " loss: 36.265467, elbo: 27.254481, mmd: 0.000482, reconstruction: 0.005301, kl: 26.891496, classification: 0.357685, mmd_group: 0.009612,\n",
      " auc: 0.854497, auprc: 0.622286, brier: 0.113240,\n",
      "Phase: val:\n",
      " loss: 38.803118, elbo: 27.765742, mmd: 0.000384, reconstruction: 0.004071, kl: 27.377595, classification: 0.384076, mmd_group: 0.007795,\n",
      " auc: 0.825927, auprc: 0.543091, brier: 0.123493,\n",
      "Best model updated\n",
      "Epoch 2/19\n",
      "----------\n",
      "Phase: train:\n",
      " loss: 33.117015, elbo: 34.879278, mmd: 0.000510, reconstruction: 0.003609, kl: 34.549730, classification: 0.325939, mmd_group: 0.009672,\n",
      " auc: 0.878776, auprc: 0.677030, brier: 0.102245,\n",
      "Phase: val:\n",
      " loss: 39.880296, elbo: 38.356747, mmd: 0.000529, reconstruction: 0.003393, kl: 37.959948, classification: 0.393406, mmd_group: 0.007323,\n",
      " auc: 0.826764, auprc: 0.557791, brier: 0.124437,\n",
      "Epoch 3/19\n",
      "----------\n",
      "Phase: train:\n",
      " loss: 29.691379, elbo: 43.087667, mmd: 0.000550, reconstruction: 0.003271, kl: 42.793095, classification: 0.291301, mmd_group: 0.008291,\n",
      " auc: 0.907656, auprc: 0.747197, brier: 0.090272,\n",
      "Phase: val:\n",
      " loss: 39.582180, elbo: 42.066005, mmd: 0.000609, reconstruction: 0.003156, kl: 41.673213, classification: 0.389636, mmd_group: 0.006262,\n",
      " auc: 0.830474, auprc: 0.575505, brier: 0.121746,\n",
      "Epoch 4/19\n",
      "----------\n",
      "Phase: train:\n",
      " loss: 27.185360, elbo: 51.657588, mmd: 0.000470, reconstruction: 0.003125, kl: 51.387422, classification: 0.267041, mmd_group: 0.008448,\n",
      " auc: 0.923149, auprc: 0.794288, brier: 0.081348,\n",
      "Phase: val:\n",
      " loss: 41.260033, elbo: 51.689562, mmd: 0.000386, reconstruction: 0.003011, kl: 51.277916, classification: 0.408636, mmd_group: 0.007345,\n",
      " auc: 0.826503, auprc: 0.566656, brier: 0.126034,\n",
      "Epoch 5/19\n",
      "----------\n",
      "Phase: train:\n",
      " loss: 24.574819, elbo: 58.565390, mmd: 0.000422, reconstruction: 0.003016, kl: 58.320943, classification: 0.241430, mmd_group: 0.006732,\n",
      " auc: 0.936521, auprc: 0.826661, brier: 0.072427,\n",
      "Phase: val:\n",
      " loss: 42.372080, elbo: 55.408426, mmd: 0.000430, reconstruction: 0.002952, kl: 54.986143, classification: 0.419331, mmd_group: 0.006123,\n",
      " auc: 0.833775, auprc: 0.566574, brier: 0.130021,\n",
      "Epoch 6/19\n",
      "----------\n",
      "Phase: train:\n",
      " loss: 22.685177, elbo: 63.001417, mmd: 0.000441, reconstruction: 0.003018, kl: 62.776053, classification: 0.222346, mmd_group: 0.006192,\n",
      " auc: 0.946886, auprc: 0.858372, brier: 0.065558,\n"
     ]
    },
    {
     "name": "stderr",
     "output_type": "stream",
     "text": [
      "ERROR:root:Internal Python error in the inspect module.\n",
      "Below is the traceback from this internal error.\n",
      "\n"
     ]
    },
    {
     "name": "stdout",
     "output_type": "stream",
     "text": [
      "Traceback (most recent call last):\n",
      "  File \"/labs/shahlab/spfohl/miniconda3/envs/py_env/lib/python3.6/site-packages/IPython/core/magics/execution.py\", line 1238, in time\n",
      "    exec(code, glob, local_ns)\n",
      "  File \"<timed exec>\", line 1, in <module>\n",
      "  File \"/home/spfohl/projects/fairness_cf/pytorch_utils/cfvae_models.py\", line 243, in train\n",
      "    target = torch.FloatTensor(inputs.todense()).to(self.device)\n",
      "KeyboardInterrupt\n",
      "\n",
      "During handling of the above exception, another exception occurred:\n",
      "\n",
      "Traceback (most recent call last):\n",
      "  File \"/labs/shahlab/spfohl/miniconda3/envs/py_env/lib/python3.6/site-packages/IPython/core/interactiveshell.py\", line 1863, in showtraceback\n",
      "    stb = value._render_traceback_()\n",
      "AttributeError: 'KeyboardInterrupt' object has no attribute '_render_traceback_'\n",
      "\n",
      "During handling of the above exception, another exception occurred:\n",
      "\n",
      "Traceback (most recent call last):\n",
      "  File \"/labs/shahlab/spfohl/miniconda3/envs/py_env/lib/python3.6/site-packages/IPython/core/ultratb.py\", line 1095, in get_records\n",
      "    return _fixed_getinnerframes(etb, number_of_lines_of_context, tb_offset)\n",
      "  File \"/labs/shahlab/spfohl/miniconda3/envs/py_env/lib/python3.6/site-packages/IPython/core/ultratb.py\", line 311, in wrapped\n",
      "    return f(*args, **kwargs)\n",
      "  File \"/labs/shahlab/spfohl/miniconda3/envs/py_env/lib/python3.6/site-packages/IPython/core/ultratb.py\", line 345, in _fixed_getinnerframes\n",
      "    records = fix_frame_records_filenames(inspect.getinnerframes(etb, context))\n",
      "  File \"/labs/shahlab/spfohl/miniconda3/envs/py_env/lib/python3.6/inspect.py\", line 1488, in getinnerframes\n",
      "    frameinfo = (tb.tb_frame,) + getframeinfo(tb, context)\n",
      "  File \"/labs/shahlab/spfohl/miniconda3/envs/py_env/lib/python3.6/inspect.py\", line 1446, in getframeinfo\n",
      "    filename = getsourcefile(frame) or getfile(frame)\n",
      "  File \"/labs/shahlab/spfohl/miniconda3/envs/py_env/lib/python3.6/inspect.py\", line 696, in getsourcefile\n",
      "    if getattr(getmodule(object, filename), '__loader__', None) is not None:\n",
      "  File \"/labs/shahlab/spfohl/miniconda3/envs/py_env/lib/python3.6/inspect.py\", line 739, in getmodule\n",
      "    f = getabsfile(module)\n",
      "  File \"/labs/shahlab/spfohl/miniconda3/envs/py_env/lib/python3.6/inspect.py\", line 708, in getabsfile\n",
      "    _filename = getsourcefile(object) or getfile(object)\n",
      "  File \"/labs/shahlab/spfohl/miniconda3/envs/py_env/lib/python3.6/inspect.py\", line 693, in getsourcefile\n",
      "    if os.path.exists(filename):\n",
      "  File \"/labs/shahlab/spfohl/miniconda3/envs/py_env/lib/python3.6/genericpath.py\", line 19, in exists\n",
      "    os.stat(path)\n",
      "KeyboardInterrupt\n"
     ]
    },
    {
     "ename": "KeyboardInterrupt",
     "evalue": "",
     "output_type": "error",
     "traceback": [
      "\u001b[0;31m---------------------------------------------------------------------------\u001b[0m"
     ]
    }
   ],
   "source": [
    "%%time\n",
    "result = model.train(data_dict, label_dict, group_dict)"
   ]
  },
  {
   "cell_type": "code",
   "execution_count": 13,
   "metadata": {},
   "outputs": [
    {
     "name": "stderr",
     "output_type": "stream",
     "text": [
      "ERROR:root:Internal Python error in the inspect module.\n",
      "Below is the traceback from this internal error.\n",
      "\n"
     ]
    },
    {
     "name": "stdout",
     "output_type": "stream",
     "text": [
      "Traceback (most recent call last):\n",
      "  File \"/labs/shahlab/spfohl/miniconda3/envs/py_env/lib/python3.6/site-packages/IPython/core/interactiveshell.py\", line 2963, in run_code\n",
      "    exec(code_obj, self.user_global_ns, self.user_ns)\n",
      "  File \"<ipython-input-13-637ddb16782a>\", line 2, in <module>\n",
      "    result_eval = model.predict(data_dict, label_dict, group_dict, phases = ['val', 'test'])\n",
      "TypeError: predict() got multiple values for argument 'phases'\n",
      "\n",
      "During handling of the above exception, another exception occurred:\n",
      "\n",
      "Traceback (most recent call last):\n",
      "  File \"/labs/shahlab/spfohl/miniconda3/envs/py_env/lib/python3.6/site-packages/IPython/core/interactiveshell.py\", line 1863, in showtraceback\n",
      "    stb = value._render_traceback_()\n",
      "AttributeError: 'TypeError' object has no attribute '_render_traceback_'\n",
      "\n",
      "During handling of the above exception, another exception occurred:\n",
      "\n",
      "Traceback (most recent call last):\n",
      "  File \"/labs/shahlab/spfohl/miniconda3/envs/py_env/lib/python3.6/site-packages/IPython/core/ultratb.py\", line 1095, in get_records\n",
      "    return _fixed_getinnerframes(etb, number_of_lines_of_context, tb_offset)\n",
      "  File \"/labs/shahlab/spfohl/miniconda3/envs/py_env/lib/python3.6/site-packages/IPython/core/ultratb.py\", line 311, in wrapped\n",
      "    return f(*args, **kwargs)\n",
      "  File \"/labs/shahlab/spfohl/miniconda3/envs/py_env/lib/python3.6/site-packages/IPython/core/ultratb.py\", line 345, in _fixed_getinnerframes\n",
      "    records = fix_frame_records_filenames(inspect.getinnerframes(etb, context))\n",
      "  File \"/labs/shahlab/spfohl/miniconda3/envs/py_env/lib/python3.6/inspect.py\", line 1488, in getinnerframes\n",
      "    frameinfo = (tb.tb_frame,) + getframeinfo(tb, context)\n",
      "  File \"/labs/shahlab/spfohl/miniconda3/envs/py_env/lib/python3.6/inspect.py\", line 1446, in getframeinfo\n",
      "    filename = getsourcefile(frame) or getfile(frame)\n",
      "  File \"/labs/shahlab/spfohl/miniconda3/envs/py_env/lib/python3.6/inspect.py\", line 696, in getsourcefile\n",
      "    if getattr(getmodule(object, filename), '__loader__', None) is not None:\n",
      "  File \"/labs/shahlab/spfohl/miniconda3/envs/py_env/lib/python3.6/inspect.py\", line 739, in getmodule\n",
      "    f = getabsfile(module)\n",
      "  File \"/labs/shahlab/spfohl/miniconda3/envs/py_env/lib/python3.6/inspect.py\", line 708, in getabsfile\n",
      "    _filename = getsourcefile(object) or getfile(object)\n",
      "  File \"/labs/shahlab/spfohl/miniconda3/envs/py_env/lib/python3.6/inspect.py\", line 693, in getsourcefile\n",
      "    if os.path.exists(filename):\n",
      "  File \"/labs/shahlab/spfohl/miniconda3/envs/py_env/lib/python3.6/genericpath.py\", line 19, in exists\n",
      "    os.stat(path)\n",
      "KeyboardInterrupt\n"
     ]
    },
    {
     "ename": "TypeError",
     "evalue": "predict() got multiple values for argument 'phases'",
     "output_type": "error",
     "traceback": [
      "\u001b[0;31m---------------------------------------------------------------------------\u001b[0m"
     ]
    }
   ],
   "source": [
    "# result_final_classifier = model.train(data_dict, label_dict, group_dict)\n",
    "result_eval = model.predict(data_dict, label_dict, group_dict, phases = ['val', 'test'])"
   ]
  },
  {
   "cell_type": "code",
   "execution_count": null,
   "metadata": {},
   "outputs": [],
   "source": [
    "## Save weights\n",
    "# model.save_weights(os.path.join(checkpoints_path, '{}.chk'.format(grid_element)))"
   ]
  }
 ],
 "metadata": {
  "kernelspec": {
   "display_name": "Python 3",
   "language": "python",
   "name": "python3"
  },
  "language_info": {
   "codemirror_mode": {
    "name": "ipython",
    "version": 3
   },
   "file_extension": ".py",
   "mimetype": "text/x-python",
   "name": "python",
   "nbconvert_exporter": "python",
   "pygments_lexer": "ipython3",
   "version": "3.6.7"
  }
 },
 "nbformat": 4,
 "nbformat_minor": 2
}
