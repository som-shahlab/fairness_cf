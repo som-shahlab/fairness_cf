{
 "cells": [
  {
   "cell_type": "code",
   "execution_count": 1,
   "metadata": {},
   "outputs": [],
   "source": [
    "import numpy as np\n",
    "import os\n",
    "import torch\n",
    "import pandas as pd\n",
    "import yaml\n",
    "\n",
    "from sklearn.externals import joblib\n",
    "\n",
    "from pytorch_utils.cfvae_models import CFVAEModel"
   ]
  },
  {
   "cell_type": "code",
   "execution_count": 2,
   "metadata": {},
   "outputs": [],
   "source": [
    "outcome = 'los'\n",
    "sensitive_variable = 'gender'\n",
    "data_path = 'data/'\n",
    "\n",
    "# features_path = os.path.join(data_path, '{}_excluded'.format(sensitive_attibute),'features', str(0))\n",
    "features_path = os.path.join(data_path, 'features', str(0))\n",
    "label_path = os.path.join(data_path, 'labels')\n",
    "config_path = os.path.join(data_path, 'config', 'grid', 'baseline')\n",
    "checkpoints_path = os.path.join(data_path, 'checkpoints', 'scratch', outcome)\n",
    "performance_path = os.path.join(data_path, 'performance', 'scratch', outcome)"
   ]
  },
  {
   "cell_type": "code",
   "execution_count": 3,
   "metadata": {},
   "outputs": [],
   "source": [
    "os.makedirs(checkpoints_path, exist_ok=True)\n",
    "os.makedirs(performance_path, exist_ok=True)"
   ]
  },
  {
   "cell_type": "code",
   "execution_count": 4,
   "metadata": {},
   "outputs": [],
   "source": [
    "device = torch.device(\"cuda\" if torch.cuda.is_available() else \"cpu\")"
   ]
  },
  {
   "cell_type": "code",
   "execution_count": 5,
   "metadata": {},
   "outputs": [],
   "source": [
    "features_dict = joblib.load(os.path.join(features_path, 'features.pkl'))\n",
    "master_label_dict = joblib.load(os.path.join(label_path, 'label_dict.pkl'))"
   ]
  },
  {
   "cell_type": "code",
   "execution_count": 6,
   "metadata": {},
   "outputs": [],
   "source": [
    "data_dict = {split: features_dict[split]['features'] for split in features_dict.keys()}\n",
    "label_dict = {split : master_label_dict[split][outcome] for split in master_label_dict.keys()}\n",
    "group_dict = {split : master_label_dict[split][sensitive_variable] for split in master_label_dict.keys()}"
   ]
  },
  {
   "cell_type": "code",
   "execution_count": 7,
   "metadata": {},
   "outputs": [],
   "source": [
    "group_map = pd.read_csv(os.path.join(label_path, '{}_map.csv'.format(sensitive_variable)))"
   ]
  },
  {
   "cell_type": "code",
   "execution_count": 8,
   "metadata": {},
   "outputs": [],
   "source": [
    "# # with open(os.path.join(config_path, '{}.yaml'.format(grid_element)), 'r') as fp:\n",
    "# #     config_dict = yaml.load(fp)\n",
    "    \n",
    "# CFVAE\n",
    "config_dict = {\n",
    "    # Standard parameters\n",
    "    'input_dim' : data_dict['train'].shape[1],\n",
    "    'num_groups' : len(np.unique(group_dict['train'])),\n",
    "    'lr' : 1e-3,\n",
    "    'lr_final_classifier' : 1e-3,\n",
    "    'gamma' : 0.99,\n",
    "    'num_epochs' : 10,\n",
    "    'iters_per_epoch' : 100,\n",
    "    'output_dim' : 2,\n",
    "    'batch_size' : 256,\n",
    "    'sparse' : True,\n",
    "    'sparse_mode' : 'binary',\n",
    "    # Parameters corresponding to the size of the VAE\n",
    "    'group_embed_dim' : 64,\n",
    "    'latent_dim' : 64,\n",
    "    'num_hidden' : 2,\n",
    "    'drop_prob' : 0.0,\n",
    "    'resnet' : False,\n",
    "    'normalize' : False,\n",
    "    # Parameters corresponding to the size of classifier\n",
    "    'hidden_dim_classifier' : 128,\n",
    "    'num_hidden_classifier' : 1,\n",
    "    'drop_prob_classifier' : 0.0,\n",
    "    'resnet_classifier' : False,\n",
    "    'normalize_classifier' : False,\n",
    "\n",
    "    # Lambda\n",
    "    'lambda_reconstruction' : 1e3,\n",
    "    'lambda_mmd' : 1e4,\n",
    "    'lambda_kl' : 0.0,\n",
    "    'lambda_classification' : 1e1,\n",
    "    'lambda_mmd_group' : 1e3\n",
    "}"
   ]
  },
  {
   "cell_type": "code",
   "execution_count": 9,
   "metadata": {},
   "outputs": [],
   "source": [
    "if sensitive_variable == 'gender':\n",
    "    data_dict = {k: v[group_dict[k] < 2] for k,v in data_dict.items()}\n",
    "    label_dict = {k: v[group_dict[k] < 2] for k,v in label_dict.items()}\n",
    "    group_dict = {k: v[group_dict[k] < 2] for k,v in group_dict.items()}"
   ]
  },
  {
   "cell_type": "code",
   "execution_count": 10,
   "metadata": {
    "scrolled": true
   },
   "outputs": [
    {
     "name": "stdout",
     "output_type": "stream",
     "text": [
      "VAEEncoder(\n",
      "  (encoder): FeedforwardNet(\n",
      "    (layers): ModuleList(\n",
      "      (0): HiddenLinearLayer(\n",
      "        (linear): LinearLayerWrapper(\n",
      "          (linear): EmbeddingBagLinear(\n",
      "            in_features=368117, out_features=256, bias=True\n",
      "            (embed): EmbeddingBag(368117, 256, mode=sum)\n",
      "          )\n",
      "        )\n",
      "        (dropout): Dropout(p=0.0)\n",
      "      )\n",
      "      (1): HiddenLinearLayer(\n",
      "        (linear): LinearLayerWrapper(\n",
      "          (linear): Linear(in_features=256, out_features=128, bias=True)\n",
      "        )\n",
      "        (dropout): Dropout(p=0.0)\n",
      "      )\n",
      "      (2): Linear(in_features=128, out_features=128, bias=True)\n",
      "    )\n",
      "  )\n",
      "  (reparameterization_layer): ReparameterizationLayer()\n",
      ")\n",
      "ConditionalDecoder(\n",
      "  (decoder): FeedforwardNet(\n",
      "    (layers): ModuleList(\n",
      "      (0): HiddenLinearLayer(\n",
      "        (linear): LinearLayerWrapper(\n",
      "          (linear): Linear(in_features=80, out_features=160, bias=True)\n",
      "        )\n",
      "        (dropout): Dropout(p=0.0)\n",
      "      )\n",
      "      (1): HiddenLinearLayer(\n",
      "        (linear): LinearLayerWrapper(\n",
      "          (linear): Linear(in_features=160, out_features=320, bias=True)\n",
      "        )\n",
      "        (dropout): Dropout(p=0.0)\n",
      "      )\n",
      "      (2): Linear(in_features=320, out_features=368117, bias=True)\n",
      "    )\n",
      "  )\n",
      "  (conditional_layer): Embedding(2, 16)\n",
      ")\n",
      "ConditionalDecoder(\n",
      "  (decoder): FeedforwardNet(\n",
      "    (layers): ModuleList(\n",
      "      (0): HiddenLinearLayer(\n",
      "        (linear): LinearLayerWrapper(\n",
      "          (linear): Linear(in_features=80, out_features=128, bias=True)\n",
      "        )\n",
      "        (dropout): Dropout(p=0.0)\n",
      "      )\n",
      "      (1): Linear(in_features=128, out_features=2, bias=True)\n",
      "    )\n",
      "  )\n",
      "  (conditional_layer): Embedding(2, 16)\n",
      ")\n"
     ]
    }
   ],
   "source": [
    "model = CFVAEModel(config_dict)\n",
    "for child in model.model.children():\n",
    "    print(child)"
   ]
  },
  {
   "cell_type": "code",
   "execution_count": 11,
   "metadata": {},
   "outputs": [
    {
     "name": "stdout",
     "output_type": "stream",
     "text": [
      "Epoch 0/9\n",
      "----------\n",
      "Phase: train:\n",
      " loss: 71.090557, elbo: 3.334376, mmd: 0.000577, reconstruction: 0.058832, kl: 2.762785, classification: 0.512759, mmd_group: 0.001364,\n",
      " auc: 0.556999, auprc: 0.235462, brier: 0.164250,\n",
      "Phase: val:\n",
      " loss: 11.560024, elbo: 2.988106, mmd: 0.000250, reconstruction: 0.003352, kl: 2.483518, classification: 0.501236, mmd_group: 0.000699,\n",
      " auc: 0.576016, auprc: 0.252385, brier: 0.160172,\n",
      "Best model updated\n",
      "Epoch 1/9\n",
      "----------\n",
      "Phase: train:\n",
      " loss: 11.209934, elbo: 3.251243, mmd: 0.000242, reconstruction: 0.003265, kl: 2.763431, classification: 0.484547, mmd_group: 0.000682,\n",
      " auc: 0.628552, auprc: 0.309821, brier: 0.154596,\n",
      "Phase: val:\n",
      " loss: 11.031716, elbo: 4.209954, mmd: 0.000251, reconstruction: 0.003180, kl: 3.744842, classification: 0.461932, mmd_group: 0.000721,\n",
      " auc: 0.698539, auprc: 0.376926, brier: 0.147164,\n",
      "Best model updated\n",
      "Epoch 2/9\n",
      "----------\n",
      "Phase: train:\n",
      " loss: 10.660005, elbo: 4.193859, mmd: 0.000244, reconstruction: 0.003167, kl: 3.756065, classification: 0.434627, mmd_group: 0.000702,\n",
      " auc: 0.743642, auprc: 0.450382, brier: 0.137582,\n",
      "Phase: val:\n",
      " loss: 10.656280, elbo: 4.060526, mmd: 0.000257, reconstruction: 0.003104, kl: 3.630740, classification: 0.426682, mmd_group: 0.000714,\n",
      " auc: 0.763161, auprc: 0.470338, brier: 0.135345,\n",
      "Best model updated\n",
      "Epoch 3/9\n",
      "----------\n",
      "Phase: train:\n",
      " loss: 10.153933, elbo: 5.350944, mmd: 0.000244, reconstruction: 0.003106, kl: 4.955262, classification: 0.392576, mmd_group: 0.000687,\n",
      " auc: 0.809927, auprc: 0.548415, brier: 0.123988,\n",
      "Phase: val:\n",
      " loss: 10.437851, elbo: 5.538919, mmd: 0.000264, reconstruction: 0.003040, kl: 5.132462, classification: 0.403417, mmd_group: 0.000725,\n",
      " auc: 0.801465, auprc: 0.526033, brier: 0.128055,\n",
      "Best model updated\n",
      "Epoch 4/9\n",
      "----------\n",
      "Phase: train:\n",
      " loss: 9.714290, elbo: 6.474172, mmd: 0.000242, reconstruction: 0.003010, kl: 6.111584, classification: 0.359578, mmd_group: 0.000684,\n",
      " auc: 0.846747, auprc: 0.620970, brier: 0.112537,\n",
      "Phase: val:\n",
      " loss: 10.042245, elbo: 6.782660, mmd: 0.000243, reconstruction: 0.002985, kl: 6.385635, classification: 0.394039, mmd_group: 0.000686,\n",
      " auc: 0.815958, auprc: 0.548232, brier: 0.124755,\n",
      "Best model updated\n",
      "Epoch 5/9\n",
      "----------\n",
      "Phase: train:\n",
      " loss: 9.382855, elbo: 7.591225, mmd: 0.000242, reconstruction: 0.003007, kl: 7.258738, classification: 0.329480, mmd_group: 0.000664,\n",
      " auc: 0.874494, auprc: 0.682508, brier: 0.102390,\n",
      "Phase: val:\n",
      " loss: 10.204073, elbo: 8.153292, mmd: 0.000258, reconstruction: 0.002952, kl: 7.753070, classification: 0.397271, mmd_group: 0.000700,\n",
      " auc: 0.823352, auprc: 0.561926, brier: 0.126112,\n",
      "Epoch 6/9\n",
      "----------\n"
     ]
    },
    {
     "name": "stderr",
     "output_type": "stream",
     "text": [
      "ERROR:root:Internal Python error in the inspect module.\n",
      "Below is the traceback from this internal error.\n",
      "\n"
     ]
    },
    {
     "name": "stdout",
     "output_type": "stream",
     "text": [
      "Traceback (most recent call last):\n",
      "  File \"/labs/shahlab/spfohl/miniconda3/envs/py_env/lib/python3.6/site-packages/IPython/core/magics/execution.py\", line 1238, in time\n",
      "    exec(code, glob, local_ns)\n",
      "  File \"<timed exec>\", line 1, in <module>\n",
      "  File \"/home/spfohl/projects/fairness_cf/pytorch_utils/cfvae_models.py\", line 276, in train\n",
      "    batch_loss_dict['loss'].backward()\n",
      "  File \"/labs/shahlab/spfohl/miniconda3/envs/py_env/lib/python3.6/site-packages/torch/tensor.py\", line 102, in backward\n",
      "    torch.autograd.backward(self, gradient, retain_graph, create_graph)\n",
      "  File \"/labs/shahlab/spfohl/miniconda3/envs/py_env/lib/python3.6/site-packages/torch/autograd/__init__.py\", line 90, in backward\n",
      "    allow_unreachable=True)  # allow_unreachable flag\n",
      "KeyboardInterrupt\n",
      "\n",
      "During handling of the above exception, another exception occurred:\n",
      "\n",
      "Traceback (most recent call last):\n",
      "  File \"/labs/shahlab/spfohl/miniconda3/envs/py_env/lib/python3.6/site-packages/IPython/core/interactiveshell.py\", line 1863, in showtraceback\n",
      "    stb = value._render_traceback_()\n",
      "AttributeError: 'KeyboardInterrupt' object has no attribute '_render_traceback_'\n",
      "\n",
      "During handling of the above exception, another exception occurred:\n",
      "\n",
      "Traceback (most recent call last):\n",
      "  File \"/labs/shahlab/spfohl/miniconda3/envs/py_env/lib/python3.6/site-packages/IPython/core/ultratb.py\", line 1095, in get_records\n",
      "    return _fixed_getinnerframes(etb, number_of_lines_of_context, tb_offset)\n",
      "  File \"/labs/shahlab/spfohl/miniconda3/envs/py_env/lib/python3.6/site-packages/IPython/core/ultratb.py\", line 311, in wrapped\n",
      "    return f(*args, **kwargs)\n",
      "  File \"/labs/shahlab/spfohl/miniconda3/envs/py_env/lib/python3.6/site-packages/IPython/core/ultratb.py\", line 345, in _fixed_getinnerframes\n",
      "    records = fix_frame_records_filenames(inspect.getinnerframes(etb, context))\n",
      "  File \"/labs/shahlab/spfohl/miniconda3/envs/py_env/lib/python3.6/inspect.py\", line 1488, in getinnerframes\n",
      "    frameinfo = (tb.tb_frame,) + getframeinfo(tb, context)\n",
      "  File \"/labs/shahlab/spfohl/miniconda3/envs/py_env/lib/python3.6/inspect.py\", line 1446, in getframeinfo\n",
      "    filename = getsourcefile(frame) or getfile(frame)\n",
      "  File \"/labs/shahlab/spfohl/miniconda3/envs/py_env/lib/python3.6/inspect.py\", line 696, in getsourcefile\n",
      "    if getattr(getmodule(object, filename), '__loader__', None) is not None:\n",
      "  File \"/labs/shahlab/spfohl/miniconda3/envs/py_env/lib/python3.6/inspect.py\", line 739, in getmodule\n",
      "    f = getabsfile(module)\n",
      "  File \"/labs/shahlab/spfohl/miniconda3/envs/py_env/lib/python3.6/inspect.py\", line 708, in getabsfile\n",
      "    _filename = getsourcefile(object) or getfile(object)\n",
      "  File \"/labs/shahlab/spfohl/miniconda3/envs/py_env/lib/python3.6/inspect.py\", line 693, in getsourcefile\n",
      "    if os.path.exists(filename):\n",
      "  File \"/labs/shahlab/spfohl/miniconda3/envs/py_env/lib/python3.6/genericpath.py\", line 19, in exists\n",
      "    os.stat(path)\n",
      "KeyboardInterrupt\n"
     ]
    },
    {
     "ename": "KeyboardInterrupt",
     "evalue": "",
     "output_type": "error",
     "traceback": [
      "\u001b[0;31m---------------------------------------------------------------------------\u001b[0m"
     ]
    }
   ],
   "source": [
    "%%time\n",
    "result = model.train(data_dict, label_dict, group_dict)"
   ]
  },
  {
   "cell_type": "code",
   "execution_count": 12,
   "metadata": {},
   "outputs": [],
   "source": [
    "# result_final_classifier = model.train(data_dict, label_dict, group_dict)\n",
    "result_eval = model.predict(data_dict, label_dict, group_dict, phases = ['val', 'test'])"
   ]
  },
  {
   "cell_type": "code",
   "execution_count": 13,
   "metadata": {},
   "outputs": [
    {
     "ename": "NameError",
     "evalue": "name 'result' is not defined",
     "output_type": "error",
     "traceback": [
      "\u001b[0;31m---------------------------------------------------------------------------\u001b[0m",
      "\u001b[0;31mNameError\u001b[0m                                 Traceback (most recent call last)",
      "\u001b[0;32m<ipython-input-13-8880e1722eec>\u001b[0m in \u001b[0;36m<module>\u001b[0;34m()\u001b[0m\n\u001b[0;32m----> 1\u001b[0;31m \u001b[0mmodel\u001b[0m\u001b[0;34m.\u001b[0m\u001b[0mprocess_result_dict\u001b[0m\u001b[0;34m(\u001b[0m\u001b[0mresult\u001b[0m\u001b[0;34m)\u001b[0m\u001b[0;34m\u001b[0m\u001b[0;34m\u001b[0m\u001b[0m\n\u001b[0m",
      "\u001b[0;31mNameError\u001b[0m: name 'result' is not defined"
     ]
    }
   ],
   "source": [
    "model.process_result_dict(result)"
   ]
  },
  {
   "cell_type": "code",
   "execution_count": null,
   "metadata": {
    "scrolled": true
   },
   "outputs": [],
   "source": [
    "model.process_result_dict(result_eval[1])"
   ]
  }
 ],
 "metadata": {
  "kernelspec": {
   "display_name": "Python 3",
   "language": "python",
   "name": "python3"
  },
  "language_info": {
   "codemirror_mode": {
    "name": "ipython",
    "version": 3
   },
   "file_extension": ".py",
   "mimetype": "text/x-python",
   "name": "python",
   "nbconvert_exporter": "python",
   "pygments_lexer": "ipython3",
   "version": "3.6.7"
  }
 },
 "nbformat": 4,
 "nbformat_minor": 2
}
