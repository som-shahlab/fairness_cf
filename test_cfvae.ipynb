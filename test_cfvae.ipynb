{
 "cells": [
  {
   "cell_type": "code",
   "execution_count": 1,
   "metadata": {},
   "outputs": [],
   "source": [
    "import numpy as np\n",
    "import os\n",
    "import torch\n",
    "import pandas as pd\n",
    "import yaml\n",
    "\n",
    "from sklearn.externals import joblib\n",
    "\n",
    "from pytorch_utils.cfvae_models import CFVAEModel"
   ]
  },
  {
   "cell_type": "code",
   "execution_count": 2,
   "metadata": {},
   "outputs": [],
   "source": [
    "outcome = 'los'\n",
    "sensitive_variable = 'age'\n",
    "data_path = 'data/'\n",
    "\n",
    "# features_path = os.path.join(data_path, '{}_excluded'.format(sensitive_attibute),'features', str(0))\n",
    "features_path = os.path.join(data_path, 'features', str(0))\n",
    "label_path = os.path.join(data_path, 'labels')\n",
    "config_path = os.path.join(data_path, 'config', 'grid', 'baseline')\n",
    "checkpoints_path = os.path.join(data_path, 'checkpoints', 'scratch', outcome)\n",
    "performance_path = os.path.join(data_path, 'performance', 'scratch', outcome)"
   ]
  },
  {
   "cell_type": "code",
   "execution_count": 3,
   "metadata": {},
   "outputs": [],
   "source": [
    "os.makedirs(checkpoints_path, exist_ok=True)\n",
    "os.makedirs(performance_path, exist_ok=True)"
   ]
  },
  {
   "cell_type": "code",
   "execution_count": 4,
   "metadata": {},
   "outputs": [],
   "source": [
    "device = torch.device(\"cuda\" if torch.cuda.is_available() else \"cpu\")"
   ]
  },
  {
   "cell_type": "code",
   "execution_count": 5,
   "metadata": {},
   "outputs": [],
   "source": [
    "features_dict = joblib.load(os.path.join(features_path, 'features.pkl'))\n",
    "master_label_dict = joblib.load(os.path.join(label_path, 'label_dict.pkl'))"
   ]
  },
  {
   "cell_type": "code",
   "execution_count": 6,
   "metadata": {},
   "outputs": [],
   "source": [
    "data_dict = {split: features_dict[split]['features'] for split in features_dict.keys()}\n",
    "label_dict = {split : master_label_dict[split][outcome] for split in master_label_dict.keys()}\n",
    "group_dict = {split : master_label_dict[split][sensitive_variable] for split in master_label_dict.keys()}"
   ]
  },
  {
   "cell_type": "code",
   "execution_count": 7,
   "metadata": {},
   "outputs": [],
   "source": [
    "group_map = pd.read_csv(os.path.join(label_path, '{}_map.csv'.format(sensitive_variable)))"
   ]
  },
  {
   "cell_type": "code",
   "execution_count": 8,
   "metadata": {},
   "outputs": [],
   "source": [
    "# # with open(os.path.join(config_path, '{}.yaml'.format(grid_element)), 'r') as fp:\n",
    "# #     config_dict = yaml.load(fp)\n",
    "    \n",
    "# CFVAE\n",
    "config_dict = {\n",
    "    # Standard parameters\n",
    "    'input_dim' : data_dict['train'].shape[1],\n",
    "    'num_groups' : group_map.shape[0],\n",
    "    'lr' : 1e-3,\n",
    "    'lr_final_classifier' : 1e-3,\n",
    "    'gamma' : 0.99,\n",
    "    'num_epochs' : 10,\n",
    "    'iters_per_epoch' : 100,\n",
    "    'output_dim' : 2,\n",
    "    'batch_size' : 256,\n",
    "    'sparse' : True,\n",
    "    'sparse_mode' : 'binary',\n",
    "    # Parameters corresponding to the size of the VAE\n",
    "    'group_embed_dim' : 64,\n",
    "    'latent_dim' : 64,\n",
    "    'num_hidden' : 2,\n",
    "    'drop_prob' : 0.0,\n",
    "    'resnet' : False,\n",
    "    'normalize' : False,\n",
    "    # Parameters corresponding to the size of classifier\n",
    "    'hidden_dim_classifier' : 128,\n",
    "    'num_hidden_classifier' : 1,\n",
    "    'drop_prob_classifier' : 0.0,\n",
    "    'resnet_classifier' : False,\n",
    "    'normalize_classifier' : False,\n",
    "\n",
    "    # Lambda\n",
    "    'lambda_reconstruction' : 1e3,\n",
    "    'lambda_mmd' : 1e4,\n",
    "    'lambda_kl' : 0.0,\n",
    "    'lambda_classification' : 1e1,\n",
    "    'lambda_mmd_group' : 1e3\n",
    "}"
   ]
  },
  {
   "cell_type": "code",
   "execution_count": 9,
   "metadata": {
    "scrolled": true
   },
   "outputs": [
    {
     "name": "stdout",
     "output_type": "stream",
     "text": [
      "VAEEncoder(\n",
      "  (encoder): FeedforwardNet(\n",
      "    (layers): ModuleList(\n",
      "      (0): HiddenLinearLayer(\n",
      "        (linear): LinearLayerWrapper(\n",
      "          (linear): EmbeddingBagLinear(\n",
      "            in_features=368117, out_features=256, bias=True\n",
      "            (embed): EmbeddingBag(368117, 256, mode=sum)\n",
      "          )\n",
      "        )\n",
      "        (dropout): Dropout(p=0.0)\n",
      "      )\n",
      "      (1): HiddenLinearLayer(\n",
      "        (linear): LinearLayerWrapper(\n",
      "          (linear): Linear(in_features=256, out_features=128, bias=True)\n",
      "        )\n",
      "        (dropout): Dropout(p=0.0)\n",
      "      )\n",
      "      (2): Linear(in_features=128, out_features=128, bias=True)\n",
      "    )\n",
      "  )\n",
      "  (reparameterization_layer): ReparameterizationLayer()\n",
      ")\n",
      "ConditionalDecoder(\n",
      "  (decoder): FeedforwardNet(\n",
      "    (layers): ModuleList(\n",
      "      (0): HiddenLinearLayer(\n",
      "        (linear): LinearLayerWrapper(\n",
      "          (linear): Linear(in_features=128, out_features=256, bias=True)\n",
      "        )\n",
      "        (dropout): Dropout(p=0.0)\n",
      "      )\n",
      "      (1): HiddenLinearLayer(\n",
      "        (linear): LinearLayerWrapper(\n",
      "          (linear): Linear(in_features=256, out_features=512, bias=True)\n",
      "        )\n",
      "        (dropout): Dropout(p=0.0)\n",
      "      )\n",
      "      (2): Linear(in_features=512, out_features=368117, bias=True)\n",
      "    )\n",
      "  )\n",
      "  (conditional_layer): Embedding(4, 64)\n",
      ")\n",
      "ConditionalDecoder(\n",
      "  (decoder): FeedforwardNet(\n",
      "    (layers): ModuleList(\n",
      "      (0): HiddenLinearLayer(\n",
      "        (linear): LinearLayerWrapper(\n",
      "          (linear): Linear(in_features=128, out_features=128, bias=True)\n",
      "        )\n",
      "        (dropout): Dropout(p=0.0)\n",
      "      )\n",
      "      (1): Linear(in_features=128, out_features=2, bias=True)\n",
      "    )\n",
      "  )\n",
      "  (conditional_layer): Embedding(4, 64)\n",
      ")\n"
     ]
    }
   ],
   "source": [
    "model = CFVAEModel(config_dict)\n",
    "for child in model.model.children():\n",
    "    print(child)"
   ]
  },
  {
   "cell_type": "code",
   "execution_count": 10,
   "metadata": {},
   "outputs": [
    {
     "name": "stdout",
     "output_type": "stream",
     "text": [
      "Epoch 0/9\n",
      "----------\n",
      "Phase: train:\n",
      " loss: 60.481441, elbo: 3.097980, mmd: 0.000412, reconstruction: 0.048110, kl: 2.530248, classification: 0.519622, mmd_group: 0.003054,\n",
      " auc: 0.549356, auprc: 0.222397, brier: 0.167573,\n",
      "Phase: val:\n",
      " loss: 13.129423, elbo: 3.557044, mmd: 0.000251, reconstruction: 0.003324, kl: 3.058264, classification: 0.495457, mmd_group: 0.002340,\n",
      " auc: 0.600158, auprc: 0.279223, brier: 0.158356,\n",
      "Best model updated\n",
      "Epoch 1/9\n",
      "----------\n",
      "Phase: train:\n",
      " loss: 12.680184, elbo: 4.378470, mmd: 0.000247, reconstruction: 0.003210, kl: 3.899285, classification: 0.475975, mmd_group: 0.002236,\n",
      " auc: 0.658644, auprc: 0.361565, brier: 0.151370,\n",
      "Phase: val:\n",
      " loss: 12.375405, elbo: 5.843115, mmd: 0.000250, reconstruction: 0.003121, kl: 5.386841, classification: 0.453154, mmd_group: 0.002219,\n",
      " auc: 0.705285, auprc: 0.419517, brier: 0.142807,\n",
      "Best model updated\n",
      "Epoch 2/9\n",
      "----------\n",
      "Phase: train:\n",
      " loss: 11.952869, elbo: 6.647823, mmd: 0.000252, reconstruction: 0.003103, kl: 6.226743, classification: 0.417978, mmd_group: 0.002153,\n",
      " auc: 0.771442, auprc: 0.509690, brier: 0.131265,\n",
      "Phase: val:\n",
      " loss: 11.787503, elbo: 7.352168, mmd: 0.000244, reconstruction: 0.003020, kl: 6.929032, classification: 0.420117, mmd_group: 0.002128,\n",
      " auc: 0.778331, auprc: 0.492081, brier: 0.132853,\n",
      "Best model updated\n",
      "Epoch 3/9\n",
      "----------\n",
      "Phase: train:\n",
      " loss: 11.457409, elbo: 9.696488, mmd: 0.000255, reconstruction: 0.002976, kl: 9.310904, classification: 0.382608, mmd_group: 0.002101,\n",
      " auc: 0.823272, auprc: 0.586130, brier: 0.119936,\n",
      "Phase: val:\n",
      " loss: 11.867090, elbo: 11.519900, mmd: 0.000274, reconstruction: 0.002925, kl: 11.111718, classification: 0.405257, mmd_group: 0.002148,\n",
      " auc: 0.809270, auprc: 0.538511, brier: 0.129476,\n",
      "Epoch 4/9\n",
      "----------\n",
      "Phase: train:\n",
      " loss: 11.109079, elbo: 12.217666, mmd: 0.000259, reconstruction: 0.002956, kl: 11.859580, classification: 0.355129, mmd_group: 0.002013,\n",
      " auc: 0.852651, auprc: 0.644145, brier: 0.111066,\n",
      "Phase: val:\n",
      " loss: 11.619305, elbo: 13.095670, mmd: 0.000266, reconstruction: 0.002877, kl: 12.692492, classification: 0.400301, mmd_group: 0.002075,\n",
      " auc: 0.813133, auprc: 0.549658, brier: 0.127646,\n",
      "Best model updated\n",
      "Epoch 5/9\n",
      "----------\n",
      "Phase: train:\n",
      " loss: 10.757353, elbo: 13.833504, mmd: 0.000258, reconstruction: 0.002849, kl: 13.496090, classification: 0.334566, mmd_group: 0.001979,\n",
      " auc: 0.873897, auprc: 0.688846, brier: 0.103761,\n",
      "Phase: val:\n",
      " loss: 11.620983, elbo: 13.606738, mmd: 0.000274, reconstruction: 0.002840, kl: 13.204874, classification: 0.399024, mmd_group: 0.002050,\n",
      " auc: 0.816650, auprc: 0.561453, brier: 0.124865,\n",
      "Epoch 6/9\n",
      "----------\n",
      "Phase: train:\n",
      " loss: 10.517208, elbo: 16.162436, mmd: 0.000260, reconstruction: 0.002848, kl: 15.847944, classification: 0.311644, mmd_group: 0.001955,\n",
      " auc: 0.890308, auprc: 0.729733, brier: 0.095525,\n",
      "Phase: val:\n",
      " loss: 11.284467, elbo: 15.202729, mmd: 0.000256, reconstruction: 0.002813, kl: 14.803322, classification: 0.396594, mmd_group: 0.001944,\n",
      " auc: 0.825951, auprc: 0.567463, brier: 0.123862,\n",
      "Best model updated\n",
      "Epoch 7/9\n",
      "----------\n",
      "Phase: train:\n",
      " loss: 10.274440, elbo: 18.256374, mmd: 0.000261, reconstruction: 0.002833, kl: 17.962255, classification: 0.291287, mmd_group: 0.001923,\n",
      " auc: 0.904264, auprc: 0.759617, brier: 0.088065,\n",
      "Phase: val:\n",
      " loss: 11.690907, elbo: 16.614458, mmd: 0.000286, reconstruction: 0.002788, kl: 16.210153, classification: 0.401516, mmd_group: 0.002023,\n",
      " auc: 0.824948, auprc: 0.569853, brier: 0.124777,\n",
      "Epoch 8/9\n",
      "----------\n"
     ]
    },
    {
     "name": "stderr",
     "output_type": "stream",
     "text": [
      "ERROR:root:Internal Python error in the inspect module.\n",
      "Below is the traceback from this internal error.\n",
      "\n"
     ]
    },
    {
     "name": "stdout",
     "output_type": "stream",
     "text": [
      "Traceback (most recent call last):\n",
      "  File \"/labs/shahlab/spfohl/miniconda3/envs/py_env/lib/python3.6/site-packages/IPython/core/magics/execution.py\", line 1238, in time\n",
      "    exec(code, glob, local_ns)\n",
      "  File \"<timed exec>\", line 1, in <module>\n",
      "  File \"/home/spfohl/projects/fairness_cf/pytorch_utils/cfvae_models.py\", line 240, in train\n",
      "    target = torch.FloatTensor(inputs.todense()).to(self.device)\n",
      "  File \"/labs/shahlab/spfohl/miniconda3/envs/py_env/lib/python3.6/site-packages/scipy/sparse/base.py\", line 792, in todense\n",
      "    return np.asmatrix(self.toarray(order=order, out=out))\n",
      "  File \"/labs/shahlab/spfohl/miniconda3/envs/py_env/lib/python3.6/site-packages/scipy/sparse/compressed.py\", line 954, in toarray\n",
      "    _sparsetools.csr_todense(M, N, x.indptr, x.indices, x.data, y)\n",
      "KeyboardInterrupt\n",
      "\n",
      "During handling of the above exception, another exception occurred:\n",
      "\n",
      "Traceback (most recent call last):\n",
      "  File \"/labs/shahlab/spfohl/miniconda3/envs/py_env/lib/python3.6/site-packages/IPython/core/interactiveshell.py\", line 1863, in showtraceback\n",
      "    stb = value._render_traceback_()\n",
      "AttributeError: 'KeyboardInterrupt' object has no attribute '_render_traceback_'\n",
      "\n",
      "During handling of the above exception, another exception occurred:\n",
      "\n",
      "Traceback (most recent call last):\n",
      "  File \"/labs/shahlab/spfohl/miniconda3/envs/py_env/lib/python3.6/site-packages/IPython/core/ultratb.py\", line 1095, in get_records\n",
      "    return _fixed_getinnerframes(etb, number_of_lines_of_context, tb_offset)\n",
      "  File \"/labs/shahlab/spfohl/miniconda3/envs/py_env/lib/python3.6/site-packages/IPython/core/ultratb.py\", line 311, in wrapped\n",
      "    return f(*args, **kwargs)\n",
      "  File \"/labs/shahlab/spfohl/miniconda3/envs/py_env/lib/python3.6/site-packages/IPython/core/ultratb.py\", line 345, in _fixed_getinnerframes\n",
      "    records = fix_frame_records_filenames(inspect.getinnerframes(etb, context))\n",
      "  File \"/labs/shahlab/spfohl/miniconda3/envs/py_env/lib/python3.6/inspect.py\", line 1488, in getinnerframes\n",
      "    frameinfo = (tb.tb_frame,) + getframeinfo(tb, context)\n",
      "  File \"/labs/shahlab/spfohl/miniconda3/envs/py_env/lib/python3.6/inspect.py\", line 1446, in getframeinfo\n",
      "    filename = getsourcefile(frame) or getfile(frame)\n",
      "  File \"/labs/shahlab/spfohl/miniconda3/envs/py_env/lib/python3.6/inspect.py\", line 696, in getsourcefile\n",
      "    if getattr(getmodule(object, filename), '__loader__', None) is not None:\n",
      "  File \"/labs/shahlab/spfohl/miniconda3/envs/py_env/lib/python3.6/inspect.py\", line 742, in getmodule\n",
      "    os.path.realpath(f)] = module.__name__\n",
      "  File \"/labs/shahlab/spfohl/miniconda3/envs/py_env/lib/python3.6/posixpath.py\", line 388, in realpath\n",
      "    path, ok = _joinrealpath(filename[:0], filename, {})\n",
      "  File \"/labs/shahlab/spfohl/miniconda3/envs/py_env/lib/python3.6/posixpath.py\", line 421, in _joinrealpath\n",
      "    newpath = join(path, name)\n",
      "KeyboardInterrupt\n"
     ]
    },
    {
     "ename": "KeyboardInterrupt",
     "evalue": "",
     "output_type": "error",
     "traceback": [
      "\u001b[0;31m---------------------------------------------------------------------------\u001b[0m"
     ]
    }
   ],
   "source": [
    "%%time\n",
    "result = model.train(data_dict, label_dict, group_dict)"
   ]
  },
  {
   "cell_type": "code",
   "execution_count": 11,
   "metadata": {},
   "outputs": [
    {
     "ename": "KeyError",
     "evalue": "'test'",
     "output_type": "error",
     "traceback": [
      "\u001b[0;31m---------------------------------------------------------------------------\u001b[0m",
      "\u001b[0;31mKeyError\u001b[0m                                  Traceback (most recent call last)",
      "\u001b[0;32m<ipython-input-11-637ddb16782a>\u001b[0m in \u001b[0;36m<module>\u001b[0;34m()\u001b[0m\n\u001b[1;32m      1\u001b[0m \u001b[0;31m# result_final_classifier = model.train(data_dict, label_dict, group_dict)\u001b[0m\u001b[0;34m\u001b[0m\u001b[0;34m\u001b[0m\u001b[0;34m\u001b[0m\u001b[0m\n\u001b[0;32m----> 2\u001b[0;31m \u001b[0mresult_eval\u001b[0m \u001b[0;34m=\u001b[0m \u001b[0mmodel\u001b[0m\u001b[0;34m.\u001b[0m\u001b[0mpredict\u001b[0m\u001b[0;34m(\u001b[0m\u001b[0mdata_dict\u001b[0m\u001b[0;34m,\u001b[0m \u001b[0mlabel_dict\u001b[0m\u001b[0;34m,\u001b[0m \u001b[0mgroup_dict\u001b[0m\u001b[0;34m,\u001b[0m \u001b[0mphases\u001b[0m \u001b[0;34m=\u001b[0m \u001b[0;34m[\u001b[0m\u001b[0;34m'val'\u001b[0m\u001b[0;34m,\u001b[0m \u001b[0;34m'test'\u001b[0m\u001b[0;34m]\u001b[0m\u001b[0;34m)\u001b[0m\u001b[0;34m\u001b[0m\u001b[0;34m\u001b[0m\u001b[0m\n\u001b[0m",
      "\u001b[0;32m~/projects/fairness_cf/pytorch_utils/cfvae_models.py\u001b[0m in \u001b[0;36mpredict\u001b[0;34m(self, data_dict, label_dict, group_dict, phases)\u001b[0m\n\u001b[1;32m    315\u001b[0m             \u001b[0moutput_dict_dict\u001b[0m \u001b[0;34m=\u001b[0m \u001b[0;34m{\u001b[0m\u001b[0;34m}\u001b[0m\u001b[0;34m\u001b[0m\u001b[0;34m\u001b[0m\u001b[0m\n\u001b[1;32m    316\u001b[0m             \u001b[0;32mfor\u001b[0m \u001b[0mphase\u001b[0m \u001b[0;32min\u001b[0m \u001b[0mphases\u001b[0m\u001b[0;34m:\u001b[0m\u001b[0;34m\u001b[0m\u001b[0;34m\u001b[0m\u001b[0m\n\u001b[0;32m--> 317\u001b[0;31m                 \u001b[0mrunning_loss_dict\u001b[0m \u001b[0;34m=\u001b[0m \u001b[0;34m{\u001b[0m\u001b[0mkey\u001b[0m \u001b[0;34m:\u001b[0m \u001b[0;36m0.0\u001b[0m \u001b[0;32mfor\u001b[0m \u001b[0mkey\u001b[0m \u001b[0;32min\u001b[0m \u001b[0mloss_dict\u001b[0m\u001b[0;34m[\u001b[0m\u001b[0mphase\u001b[0m\u001b[0;34m]\u001b[0m\u001b[0;34m.\u001b[0m\u001b[0mkeys\u001b[0m\u001b[0;34m(\u001b[0m\u001b[0;34m)\u001b[0m\u001b[0;34m}\u001b[0m\u001b[0;34m\u001b[0m\u001b[0;34m\u001b[0m\u001b[0m\n\u001b[0m\u001b[1;32m    318\u001b[0m                 \u001b[0moutput_dict\u001b[0m \u001b[0;34m=\u001b[0m \u001b[0mself\u001b[0m\u001b[0;34m.\u001b[0m\u001b[0minit_output_dict\u001b[0m\u001b[0;34m(\u001b[0m\u001b[0;34m)\u001b[0m\u001b[0;34m\u001b[0m\u001b[0;34m\u001b[0m\u001b[0m\n\u001b[1;32m    319\u001b[0m                 \u001b[0mi\u001b[0m \u001b[0;34m=\u001b[0m \u001b[0;36m0\u001b[0m\u001b[0;34m\u001b[0m\u001b[0;34m\u001b[0m\u001b[0m\n",
      "\u001b[0;31mKeyError\u001b[0m: 'test'"
     ]
    }
   ],
   "source": [
    "# result_final_classifier = model.train(data_dict, label_dict, group_dict)\n",
    "result_eval = model.predict(data_dict, label_dict, group_dict, phases = ['val', 'test'])"
   ]
  },
  {
   "cell_type": "code",
   "execution_count": null,
   "metadata": {},
   "outputs": [],
   "source": [
    "model.process_result_dict(result)"
   ]
  },
  {
   "cell_type": "code",
   "execution_count": null,
   "metadata": {
    "scrolled": true
   },
   "outputs": [],
   "source": [
    "model.process_result_dict(result_eval[1])"
   ]
  }
 ],
 "metadata": {
  "kernelspec": {
   "display_name": "Python 3",
   "language": "python",
   "name": "python3"
  },
  "language_info": {
   "codemirror_mode": {
    "name": "ipython",
    "version": 3
   },
   "file_extension": ".py",
   "mimetype": "text/x-python",
   "name": "python",
   "nbconvert_exporter": "python",
   "pygments_lexer": "ipython3",
   "version": "3.6.7"
  }
 },
 "nbformat": 4,
 "nbformat_minor": 2
}
